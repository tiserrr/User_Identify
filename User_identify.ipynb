{
  "nbformat": 4,
  "nbformat_minor": 0,
  "metadata": {
    "colab": {
      "name": "User_identify.ipynb",
      "provenance": [],
      "collapsed_sections": [],
      "toc_visible": true,
      "mount_file_id": "1Iz7OkFf8adQwpwauR6kcNLG95ywLJhGd",
      "authorship_tag": "ABX9TyO772kVl01erlvVyrdspQ9Y"
    },
    "kernelspec": {
      "name": "python3",
      "display_name": "Python 3"
    },
    "language_info": {
      "name": "python"
    }
  },
  "cells": [
    {
      "cell_type": "markdown",
      "metadata": {
        "id": "dP0Rbc2KXxXv"
      },
      "source": [
        "**Importing all the libraires we are going to use**"
      ]
    },
    {
      "cell_type": "code",
      "metadata": {
        "id": "NZK4yvEMX4iO",
        "colab": {
          "base_uri": "https://localhost:8080/"
        },
        "outputId": "ac558321-41ec-4807-f59a-98835c998292"
      },
      "source": [
        "import os\n",
        "import scipy\n",
        "import pickle\n",
        "import numpy as np\n",
        "import pandas as pd\n",
        "from scipy.sparse import csr_matrix, hstack\n",
        "from scipy import stats\n",
        "import pickle\n",
        "from statsmodels.stats.proportion import proportion_confint\n",
        "from matplotlib import pyplot as plt\n",
        "import seaborn as sns\n",
        "import warnings\n",
        "warnings.filterwarnings('ignore')\n",
        "import statsmodels\n",
        "import itertools\n",
        "from sklearn.metrics import roc_auc_score\n",
        "from sklearn.svm import LinearSVC\n",
        "from sklearn.neighbors import KNeighborsClassifier\n",
        "from sklearn.ensemble import RandomForestClassifier\n",
        "from sklearn.linear_model import LogisticRegression, LogisticRegressionCV\n",
        "from sklearn.model_selection import train_test_split, cross_val_score, StratifiedKFold, GridSearchCV\n",
        "from sklearn.metrics import accuracy_score, f1_score\n",
        "from sklearn.preprocessing import LabelEncoder\n",
        "import time\n",
        "from sklearn.linear_model import SGDClassifier\n",
        "from sklearn.preprocessing import StandardScaler\n",
        "%matplotlib inline"
      ],
      "execution_count": 1,
      "outputs": [
        {
          "output_type": "stream",
          "text": [
            "/usr/local/lib/python3.7/dist-packages/statsmodels/tools/_testing.py:19: FutureWarning: pandas.util.testing is deprecated. Use the functions in the public API at pandas.testing instead.\n",
            "  import pandas.util.testing as tm\n"
          ],
          "name": "stderr"
        }
      ]
    },
    {
      "cell_type": "code",
      "metadata": {
        "id": "kOJsq_5aYB8K"
      },
      "source": [
        "#Lets change the directory to our files\n",
        "PATH_TO_DATA = '/content/drive/MyDrive/Colab_Notebooks/User_Identify/Data_Files'"
      ],
      "execution_count": 2,
      "outputs": []
    },
    {
      "cell_type": "markdown",
      "metadata": {
        "id": "KZbOv36HeoCV"
      },
      "source": [
        "**Let's look at one of the files with data about the web pages visited by the user (number 1).**"
      ]
    },
    {
      "cell_type": "code",
      "metadata": {
        "colab": {
          "base_uri": "https://localhost:8080/",
          "height": 204
        },
        "id": "X-E6KyuXenc2",
        "outputId": "3684e0a2-0ddc-4987-c9d4-3677e032ae86"
      },
      "source": [
        "look = pd.read_csv(os.path.join(PATH_TO_DATA, '3users/user0001.csv'))\n",
        "look.head()"
      ],
      "execution_count": null,
      "outputs": [
        {
          "output_type": "execute_result",
          "data": {
            "text/html": [
              "<div>\n",
              "<style scoped>\n",
              "    .dataframe tbody tr th:only-of-type {\n",
              "        vertical-align: middle;\n",
              "    }\n",
              "\n",
              "    .dataframe tbody tr th {\n",
              "        vertical-align: top;\n",
              "    }\n",
              "\n",
              "    .dataframe thead th {\n",
              "        text-align: right;\n",
              "    }\n",
              "</style>\n",
              "<table border=\"1\" class=\"dataframe\">\n",
              "  <thead>\n",
              "    <tr style=\"text-align: right;\">\n",
              "      <th></th>\n",
              "      <th>timestamp</th>\n",
              "      <th>site</th>\n",
              "    </tr>\n",
              "  </thead>\n",
              "  <tbody>\n",
              "    <tr>\n",
              "      <th>0</th>\n",
              "      <td>2013-11-15 09:28:17</td>\n",
              "      <td>vk.com</td>\n",
              "    </tr>\n",
              "    <tr>\n",
              "      <th>1</th>\n",
              "      <td>2013-11-15 09:33:04</td>\n",
              "      <td>oracle.com</td>\n",
              "    </tr>\n",
              "    <tr>\n",
              "      <th>2</th>\n",
              "      <td>2013-11-15 09:52:48</td>\n",
              "      <td>oracle.com</td>\n",
              "    </tr>\n",
              "    <tr>\n",
              "      <th>3</th>\n",
              "      <td>2013-11-15 11:37:26</td>\n",
              "      <td>geo.mozilla.org</td>\n",
              "    </tr>\n",
              "    <tr>\n",
              "      <th>4</th>\n",
              "      <td>2013-11-15 11:40:32</td>\n",
              "      <td>oracle.com</td>\n",
              "    </tr>\n",
              "  </tbody>\n",
              "</table>\n",
              "</div>"
            ],
            "text/plain": [
              "             timestamp             site\n",
              "0  2013-11-15 09:28:17           vk.com\n",
              "1  2013-11-15 09:33:04       oracle.com\n",
              "2  2013-11-15 09:52:48       oracle.com\n",
              "3  2013-11-15 11:37:26  geo.mozilla.org\n",
              "4  2013-11-15 11:40:32       oracle.com"
            ]
          },
          "metadata": {
            "tags": []
          },
          "execution_count": 8
        }
      ]
    },
    {
      "cell_type": "markdown",
      "metadata": {
        "id": "rv_4dVgyYOj8"
      },
      "source": [
        "**Lets set a classification task: to identify user by 10 visited websites in a row. So the object in this task will be the 10 websites session visited by one user successively, signs will be indexes of that 10 sites. Targetive class - user id.**"
      ]
    },
    {
      "cell_type": "markdown",
      "metadata": {
        "id": "KfD5zG4KcPsR"
      },
      "source": [
        "##**Part 1. Training data preparation**"
      ]
    },
    {
      "cell_type": "markdown",
      "metadata": {
        "id": "2opRLt2kdZ19"
      },
      "source": [
        "**The function below gets in path to file catalogue and parameter session lengths which is 10 by default and gives out prepared DataFrame and vocabulary of websites frequencies**"
      ]
    },
    {
      "cell_type": "code",
      "metadata": {
        "id": "PIX41na2cE3l"
      },
      "source": [
        "def prepare_train_set(path_to_csv_files, session_length=10):\n",
        "    #Getting the list of all files in directory\n",
        "    list1 = os.listdir(path_to_csv_files)\n",
        "    sites = {}\n",
        "    site_id = 1\n",
        "    sess_id = 0\n",
        "    flagE = False\n",
        "    #Initializing for loop for every file\n",
        "    for pathh in list1:\n",
        "        #Working only on csv files\n",
        "        if 'csv' in pathh:\n",
        "            file1 = pd.read_csv(os.path.join(path_to_csv_files, pathh), sep=',')\n",
        "            #Checking if quantity of websites divides by 10, so we don`t need to add zeros in the end of the session\n",
        "            if file1.shape[0]%10 == 0:\n",
        "                sessionss = np.zeros((file1.shape[0]//10, 12))\n",
        "                for j in range(file1.shape[0]//10):\n",
        "                    sessionss[j][0] = sess_id\n",
        "                    sess_id += 1  \n",
        "            else:\n",
        "                sessionss = np.zeros(((file1.shape[0]//10) + 1, 12))\n",
        "                for j in range((file1.shape[0]//10) + 1):\n",
        "                    sessionss[j][0] = sess_id\n",
        "                    sess_id += 1 \n",
        "            #Creating and updating vocabulary of frequencies\n",
        "            for i in range(file1.shape[0]):\n",
        "                if file1['site'][i] in sites:\n",
        "                    sites[file1['site'][i]] = (sites[file1['site'][i]][0], sites[file1['site'][i]][1] + 1)\n",
        "                else:\n",
        "                    sites[file1['site'][i]] = (site_id, 1) \n",
        "                    site_id += 1      \n",
        "                sessionss[i//10][(i%10)+1] = sites[file1['site'][i]][0]\n",
        "                sessionss[i//10][11] = int(pathh[4:8])\n",
        "            if flagE == False:\n",
        "                sessions = sessionss\n",
        "                flagE = True\n",
        "            else:\n",
        "                sessions = np.append(sessions, sessionss, axis=0)\n",
        "    coll = ['sess_id', 'site1', 'site2', 'site3', 'site4', 'site5', 'site6', 'site7', 'site8', 'site9', 'site10', 'user_id']\n",
        "    sessions = pd.DataFrame(sessions, columns=coll, dtype='int')\n",
        "    sessions.index = sessions.sess_id\n",
        "    sessions.drop('sess_id', axis = 1, inplace=True)\n",
        "    \n",
        "    return sessions, sites"
      ],
      "execution_count": null,
      "outputs": []
    },
    {
      "cell_type": "markdown",
      "metadata": {
        "id": "jJ2m16aIgwIf"
      },
      "source": [
        "**This function is just a baseline, the first attempt, which works really slow, we will improve it later**"
      ]
    },
    {
      "cell_type": "markdown",
      "metadata": {
        "id": "VrDPj7p0jpyc"
      },
      "source": [
        "Let`s take a look on the first three users files"
      ]
    },
    {
      "cell_type": "code",
      "metadata": {
        "colab": {
          "base_uri": "https://localhost:8080/"
        },
        "id": "VDNEAfqog9yG",
        "outputId": "fe4e8ace-eeff-4e5b-87dc-efc07c09d8f6"
      },
      "source": [
        "!cat '/content/drive/MyDrive/Colab_Notebooks/User_Identify/Data_Files/3users/user0001.csv'"
      ],
      "execution_count": null,
      "outputs": [
        {
          "output_type": "stream",
          "text": [
            "timestamp,site\n",
            "2013-11-15 09:28:17,vk.com\n",
            "2013-11-15 09:33:04,oracle.com\n",
            "2013-11-15 09:52:48,oracle.com\n",
            "2013-11-15 11:37:26,geo.mozilla.org\n",
            "2013-11-15 11:40:32,oracle.com\n",
            "2013-11-15 11:40:34,google.com\n",
            "2013-11-15 11:40:35,accounts.google.com\n",
            "2013-11-15 11:40:37,mail.google.com\n",
            "2013-11-15 11:40:40,apis.google.com\n",
            "2013-11-15 11:41:35,plus.google.com\n",
            "2013-11-15 12:40:35,vk.com\n",
            "2013-11-15 12:40:37,google.com\n",
            "2013-11-15 12:40:40,google.com\n",
            "2013-11-15 12:41:35,google.com\n"
          ],
          "name": "stdout"
        }
      ]
    },
    {
      "cell_type": "code",
      "metadata": {
        "colab": {
          "base_uri": "https://localhost:8080/"
        },
        "id": "iVbx6o9Bi-gE",
        "outputId": "cb22bddf-8238-4282-cfd0-d342b7e93ae7"
      },
      "source": [
        "!cat '/content/drive/MyDrive/Colab_Notebooks/User_Identify/Data_Files/3users/user0002.csv'"
      ],
      "execution_count": null,
      "outputs": [
        {
          "output_type": "stream",
          "text": [
            "timestamp,site\n",
            "2013-11-15 09:28:17,vk.com\n",
            "2013-11-15 09:33:04,oracle.com\n",
            "2013-11-15 09:52:48,football.kulichki.ru\n",
            "2013-11-15 11:37:26,football.kulichki.ru\n",
            "2013-11-15 11:40:32,oracle.com\n"
          ],
          "name": "stdout"
        }
      ]
    },
    {
      "cell_type": "code",
      "metadata": {
        "colab": {
          "base_uri": "https://localhost:8080/"
        },
        "id": "FWYcc5ywjgtg",
        "outputId": "f61b2763-d6ef-4758-b38e-9a4afa70847c"
      },
      "source": [
        "!cat '/content/drive/MyDrive/Colab_Notebooks/User_Identify/Data_Files/3users/user0003.csv'"
      ],
      "execution_count": null,
      "outputs": [
        {
          "output_type": "stream",
          "text": [
            "timestamp,site\n",
            "2013-11-15 09:28:17,meduza.io\n",
            "2013-11-15 09:33:04,google.com\n",
            "2013-11-15 09:52:48,oracle.com\n",
            "2013-11-15 11:37:26,google.com\n",
            "2013-11-15 11:40:32,oracle.com\n",
            "2013-11-15 11:40:34,google.com\n",
            "2013-11-15 11:40:35,google.com\n",
            "2013-11-15 11:40:37,mail.google.com\n",
            "2013-11-15 11:40:40,yandex.ru\n",
            "2013-11-15 11:41:35,meduza.io\n",
            "2013-11-15 12:28:17,meduza.io\n",
            "2013-11-15 12:33:04,google.com\n",
            "2013-11-15 12:52:48,oracle.com\n"
          ],
          "name": "stdout"
        }
      ]
    },
    {
      "cell_type": "markdown",
      "metadata": {
        "id": "lS1Svjczk_mt"
      },
      "source": [
        "**Trying our function on 3 files just to see if it works properly**"
      ]
    },
    {
      "cell_type": "code",
      "metadata": {
        "id": "MylxPG_fjj7Y"
      },
      "source": [
        "train_data_toy, site_freq_3users = prepare_train_set('/content/drive/My Drive/Colab_Notebooks/User_Identify/Data_Files/3users', \n",
        "                                                     session_length=10)"
      ],
      "execution_count": null,
      "outputs": []
    },
    {
      "cell_type": "code",
      "metadata": {
        "colab": {
          "base_uri": "https://localhost:8080/",
          "height": 235
        },
        "id": "1v7WPITcl8R_",
        "outputId": "aaf8f793-8f3f-4696-bbd3-9687ef3d7b70"
      },
      "source": [
        "train_data_toy.head()"
      ],
      "execution_count": null,
      "outputs": [
        {
          "output_type": "execute_result",
          "data": {
            "text/html": [
              "<div>\n",
              "<style scoped>\n",
              "    .dataframe tbody tr th:only-of-type {\n",
              "        vertical-align: middle;\n",
              "    }\n",
              "\n",
              "    .dataframe tbody tr th {\n",
              "        vertical-align: top;\n",
              "    }\n",
              "\n",
              "    .dataframe thead th {\n",
              "        text-align: right;\n",
              "    }\n",
              "</style>\n",
              "<table border=\"1\" class=\"dataframe\">\n",
              "  <thead>\n",
              "    <tr style=\"text-align: right;\">\n",
              "      <th></th>\n",
              "      <th>site1</th>\n",
              "      <th>site2</th>\n",
              "      <th>site3</th>\n",
              "      <th>site4</th>\n",
              "      <th>site5</th>\n",
              "      <th>site6</th>\n",
              "      <th>site7</th>\n",
              "      <th>site8</th>\n",
              "      <th>site9</th>\n",
              "      <th>site10</th>\n",
              "      <th>user_id</th>\n",
              "    </tr>\n",
              "    <tr>\n",
              "      <th>sess_id</th>\n",
              "      <th></th>\n",
              "      <th></th>\n",
              "      <th></th>\n",
              "      <th></th>\n",
              "      <th></th>\n",
              "      <th></th>\n",
              "      <th></th>\n",
              "      <th></th>\n",
              "      <th></th>\n",
              "      <th></th>\n",
              "      <th></th>\n",
              "    </tr>\n",
              "  </thead>\n",
              "  <tbody>\n",
              "    <tr>\n",
              "      <th>0</th>\n",
              "      <td>1</td>\n",
              "      <td>2</td>\n",
              "      <td>2</td>\n",
              "      <td>3</td>\n",
              "      <td>2</td>\n",
              "      <td>4</td>\n",
              "      <td>5</td>\n",
              "      <td>6</td>\n",
              "      <td>7</td>\n",
              "      <td>8</td>\n",
              "      <td>1</td>\n",
              "    </tr>\n",
              "    <tr>\n",
              "      <th>1</th>\n",
              "      <td>1</td>\n",
              "      <td>4</td>\n",
              "      <td>4</td>\n",
              "      <td>4</td>\n",
              "      <td>0</td>\n",
              "      <td>0</td>\n",
              "      <td>0</td>\n",
              "      <td>0</td>\n",
              "      <td>0</td>\n",
              "      <td>0</td>\n",
              "      <td>1</td>\n",
              "    </tr>\n",
              "    <tr>\n",
              "      <th>2</th>\n",
              "      <td>1</td>\n",
              "      <td>2</td>\n",
              "      <td>9</td>\n",
              "      <td>9</td>\n",
              "      <td>2</td>\n",
              "      <td>0</td>\n",
              "      <td>0</td>\n",
              "      <td>0</td>\n",
              "      <td>0</td>\n",
              "      <td>0</td>\n",
              "      <td>2</td>\n",
              "    </tr>\n",
              "    <tr>\n",
              "      <th>3</th>\n",
              "      <td>10</td>\n",
              "      <td>4</td>\n",
              "      <td>2</td>\n",
              "      <td>4</td>\n",
              "      <td>2</td>\n",
              "      <td>4</td>\n",
              "      <td>4</td>\n",
              "      <td>6</td>\n",
              "      <td>11</td>\n",
              "      <td>10</td>\n",
              "      <td>3</td>\n",
              "    </tr>\n",
              "    <tr>\n",
              "      <th>4</th>\n",
              "      <td>10</td>\n",
              "      <td>4</td>\n",
              "      <td>2</td>\n",
              "      <td>0</td>\n",
              "      <td>0</td>\n",
              "      <td>0</td>\n",
              "      <td>0</td>\n",
              "      <td>0</td>\n",
              "      <td>0</td>\n",
              "      <td>0</td>\n",
              "      <td>3</td>\n",
              "    </tr>\n",
              "  </tbody>\n",
              "</table>\n",
              "</div>"
            ],
            "text/plain": [
              "         site1  site2  site3  site4  ...  site8  site9  site10  user_id\n",
              "sess_id                              ...                               \n",
              "0            1      2      2      3  ...      6      7       8        1\n",
              "1            1      4      4      4  ...      0      0       0        1\n",
              "2            1      2      9      9  ...      0      0       0        2\n",
              "3           10      4      2      4  ...      6     11      10        3\n",
              "4           10      4      2      0  ...      0      0       0        3\n",
              "\n",
              "[5 rows x 11 columns]"
            ]
          },
          "metadata": {
            "tags": []
          },
          "execution_count": 14
        }
      ]
    },
    {
      "cell_type": "code",
      "metadata": {
        "colab": {
          "base_uri": "https://localhost:8080/"
        },
        "id": "-e6z16GjmGiH",
        "outputId": "80cef7a1-7066-4f84-fe5c-177d601577e9"
      },
      "source": [
        "site_freq_3users"
      ],
      "execution_count": null,
      "outputs": [
        {
          "output_type": "execute_result",
          "data": {
            "text/plain": [
              "{'accounts.google.com': (5, 1),\n",
              " 'apis.google.com': (7, 1),\n",
              " 'football.kulichki.ru': (9, 2),\n",
              " 'geo.mozilla.org': (3, 1),\n",
              " 'google.com': (4, 9),\n",
              " 'mail.google.com': (6, 2),\n",
              " 'meduza.io': (10, 3),\n",
              " 'oracle.com': (2, 8),\n",
              " 'plus.google.com': (8, 1),\n",
              " 'vk.com': (1, 3),\n",
              " 'yandex.ru': (11, 1)}"
            ]
          },
          "metadata": {
            "tags": []
          },
          "execution_count": 15
        }
      ]
    },
    {
      "cell_type": "markdown",
      "metadata": {
        "id": "EDBVdQbtmYle"
      },
      "source": [
        "**Applying our function to 10 users**"
      ]
    },
    {
      "cell_type": "code",
      "metadata": {
        "colab": {
          "base_uri": "https://localhost:8080/"
        },
        "id": "ZT1lZF1OmS8H",
        "outputId": "32000a31-df48-4cbb-dde7-1ec2cce881df"
      },
      "source": [
        "%%time\n",
        "train_data_10users, site_freq_10users = prepare_train_set(os.path.join(PATH_TO_DATA, '10users/'),session_length=10)"
      ],
      "execution_count": null,
      "outputs": [
        {
          "output_type": "stream",
          "text": [
            "CPU times: user 4.76 s, sys: 19.2 ms, total: 4.78 s\n",
            "Wall time: 7.47 s\n"
          ],
          "name": "stdout"
        }
      ]
    },
    {
      "cell_type": "code",
      "metadata": {
        "colab": {
          "base_uri": "https://localhost:8080/"
        },
        "id": "Qjb8z5zlnJ_W",
        "outputId": "6f0b73eb-41af-4ed1-cb81-7f07bf0d8c20"
      },
      "source": [
        "#Lets see how many unique sessions are and how many unique sites 10 users have visited\n",
        "print('Total sessions quantity: {}, Number of unique sites: {}'.format(train_data_10users.shape[0], len(site_freq_10users)))"
      ],
      "execution_count": null,
      "outputs": [
        {
          "output_type": "stream",
          "text": [
            "Total sessions quantity: 14061, Number of unique sites: 4913\n"
          ],
          "name": "stdout"
        }
      ]
    },
    {
      "cell_type": "markdown",
      "metadata": {
        "id": "trkGMLvppSJv"
      },
      "source": [
        "**Let`s apply this function to 150 users**"
      ]
    },
    {
      "cell_type": "code",
      "metadata": {
        "colab": {
          "base_uri": "https://localhost:8080/"
        },
        "id": "iy8x1EuVpJz4",
        "outputId": "cf2c8311-d64b-4a4b-9661-edd399d5c6bc"
      },
      "source": [
        "%%time\n",
        "train_data_150users, site_freq_150users = prepare_train_set(os.path.join(PATH_TO_DATA, '150users/'))"
      ],
      "execution_count": null,
      "outputs": [
        {
          "output_type": "stream",
          "text": [
            "CPU times: user 47.4 s, sys: 312 ms, total: 47.7 s\n",
            "Wall time: 1min 24s\n"
          ],
          "name": "stdout"
        }
      ]
    },
    {
      "cell_type": "code",
      "metadata": {
        "colab": {
          "base_uri": "https://localhost:8080/"
        },
        "id": "JDIE4IAhpgmF",
        "outputId": "d6be1fb1-dd03-408c-a6b6-a182c2e6bedc"
      },
      "source": [
        "print('Total sessions quantity: {}, Number of unique sites: {}'.format(train_data_150users.shape[0], len(site_freq_150users)))"
      ],
      "execution_count": null,
      "outputs": [
        {
          "output_type": "stream",
          "text": [
            "Total sessions quantity: 137019, Number of unique sites: 27797\n"
          ],
          "name": "stdout"
        }
      ]
    },
    {
      "cell_type": "markdown",
      "metadata": {
        "id": "8s9NY8IKeKFC"
      },
      "source": [
        "**Lets save our train datasets**"
      ]
    },
    {
      "cell_type": "code",
      "metadata": {
        "id": "wt5XVYz_eJBd"
      },
      "source": [
        "pd."
      ],
      "execution_count": null,
      "outputs": []
    },
    {
      "cell_type": "markdown",
      "metadata": {
        "id": "wWhNUEnMtXRS"
      },
      "source": [
        "**10 most visited websites**"
      ]
    },
    {
      "cell_type": "code",
      "metadata": {
        "colab": {
          "base_uri": "https://localhost:8080/"
        },
        "id": "iBw9JFwJp_MC",
        "outputId": "68e7a2bd-3930-4fd1-da85-763342efb14c"
      },
      "source": [
        "sorted(site_freq_150users.items(), key=lambda x: x[1][1], reverse=True)[:10]"
      ],
      "execution_count": null,
      "outputs": [
        {
          "output_type": "execute_result",
          "data": {
            "text/plain": [
              "[('www.google.fr', (2, 64785)),\n",
              " ('www.google.com', (4, 51320)),\n",
              " ('www.facebook.com', (9, 39002)),\n",
              " ('apis.google.com', (3, 29983)),\n",
              " ('s.youtube.com', (385, 29102)),\n",
              " ('clients1.google.com', (139, 25087)),\n",
              " ('mail.google.com', (43, 19072)),\n",
              " ('plus.google.com', (47, 18467)),\n",
              " ('safebrowsing-cache.google.com', (614, 17960)),\n",
              " ('www.youtube.com', (229, 16319))]"
            ]
          },
          "metadata": {
            "tags": []
          },
          "execution_count": 20
        }
      ]
    },
    {
      "cell_type": "markdown",
      "metadata": {
        "id": "7Tz2DUL-xDP-"
      },
      "source": [
        "##**Part 2. Working with sparse data.**"
      ]
    },
    {
      "cell_type": "code",
      "metadata": {
        "id": "XEpXAYT0tbJ8"
      },
      "source": [
        "#Let`s split our data\n",
        "X_toy, y_toy = train_data_toy.iloc[:, :-1].values, train_data_toy.iloc[:, -1].values"
      ],
      "execution_count": null,
      "outputs": []
    },
    {
      "cell_type": "code",
      "metadata": {
        "colab": {
          "base_uri": "https://localhost:8080/"
        },
        "id": "5HHhm1i7xV2s",
        "outputId": "672ca373-f770-4126-eb3e-1cd730326b47"
      },
      "source": [
        "X_toy"
      ],
      "execution_count": null,
      "outputs": [
        {
          "output_type": "execute_result",
          "data": {
            "text/plain": [
              "array([[ 1,  2,  2,  3,  2,  4,  5,  6,  7,  8],\n",
              "       [ 1,  4,  4,  4,  0,  0,  0,  0,  0,  0],\n",
              "       [ 1,  2,  9,  9,  2,  0,  0,  0,  0,  0],\n",
              "       [10,  4,  2,  4,  2,  4,  4,  6, 11, 10],\n",
              "       [10,  4,  2,  0,  0,  0,  0,  0,  0,  0]])"
            ]
          },
          "metadata": {
            "tags": []
          },
          "execution_count": 22
        }
      ]
    },
    {
      "cell_type": "code",
      "metadata": {
        "colab": {
          "base_uri": "https://localhost:8080/"
        },
        "id": "6KXglTPtxXfZ",
        "outputId": "87670f83-5f50-4c7f-9c5d-9589fd88840a"
      },
      "source": [
        "y_toy"
      ],
      "execution_count": null,
      "outputs": [
        {
          "output_type": "execute_result",
          "data": {
            "text/plain": [
              "array([1, 1, 2, 3, 3])"
            ]
          },
          "metadata": {
            "tags": []
          },
          "execution_count": 23
        }
      ]
    },
    {
      "cell_type": "code",
      "metadata": {
        "id": "zXFji_UzxY7A"
      },
      "source": [
        "#Function prepare raw data before we make it sparse\n",
        "def csr_prepare(docss):\n",
        "    docs = docss\n",
        "    indptr = [0]\n",
        "    indices = []\n",
        "    data = []\n",
        "    vocabulary = {}\n",
        "    for d in docs:\n",
        "        for term in d:\n",
        "            index = term\n",
        "            indices.append(index)\n",
        "            data.append(1)\n",
        "        indptr.append(len(indices))\n",
        "    return(data, indices, indptr)"
      ],
      "execution_count": 9,
      "outputs": []
    },
    {
      "cell_type": "code",
      "metadata": {
        "id": "Ff8DSOp-xtbr"
      },
      "source": [
        "data_toy, indices_toy, indptr_toy = csr_prepare(X_toy)\n",
        "#Also removing first column as it will show our zeros which we added to Data Set to not to be Null\n",
        "X_sparse_toy = csr_matrix((data_toy, indices_toy, indptr_toy), dtype=int)[:,1:]"
      ],
      "execution_count": null,
      "outputs": []
    },
    {
      "cell_type": "code",
      "metadata": {
        "colab": {
          "base_uri": "https://localhost:8080/"
        },
        "id": "obUGE2h2yWCF",
        "outputId": "6b7c1cb3-b973-4bf3-f8c7-b00606911f0d"
      },
      "source": [
        "X_sparse_toy.todense()"
      ],
      "execution_count": null,
      "outputs": [
        {
          "output_type": "execute_result",
          "data": {
            "text/plain": [
              "matrix([[1, 3, 1, 1, 1, 1, 1, 1, 0, 0, 0],\n",
              "        [1, 0, 0, 3, 0, 0, 0, 0, 0, 0, 0],\n",
              "        [1, 2, 0, 0, 0, 0, 0, 0, 2, 0, 0],\n",
              "        [0, 2, 0, 4, 0, 1, 0, 0, 0, 2, 1],\n",
              "        [0, 1, 0, 1, 0, 0, 0, 0, 0, 1, 0]])"
            ]
          },
          "metadata": {
            "tags": []
          },
          "execution_count": 26
        }
      ]
    },
    {
      "cell_type": "markdown",
      "metadata": {
        "id": "CM-A0Us6yadF"
      },
      "source": [
        "**Matrix`s dimensionality is 11 that matches with number of unique websites. So now we have something similar to Bag of Words and this form of data is more useful than just an ids of websites.**"
      ]
    },
    {
      "cell_type": "markdown",
      "metadata": {
        "id": "9XGuwpSXkheC"
      },
      "source": [
        "**Let`s save this sparse matrix and vocabularies**"
      ]
    },
    {
      "cell_type": "code",
      "metadata": {
        "id": "1VeUzxSUleoW"
      },
      "source": [
        "X_10users, y_10users = train_data_10users.iloc[:, :-1].values, \\\n",
        "                       train_data_10users.iloc[:, -1].values\n",
        "X_150users, y_150users = train_data_150users.iloc[:, :-1].values, \\\n",
        "                         train_data_150users.iloc[:, -1].values"
      ],
      "execution_count": null,
      "outputs": []
    },
    {
      "cell_type": "code",
      "metadata": {
        "id": "1NBmm08NlfdF"
      },
      "source": [
        "X_sparse_10users = csr_matrix((csr_prepare(X_10users)), dtype=int)[:,1:]\n",
        "X_sparse_150users = csr_matrix((csr_prepare(X_150users)), dtype=int)[:,1:]"
      ],
      "execution_count": null,
      "outputs": []
    },
    {
      "cell_type": "code",
      "metadata": {
        "id": "gxu83mYpknUS"
      },
      "source": [
        "scipy.sparse.save_npz(os.path.join(PATH_TO_DATA, \n",
        "                                   'Pickles/X_sparse_10users.npz'), X_sparse_10users)\n",
        "with open(os.path.join(PATH_TO_DATA, 'Pickles/y_10users.txt'), 'w') as filet:\n",
        "    for i in y_10users:\n",
        "        filet.write(str(i)+'\\n')\n",
        "        \n",
        "scipy.sparse.save_npz(os.path.join(PATH_TO_DATA, \n",
        "                                   'Pickles/X_sparse_150users.npz'), X_sparse_150users)\n",
        "with open(os.path.join(PATH_TO_DATA, 'Pickles/y_150users.txt'), 'w') as filet:\n",
        "    for i in y_150users:\n",
        "        filet.write(str(i)+'\\n')\n",
        "\n",
        "with open(os.path.join(PATH_TO_DATA, \n",
        "                       'Pickles/site_freq_3users.pkl'), 'wb') as site_freq_3users_pkl:\n",
        "    pickle.dump(site_freq_3users, site_freq_3users_pkl, protocol=2)\n",
        "with open(os.path.join(PATH_TO_DATA, \n",
        "                       'Pickles/site_freq_10users.pkl'), 'wb') as site_freq_10users_pkl:\n",
        "    pickle.dump(site_freq_10users, site_freq_10users_pkl, protocol=2)\n",
        "with open(os.path.join(PATH_TO_DATA, \n",
        "                       'Pickles/site_freq_150users.pkl'), 'wb') as site_freq_150users_pkl:\n",
        "    pickle.dump(site_freq_150users, site_freq_150users_pkl, protocol=2)"
      ],
      "execution_count": null,
      "outputs": []
    },
    {
      "cell_type": "markdown",
      "metadata": {
        "id": "JDbwiu-umi2N"
      },
      "source": [
        "**Just checking if dimensionality of sparse matrixes matches with length of frequencies vocabulary**"
      ]
    },
    {
      "cell_type": "code",
      "metadata": {
        "colab": {
          "base_uri": "https://localhost:8080/"
        },
        "id": "_GfIiFw6mc0x",
        "outputId": "d0c3f317-a6b2-47c6-903c-ffbefb50dba3"
      },
      "source": [
        "X_sparse_10users.shape[1] == len(site_freq_10users)"
      ],
      "execution_count": null,
      "outputs": [
        {
          "output_type": "execute_result",
          "data": {
            "text/plain": [
              "True"
            ]
          },
          "metadata": {
            "tags": []
          },
          "execution_count": 29
        }
      ]
    },
    {
      "cell_type": "code",
      "metadata": {
        "colab": {
          "base_uri": "https://localhost:8080/"
        },
        "id": "XjylIc4LmhBW",
        "outputId": "9e5cf553-f112-4082-f80c-134b1a5c7d71"
      },
      "source": [
        "X_sparse_150users.shape[1] == len(site_freq_150users)"
      ],
      "execution_count": null,
      "outputs": [
        {
          "output_type": "execute_result",
          "data": {
            "text/plain": [
              "True"
            ]
          },
          "metadata": {
            "tags": []
          },
          "execution_count": 30
        }
      ]
    },
    {
      "cell_type": "markdown",
      "metadata": {
        "id": "J0AAwktWO_X4"
      },
      "source": [
        "##**Part 3. Preparing multiple training samples for comparison**"
      ]
    },
    {
      "cell_type": "markdown",
      "metadata": {
        "id": "c4BShzLSPmDW"
      },
      "source": [
        "**Let`s modify the function from week 1 to be able to prepare sparse matrix for a different sessions length and window size**"
      ]
    },
    {
      "cell_type": "markdown",
      "metadata": {
        "id": "HhApB1c7RzxG"
      },
      "source": [
        "**So the next function will take in path to files catalogue, path to frequencies vocabulary, parameter session length and window size and give out sparse matrix and vector of \"answers\".**"
      ]
    },
    {
      "cell_type": "code",
      "metadata": {
        "id": "alRwy3-7P2y1"
      },
      "source": [
        "def prepare_sparse_train_set_window(path_to_csv_files, site_freq_path, \n",
        "                                    session_length=10, window_size=10):\n",
        "    \n",
        "    #Reading frequencies dictionary\n",
        "    with open(os.path.join(PATH_TO_DATA, site_freq_path), 'rb') as pickles:\n",
        "        freq_dict = pickle.load(pickles)\n",
        "    upd_path = PATH_TO_DATA + path_to_csv_files\n",
        "    #Getting the list of all files in directory\n",
        "    list_path = os.listdir(upd_path)\n",
        "    empty_flag = True\n",
        "    sessions_gen = []\n",
        "    y_label = []\n",
        "    #Going step by step in every file from he list\n",
        "    for item in list_path:\n",
        "        flag2 = True\n",
        "        #Working with inly csv files\n",
        "        if 'csv' in item:\n",
        "            csv1 = pd.read_csv(os.path.join(upd_path, item))\n",
        "            sessions_user = []\n",
        "            #Passing every line in the file and adding it to flatten session`s array\n",
        "            for element in csv1.site:\n",
        "                sessions_user = np.append(sessions_user, freq_dict[element][0])\n",
        "            #Checking if we can just reshape the array\n",
        "            if session_length == window_size:\n",
        "                #Adding some zeros in the end of array\n",
        "                if len(sessions_user)%window_size != 0:\n",
        "                    sessions_user = np.append(sessions_user, [0]*(session_length - (len(sessions_user)%window_size)))\n",
        "            else:\n",
        "                sess_test = []\n",
        "                if len(sessions_user)%window_size == 0:\n",
        "                    temp = np.append(sessions_user, [0]*session_length)\n",
        "                    #forming array regarding to windows size\n",
        "                    for i in range(len(sessions_user)//window_size):\n",
        "                        sess_test = np.append(sess_test, temp[i*window_size:(i*window_size + session_length)])\n",
        "                else:\n",
        "                    temp = np.append(sessions_user, [0]*session_length)\n",
        "                    for i in range(len(sessions_user)//window_size + 1):\n",
        "                        sess_test = np.append(sess_test, temp[i*window_size:(i*window_size + session_length)])\n",
        "                sessions_user = sess_test.copy()\n",
        "            #Appending every user to a general array\n",
        "            sessions_gen = np.append(sessions_gen, sessions_user)\n",
        "            y_label = np.append(y_label, (len(sessions_user)//session_length)*[int(item[4:8])])\n",
        "    #Preparing parameters to sparse\n",
        "    data = len(sessions_gen)*[1]\n",
        "    indptr = [session_length*i for i in range(len(sessions_gen)//session_length + 1)]\n",
        "    indices = sessions_gen\n",
        "    #Making sparse matrix\n",
        "    data_toy = csr_matrix((data, indices, indptr), dtype=int)[:,1:]\n",
        "\n",
        "    #Kind of progress bar\n",
        "    print('DONE_num{0}_sess{1}_window{2}'.format(path_to_csv_files[:3], session_length, window_size))\n",
        "    return data_toy, y_label"
      ],
      "execution_count": null,
      "outputs": []
    },
    {
      "cell_type": "markdown",
      "metadata": {
        "id": "pnhXd9fWU1Uw"
      },
      "source": [
        "**Lets try using this new function on the toy sample with 3 users**"
      ]
    },
    {
      "cell_type": "code",
      "metadata": {
        "colab": {
          "base_uri": "https://localhost:8080/"
        },
        "id": "VW9QeboJUxML",
        "outputId": "fb5eb679-3964-49df-9c72-21c5fce74a64"
      },
      "source": [
        "X_toy_s5_w3, y_s5_w3 = prepare_sparse_train_set_window(os.path.join('3users'), \n",
        "                                                       os.path.join('Pickles/site_freq_3users.pkl'),\n",
        "                                       session_length=5, window_size=3)"
      ],
      "execution_count": null,
      "outputs": [
        {
          "output_type": "stream",
          "text": [
            "DONE_num3us_sess5_window3\n"
          ],
          "name": "stdout"
        }
      ]
    },
    {
      "cell_type": "code",
      "metadata": {
        "colab": {
          "base_uri": "https://localhost:8080/"
        },
        "id": "snlMas9jVA5S",
        "outputId": "32fcdf08-ac50-4869-c602-e333e2d6f63a"
      },
      "source": [
        "X_toy_s5_w3.todense()"
      ],
      "execution_count": null,
      "outputs": [
        {
          "output_type": "execute_result",
          "data": {
            "text/plain": [
              "matrix([[1, 3, 1, 0, 0, 0, 0, 0, 0, 0, 0],\n",
              "        [0, 1, 1, 1, 1, 1, 0, 0, 0, 0, 0],\n",
              "        [1, 0, 0, 0, 1, 1, 1, 1, 0, 0, 0],\n",
              "        [1, 0, 0, 3, 0, 0, 0, 1, 0, 0, 0],\n",
              "        [0, 0, 0, 2, 0, 0, 0, 0, 0, 0, 0],\n",
              "        [1, 2, 0, 0, 0, 0, 0, 0, 2, 0, 0],\n",
              "        [0, 1, 0, 0, 0, 0, 0, 0, 1, 0, 0],\n",
              "        [0, 2, 0, 2, 0, 0, 0, 0, 0, 1, 0],\n",
              "        [0, 1, 0, 3, 0, 1, 0, 0, 0, 0, 0],\n",
              "        [0, 0, 0, 1, 0, 1, 0, 0, 0, 2, 1],\n",
              "        [0, 1, 0, 1, 0, 0, 0, 0, 0, 2, 0],\n",
              "        [0, 1, 0, 0, 0, 0, 0, 0, 0, 0, 0]])"
            ]
          },
          "metadata": {
            "tags": []
          },
          "execution_count": 34
        }
      ]
    },
    {
      "cell_type": "code",
      "metadata": {
        "colab": {
          "base_uri": "https://localhost:8080/"
        },
        "id": "8f1sysNnVJ9p",
        "outputId": "195c05c3-d204-45d7-a3f3-26a67a70480c"
      },
      "source": [
        "y_s5_w3"
      ],
      "execution_count": null,
      "outputs": [
        {
          "output_type": "execute_result",
          "data": {
            "text/plain": [
              "array([1., 1., 1., 1., 1., 2., 2., 3., 3., 3., 3., 3.])"
            ]
          },
          "metadata": {
            "tags": []
          },
          "execution_count": 35
        }
      ]
    },
    {
      "cell_type": "markdown",
      "metadata": {
        "id": "sMVkL-7PVRRY"
      },
      "source": [
        "**Now lets use this function to create several new sparse matrixes with different session lengths and windows sizes**"
      ]
    },
    {
      "cell_type": "code",
      "metadata": {
        "colab": {
          "base_uri": "https://localhost:8080/"
        },
        "id": "4MWNGwcGVM8B",
        "outputId": "80b23c2d-6d67-4985-9635-880a0a38e850"
      },
      "source": [
        "%%time\n",
        "\n",
        "data_lengths = {}\n",
        "\n",
        "for num_users in [10, 150]:\n",
        "    for window_size, session_length in itertools.product([10, 7, 5], [15, 10, 7, 5]):\n",
        "        if window_size <= session_length and (window_size, session_length) != (10, 10):\n",
        "            #Preparing samples\n",
        "            X_sparse, y = prepare_sparse_train_set_window('{}users'.format(num_users), 'Pickles/site_freq_{}users.pkl'.format(num_users),\n",
        "                                                          session_length=session_length, window_size=window_size)\n",
        "            \n",
        "            \n",
        "            data_lengths['{}users_session{}_window{}'.format(num_users, session_length, window_size)] = X_sparse.shape[0]\n",
        "            #Saving sparse matrix to file\n",
        "            scipy.sparse.save_npz(os.path.join(PATH_TO_DATA, 'Pickles/X_sparse_{0}users_s{1}_w{2}.npz'.format(num_users, session_length, window_size)), X_sparse)\n",
        "            #Saving \"answers\"\n",
        "            with open(os.path.join(PATH_TO_DATA, 'Pickles/y_{0}users_s{1}_w{2}.txt'.format(num_users, session_length, window_size)), 'w') as filet:\n",
        "                for i in y:\n",
        "                    filet.write(str(i)+'\\n')"
      ],
      "execution_count": null,
      "outputs": [
        {
          "output_type": "stream",
          "text": [
            "DONE_num10u_sess15_window10\n",
            "DONE_num10u_sess15_window7\n",
            "DONE_num10u_sess10_window7\n",
            "DONE_num10u_sess7_window7\n",
            "DONE_num10u_sess15_window5\n",
            "DONE_num10u_sess10_window5\n",
            "DONE_num10u_sess7_window5\n",
            "DONE_num10u_sess5_window5\n",
            "DONE_num150_sess15_window10\n",
            "DONE_num150_sess15_window7\n",
            "DONE_num150_sess10_window7\n",
            "DONE_num150_sess7_window7\n",
            "DONE_num150_sess15_window5\n",
            "DONE_num150_sess10_window5\n",
            "DONE_num150_sess7_window5\n",
            "DONE_num150_sess5_window5\n",
            "CPU times: user 2min 27s, sys: 3.15 s, total: 2min 30s\n",
            "Wall time: 2min 33s\n"
          ],
          "name": "stdout"
        }
      ]
    },
    {
      "cell_type": "markdown",
      "metadata": {
        "id": "3wV7Hb_wdJRW"
      },
      "source": [
        "**Lets have a look how many sessions we got with different configurations**"
      ]
    },
    {
      "cell_type": "code",
      "metadata": {
        "colab": {
          "base_uri": "https://localhost:8080/"
        },
        "id": "A-xx1inHZSje",
        "outputId": "2868f422-23b2-40c3-e05d-fdcc45621e1b"
      },
      "source": [
        "data_lengths"
      ],
      "execution_count": null,
      "outputs": [
        {
          "output_type": "execute_result",
          "data": {
            "text/plain": [
              "{'10users_session10_window5': 28118,\n",
              " '10users_session10_window7': 20087,\n",
              " '10users_session15_window10': 14061,\n",
              " '10users_session15_window5': 28118,\n",
              " '10users_session15_window7': 20087,\n",
              " '10users_session5_window5': 28118,\n",
              " '10users_session7_window5': 28118,\n",
              " '10users_session7_window7': 20087,\n",
              " '150users_session10_window5': 273957,\n",
              " '150users_session10_window7': 195712,\n",
              " '150users_session15_window10': 137019,\n",
              " '150users_session15_window5': 273957,\n",
              " '150users_session15_window7': 195712,\n",
              " '150users_session5_window5': 273957,\n",
              " '150users_session7_window5': 273957,\n",
              " '150users_session7_window7': 195712}"
            ]
          },
          "metadata": {
            "tags": []
          },
          "execution_count": 39
        }
      ]
    },
    {
      "cell_type": "markdown",
      "metadata": {
        "id": "OxjpRljydTT5"
      },
      "source": [
        "##**Part 4. Initial data analysis and hypothesis testing**"
      ]
    },
    {
      "cell_type": "markdown",
      "metadata": {
        "id": "2ruTLPqKdg5N"
      },
      "source": [
        "**Lets use prepared earlier sample train_data_10users**"
      ]
    },
    {
      "cell_type": "code",
      "metadata": {
        "colab": {
          "base_uri": "https://localhost:8080/",
          "height": 235
        },
        "id": "3GZh1X9iddFI",
        "outputId": "04fb0720-b339-4cfd-c840-4ff6aa8fd232"
      },
      "source": [
        "train_data_10users.head()"
      ],
      "execution_count": null,
      "outputs": [
        {
          "output_type": "execute_result",
          "data": {
            "text/html": [
              "<div>\n",
              "<style scoped>\n",
              "    .dataframe tbody tr th:only-of-type {\n",
              "        vertical-align: middle;\n",
              "    }\n",
              "\n",
              "    .dataframe tbody tr th {\n",
              "        vertical-align: top;\n",
              "    }\n",
              "\n",
              "    .dataframe thead th {\n",
              "        text-align: right;\n",
              "    }\n",
              "</style>\n",
              "<table border=\"1\" class=\"dataframe\">\n",
              "  <thead>\n",
              "    <tr style=\"text-align: right;\">\n",
              "      <th></th>\n",
              "      <th>site1</th>\n",
              "      <th>site2</th>\n",
              "      <th>site3</th>\n",
              "      <th>site4</th>\n",
              "      <th>site5</th>\n",
              "      <th>site6</th>\n",
              "      <th>site7</th>\n",
              "      <th>site8</th>\n",
              "      <th>site9</th>\n",
              "      <th>site10</th>\n",
              "      <th>user_id</th>\n",
              "    </tr>\n",
              "    <tr>\n",
              "      <th>sess_id</th>\n",
              "      <th></th>\n",
              "      <th></th>\n",
              "      <th></th>\n",
              "      <th></th>\n",
              "      <th></th>\n",
              "      <th></th>\n",
              "      <th></th>\n",
              "      <th></th>\n",
              "      <th></th>\n",
              "      <th></th>\n",
              "      <th></th>\n",
              "    </tr>\n",
              "  </thead>\n",
              "  <tbody>\n",
              "    <tr>\n",
              "      <th>0</th>\n",
              "      <td>1</td>\n",
              "      <td>2</td>\n",
              "      <td>3</td>\n",
              "      <td>4</td>\n",
              "      <td>3</td>\n",
              "      <td>3</td>\n",
              "      <td>4</td>\n",
              "      <td>3</td>\n",
              "      <td>5</td>\n",
              "      <td>3</td>\n",
              "      <td>31</td>\n",
              "    </tr>\n",
              "    <tr>\n",
              "      <th>1</th>\n",
              "      <td>6</td>\n",
              "      <td>7</td>\n",
              "      <td>8</td>\n",
              "      <td>9</td>\n",
              "      <td>3</td>\n",
              "      <td>10</td>\n",
              "      <td>11</td>\n",
              "      <td>12</td>\n",
              "      <td>13</td>\n",
              "      <td>14</td>\n",
              "      <td>31</td>\n",
              "    </tr>\n",
              "    <tr>\n",
              "      <th>2</th>\n",
              "      <td>14</td>\n",
              "      <td>4</td>\n",
              "      <td>14</td>\n",
              "      <td>14</td>\n",
              "      <td>15</td>\n",
              "      <td>16</td>\n",
              "      <td>6</td>\n",
              "      <td>17</td>\n",
              "      <td>18</td>\n",
              "      <td>14</td>\n",
              "      <td>31</td>\n",
              "    </tr>\n",
              "    <tr>\n",
              "      <th>3</th>\n",
              "      <td>19</td>\n",
              "      <td>20</td>\n",
              "      <td>19</td>\n",
              "      <td>14</td>\n",
              "      <td>14</td>\n",
              "      <td>14</td>\n",
              "      <td>14</td>\n",
              "      <td>21</td>\n",
              "      <td>22</td>\n",
              "      <td>23</td>\n",
              "      <td>31</td>\n",
              "    </tr>\n",
              "    <tr>\n",
              "      <th>4</th>\n",
              "      <td>24</td>\n",
              "      <td>14</td>\n",
              "      <td>15</td>\n",
              "      <td>25</td>\n",
              "      <td>26</td>\n",
              "      <td>27</td>\n",
              "      <td>28</td>\n",
              "      <td>29</td>\n",
              "      <td>30</td>\n",
              "      <td>29</td>\n",
              "      <td>31</td>\n",
              "    </tr>\n",
              "  </tbody>\n",
              "</table>\n",
              "</div>"
            ],
            "text/plain": [
              "         site1  site2  site3  site4  ...  site8  site9  site10  user_id\n",
              "sess_id                              ...                               \n",
              "0            1      2      3      4  ...      3      5       3       31\n",
              "1            6      7      8      9  ...     12     13      14       31\n",
              "2           14      4     14     14  ...     17     18      14       31\n",
              "3           19     20     19     14  ...     21     22      23       31\n",
              "4           24     14     15     25  ...     29     30      29       31\n",
              "\n",
              "[5 rows x 11 columns]"
            ]
          },
          "metadata": {
            "tags": []
          },
          "execution_count": 42
        }
      ]
    },
    {
      "cell_type": "code",
      "metadata": {
        "colab": {
          "base_uri": "https://localhost:8080/"
        },
        "id": "jI-LDq_jexDG",
        "outputId": "e9519a17-6bc7-44af-cb86-ffe36bd548e3"
      },
      "source": [
        "train_data_10users.info()"
      ],
      "execution_count": null,
      "outputs": [
        {
          "output_type": "stream",
          "text": [
            "<class 'pandas.core.frame.DataFrame'>\n",
            "Int64Index: 14061 entries, 0 to 14060\n",
            "Data columns (total 11 columns):\n",
            " #   Column   Non-Null Count  Dtype\n",
            "---  ------   --------------  -----\n",
            " 0   site1    14061 non-null  int64\n",
            " 1   site2    14061 non-null  int64\n",
            " 2   site3    14061 non-null  int64\n",
            " 3   site4    14061 non-null  int64\n",
            " 4   site5    14061 non-null  int64\n",
            " 5   site6    14061 non-null  int64\n",
            " 6   site7    14061 non-null  int64\n",
            " 7   site8    14061 non-null  int64\n",
            " 8   site9    14061 non-null  int64\n",
            " 9   site10   14061 non-null  int64\n",
            " 10  user_id  14061 non-null  int64\n",
            "dtypes: int64(11)\n",
            "memory usage: 1.3 MB\n"
          ],
          "name": "stdout"
        }
      ]
    },
    {
      "cell_type": "code",
      "metadata": {
        "colab": {
          "base_uri": "https://localhost:8080/"
        },
        "id": "S8mxFRvle0RQ",
        "outputId": "4261f519-e17c-4e71-d8bf-901ed1c20b08"
      },
      "source": [
        "train_data_10users['user_id'].value_counts()"
      ],
      "execution_count": null,
      "outputs": [
        {
          "output_type": "execute_result",
          "data": {
            "text/plain": [
              "128    2796\n",
              "39     2204\n",
              "207    1868\n",
              "127    1712\n",
              "237    1643\n",
              "33     1022\n",
              "50      802\n",
              "31      760\n",
              "100     720\n",
              "241     534\n",
              "Name: user_id, dtype: int64"
            ]
          },
          "metadata": {
            "tags": []
          },
          "execution_count": 44
        }
      ]
    },
    {
      "cell_type": "markdown",
      "metadata": {
        "id": "eWc-_WGrfAaj"
      },
      "source": [
        "**Let's calculate the distribution of the number of unique sites in each session out of 10 sites visited in a row.**"
      ]
    },
    {
      "cell_type": "code",
      "metadata": {
        "colab": {
          "base_uri": "https://localhost:8080/"
        },
        "id": "yIYkkeBoe6dY",
        "outputId": "14b61930-821e-458d-df84-a55f8d34576f"
      },
      "source": [
        "num_unique_sites = [np.unique(train_data_10users.values[i, :-1]).shape[0] \n",
        "                    for i in range(train_data_10users.shape[0])]\n",
        "\n",
        "pd.Series(num_unique_sites).value_counts()"
      ],
      "execution_count": null,
      "outputs": [
        {
          "output_type": "execute_result",
          "data": {
            "text/plain": [
              "7     2308\n",
              "6     2197\n",
              "8     2046\n",
              "5     1735\n",
              "9     1394\n",
              "2     1246\n",
              "4     1163\n",
              "3      894\n",
              "10     651\n",
              "1      427\n",
              "dtype: int64"
            ]
          },
          "metadata": {
            "tags": []
          },
          "execution_count": 47
        }
      ]
    },
    {
      "cell_type": "code",
      "metadata": {
        "colab": {
          "base_uri": "https://localhost:8080/",
          "height": 428
        },
        "id": "CQS9sdfTfN-G",
        "outputId": "370bc819-be86-431a-d159-115e845e351d"
      },
      "source": [
        "plt.figure(figsize=((15, 7)))\n",
        "pd.Series(num_unique_sites).hist();"
      ],
      "execution_count": null,
      "outputs": [
        {
          "output_type": "display_data",
          "data": {
            "image/png": "[encoded data removed]",
            "text/plain": [
              "<Figure size 1080x504 with 1 Axes>"
            ]
          },
          "metadata": {
            "tags": [],
            "needs_background": "light"
          }
        }
      ]
    },
    {
      "cell_type": "markdown",
      "metadata": {
        "id": "bFTkmy0SfVR3"
      },
      "source": [
        "**Lets check using QQ-plot and Shapiro Wilk criteria that this value has normal distribution**"
      ]
    },
    {
      "cell_type": "code",
      "metadata": {
        "colab": {
          "base_uri": "https://localhost:8080/",
          "height": 509
        },
        "id": "c-zHWyrufoaN",
        "outputId": "96528710-c900-407e-cbc0-be79cd17ae96"
      },
      "source": [
        "plt.figure(figsize=((15, 7)))\n",
        "stats.probplot(num_unique_sites, plot=plt)"
      ],
      "execution_count": null,
      "outputs": [
        {
          "output_type": "execute_result",
          "data": {
            "text/plain": [
              "((array([-3.89403843, -3.6734386 , -3.55253248, ...,  3.55253248,\n",
              "          3.6734386 ,  3.89403843]), array([ 1,  1,  1, ..., 10, 10, 10])),\n",
              " (2.308739910778148, 5.951923760756702, 0.9770787039552055))"
            ]
          },
          "metadata": {
            "tags": []
          },
          "execution_count": 49
        },
        {
          "output_type": "display_data",
          "data": {
            "image/png": "[encoded data removed]",
            "text/plain": [
              "<Figure size 1080x504 with 1 Axes>"
            ]
          },
          "metadata": {
            "tags": [],
            "needs_background": "light"
          }
        }
      ]
    },
    {
      "cell_type": "code",
      "metadata": {
        "colab": {
          "base_uri": "https://localhost:8080/"
        },
        "id": "56P2FTVUfrHk",
        "outputId": "a0bc3d39-8ece-49e2-a592-0b9b2cb857fb"
      },
      "source": [
        "stat, p = stats.shapiro(num_unique_sites)\n",
        "print('Statistics = %.3f, p = %.5f' % (stat, p))"
      ],
      "execution_count": null,
      "outputs": [
        {
          "output_type": "stream",
          "text": [
            "Statistics = 0.955, p = 0.00000\n"
          ],
          "name": "stdout"
        }
      ]
    },
    {
      "cell_type": "markdown",
      "metadata": {
        "id": "mXXBKFrcg7Jr"
      },
      "source": [
        "**P-value is less then 0.05 so we can overturn the null hypothesis about normality of our distribution**"
      ]
    },
    {
      "cell_type": "markdown",
      "metadata": {
        "id": "tFGbs67Ei0f0"
      },
      "source": [
        "**Let's test the hypothesis that a user will visit a site at least once that he has previously visited in a session of 10 sites. Let's check using the binomial criterion for the maximum percentage of cases when a user revisited a site (that is, the number of unique sites in a session <10) is large: more than 95%.**"
      ]
    },
    {
      "cell_type": "code",
      "metadata": {
        "colab": {
          "base_uri": "https://localhost:8080/"
        },
        "id": "sDu0B9kTjRlp",
        "outputId": "02ae194a-3091-4c6d-a4a8-b69e3aab4139"
      },
      "source": [
        "has_two_similar = (np.array(num_unique_sites) < 10).astype('int')\n",
        "pi_val = stats.binom_test(has_two_similar.sum(), len(has_two_similar), p=0.95, alternative='greater')\n",
        "print('p-value = {}'.format(round(pi_val, 3)))"
      ],
      "execution_count": null,
      "outputs": [
        {
          "output_type": "stream",
          "text": [
            "p-value = 0.022\n"
          ],
          "name": "stdout"
        }
      ]
    },
    {
      "cell_type": "markdown",
      "metadata": {
        "id": "JHzKwerVrokP"
      },
      "source": [
        "**So we can overturn the hypothesis that the customer with 95% possibility will visit website again inside one session**"
      ]
    },
    {
      "cell_type": "markdown",
      "metadata": {
        "id": "prpfNK4TualN"
      },
      "source": [
        "**Lets see on 95% Wilson`s confidence interval for that proportion**"
      ]
    },
    {
      "cell_type": "code",
      "metadata": {
        "colab": {
          "base_uri": "https://localhost:8080/"
        },
        "id": "uDlVIgF-uZyA",
        "outputId": "d6a0326f-0c8e-4e60-c863-41457f8e828a"
      },
      "source": [
        "wilson_interval = proportion_confint(has_two_similar.sum(), len(has_two_similar), method='wilson')\n",
        "print('95% confidence interval: [{}:{}]'.format(round(wilson_interval[0], 3), round(wilson_interval[1], 3)))"
      ],
      "execution_count": null,
      "outputs": [
        {
          "output_type": "stream",
          "text": [
            "95% confidence interval: [0.95:0.957]\n"
          ],
          "name": "stdout"
        }
      ]
    },
    {
      "cell_type": "markdown",
      "metadata": {
        "id": "sbHmzobCsgW1"
      },
      "source": [
        "**Lets draw a distribution of frequencies visited websites which have been visited more than 1000 times**"
      ]
    },
    {
      "cell_type": "code",
      "metadata": {
        "colab": {
          "base_uri": "https://localhost:8080/",
          "height": 445
        },
        "id": "m-sRnUr7sAaC",
        "outputId": "34089797-d158-441d-ca1c-8f7a82d3f471"
      },
      "source": [
        "site_freqs = sorted(site_freq_10users.items(), key=lambda x: x[1][1], reverse=True)\n",
        "site_freqs1= [x[1][1] for x in site_freqs if x[1][1] > 1000]\n",
        "plt.figure(figsize=((15, 7)))\n",
        "plt.bar([x for x in range(len(site_freqs1))], site_freqs1)"
      ],
      "execution_count": null,
      "outputs": [
        {
          "output_type": "execute_result",
          "data": {
            "text/plain": [
              "<BarContainer object of 25 artists>"
            ]
          },
          "metadata": {
            "tags": []
          },
          "execution_count": 82
        },
        {
          "output_type": "display_data",
          "data": {
            "image/png": "[encoded data removed]",
            "text/plain": [
              "<Figure size 1080x504 with 1 Axes>"
            ]
          },
          "metadata": {
            "tags": [],
            "needs_background": "light"
          }
        }
      ]
    },
    {
      "cell_type": "markdown",
      "metadata": {
        "id": "W5GB8tHYvUvq"
      },
      "source": [
        "**Lets plot a 95% confidence interval for the average frequency of the site appearance in the sample (in the whole, not just for those sites that have been visited at least 1000 times) based on bootstrap. Use as many bootstrap subsamples as there were sites in the original sample of 10 users. Take subsamples from the calculated list of frequencies of visits to sites - no need to re-count these frequencies. Please note that the frequency of occurrence of zero (site with index 0 appeared where sessions were shorter than 10 sites) do not need to be included.**"
      ]
    },
    {
      "cell_type": "code",
      "metadata": {
        "id": "_mkSeaALvmyJ"
      },
      "source": [
        "def get_bootstrap_samples(data, n_samples, random_seed=17):\n",
        "    np.random.seed(random_seed)\n",
        "    indices = np.random.randint(0, len(data), (n_samples, len(data)))\n",
        "    samples = data[indices]\n",
        "    return samples\n",
        "\n",
        "def stat_intervals(stat, alpha):\n",
        "    boundaries = np.percentile(stat, \n",
        "                 [100 * alpha / 2., 100 * (1 - alpha / 2.)])\n",
        "    return boundaries"
      ],
      "execution_count": null,
      "outputs": []
    },
    {
      "cell_type": "code",
      "metadata": {
        "colab": {
          "base_uri": "https://localhost:8080/"
        },
        "id": "zld3zfguvrhl",
        "outputId": "79d55f1e-a5d7-4b1c-d836-6c4a9f4e772d"
      },
      "source": [
        "inds, freqs = zip(*([x[1] for x in site_freqs]))\n",
        "freqs = np.reshape(freqs, newshape=(len(freqs), 1))\n",
        "pre_data_df = pd.DataFrame(freqs, index=inds, columns=['Freqs'])\n",
        "\n",
        "freqs_mean_scores = list(map(np.mean, get_bootstrap_samples(pre_data_df.Freqs.values, pre_data_df.shape[0])))\n",
        "\n",
        "l, r = stat_intervals(freqs_mean_scores, alpha=0.05)\n",
        "\n",
        "print('Confidence interval: [{}:{}]'.format(round(l,3), round(r ,3)))"
      ],
      "execution_count": null,
      "outputs": [
        {
          "output_type": "stream",
          "text": [
            "Confidence interval: [22.515:35.763]\n"
          ],
          "name": "stdout"
        }
      ]
    },
    {
      "cell_type": "markdown",
      "metadata": {
        "id": "B1uI7ypX8QZv"
      },
      "source": [
        "##**Part 5. Feature engineering**"
      ]
    },
    {
      "cell_type": "markdown",
      "metadata": {
        "id": "2SM66pIb9fIb"
      },
      "source": [
        "**Lets create a new function based on previous ones. We will create next features:**\n",
        "- `session_timespan` - session duration\n",
        "- `#unique_sites` - number of unique sites in session\n",
        "- `start_hour` - hour when session started\n",
        "- `day_of_week` - day of week when session started\n",
        "\n",
        "So the function should give out DataFrame but with more features"
      ]
    },
    {
      "cell_type": "code",
      "metadata": {
        "id": "9ZNnlYe_-eMj"
      },
      "source": [
        "def prepare_train_set_with_fe(path_to_csv_files, site_freq_path, feature_names=None,\n",
        "                                    session_length=10, window_size=10):\n",
        "    with open(os.path.join(PATH_TO_DATA, site_freq_path), 'rb') as pickles:\n",
        "        freq_dict = pickle.load(pickles)\n",
        "    upd_path = PATH_TO_DATA + path_to_csv_files\n",
        "    list_path = os.listdir(upd_path)\n",
        "    empty_flag = True\n",
        "    sessions_gen = []\n",
        "    time_stamp_g = []\n",
        "    y_label = []\n",
        "    for item in list_path:\n",
        "        flag2 = True\n",
        "        if 'csv' in item:\n",
        "            csv1 = pd.read_csv(os.path.join(upd_path, item))\n",
        "            csv1.timestamp = pd.to_datetime(csv1.timestamp)\n",
        "            sessions_user = []\n",
        "            time_stamp_u = []\n",
        "            for ts, ws in csv1.itertuples(index=False, name=None):\n",
        "                sessions_user = np.append(sessions_user, freq_dict[ws][0])\n",
        "                time_stamp_u = np.append(time_stamp_u, ts)\n",
        "            if session_length == window_size:\n",
        "                if len(sessions_user)%window_size != 0:\n",
        "                    sessions_user = np.append(sessions_user, [0]*(session_length - (len(sessions_user)%window_size)))\n",
        "                    time_stamp_u = np.append(time_stamp_u, [time_stamp_u[-1]]*(session_length -(len(time_stamp_u)%window_size)))\n",
        "            else:\n",
        "                sess_test = []\n",
        "                sess_test_ts = []\n",
        "                if len(sessions_user)%window_size == 0:\n",
        "                    temp = np.append(sessions_user, [0]*session_length)\n",
        "                    temp1 = np.append(time_stamp_u, [0]*session_length)\n",
        "                    for i in range(len(sessions_user)//window_size):\n",
        "                        sess_test = np.append(sess_test, temp[i*window_size:(i*window_size + session_length)])\n",
        "                        sess_test_ts = np.append(sess_test_ts, temp1[i*window_size:(i*window_size + session_length)])\n",
        "                else:\n",
        "                    temp = np.append(sessions_user, [0]*session_length)\n",
        "                    temp1 = np.append(time_stamp_u, [0]*session_length)\n",
        "                    for i in range(len(sessions_user)//window_size + 1):\n",
        "                        sess_test = np.append(sess_test, temp[i*window_size:(i*window_size + session_length)])\n",
        "                        sess_test_ts = np.append(sess_test_ts, temp1[i*window_size:(i*window_size + session_length)])\n",
        "                sessions_user = sess_test.copy()\n",
        "                time_stamp_u = sess_test_ts.copy()\n",
        "            if empty_flag:\n",
        "                sessions_gen = sessions_user.reshape((len(sessions_user)//session_length), session_length)\n",
        "                time_stamp_g = time_stamp_u.reshape((len(sessions_user)//session_length), session_length)\n",
        "                empty_flag = False\n",
        "            else:\n",
        "                sessions_gen = np.append(sessions_gen, sessions_user.reshape((len(sessions_user)//session_length), session_length), axis=0)\n",
        "                time_stamp_g = np.append(time_stamp_g, time_stamp_u.reshape((len(sessions_user)//session_length), session_length), axis=0)\n",
        "            y_label = np.append(y_label, (len(sessions_user)//session_length)*[int(item[4:8])])\n",
        "    \n",
        "    temp_features = []\n",
        "    for i in range(time_stamp_g.shape[1] - 1):\n",
        "        temp_features = np.append(temp_features, [x.seconds for x in (time_stamp_g[:,i+1] - time_stamp_g[:, i])])\n",
        "    features = temp_features.reshape(time_stamp_g.shape[1] - 1, time_stamp_g.shape[0])\n",
        "    f_sum = np.sum(temp_features.reshape(time_stamp_g.shape[1] - 1, time_stamp_g.shape[0]), axis=0).reshape(1, time_stamp_g.shape[0])\n",
        "    features = np.append(features, f_sum, axis=0)\n",
        "    f_unique = []\n",
        "    f_hour = []\n",
        "    f_dow = []\n",
        "    for i in time_stamp_g:\n",
        "        f_hour.append(i[0].hour)\n",
        "        f_dow.append(i[0].dayofweek)\n",
        "    for i in sessions_gen:\n",
        "        f_unique.append(len(np.unique(i)))\n",
        "    features = np.append(features, np.reshape(f_unique, newshape=(1, time_stamp_g.shape[0])), axis=0)\n",
        "    features = np.append(features, np.reshape(f_hour, newshape=(1, time_stamp_g.shape[0])), axis=0)\n",
        "    features = np.append(features, np.reshape(f_dow, newshape=(1, time_stamp_g.shape[0])), axis=0)\n",
        "    featuress = np.append(sessions_gen.T, features, axis=0)\n",
        "    featuress = np.append(featuress, y_label.reshape(1, time_stamp_g.shape[0]), axis=0)\n",
        "    featuress = pd.DataFrame(featuress.T, columns=feature_names)\n",
        "    return featuress"
      ],
      "execution_count": null,
      "outputs": []
    },
    {
      "cell_type": "markdown",
      "metadata": {
        "id": "vinKPK8A-lxz"
      },
      "source": [
        "**Lets check our function on toy sample**"
      ]
    },
    {
      "cell_type": "code",
      "metadata": {
        "id": "i4-JGT9z-iHU"
      },
      "source": [
        "feature_names = ['site' + str(i) for i in range(1,11)] + \\\n",
        "                ['time_diff' + str(j) for j in range(1,10)] + \\\n",
        "                ['session_timespan', '#unique_sites', 'start_hour', \n",
        "                 'day_of_week', 'target']\n",
        "train_data_toy  = prepare_train_set_with_fe('3users', \n",
        "                  site_freq_path=os.path.join( 'Pickles/site_freq_3users.pkl'),\n",
        "                  feature_names=feature_names, session_length=10)"
      ],
      "execution_count": null,
      "outputs": []
    },
    {
      "cell_type": "code",
      "metadata": {
        "colab": {
          "base_uri": "https://localhost:8080/",
          "height": 224
        },
        "id": "MlmlCAIU-pqG",
        "outputId": "cc8eb158-aa19-4a17-cda5-71da4c7b3bed"
      },
      "source": [
        "train_data_toy"
      ],
      "execution_count": null,
      "outputs": [
        {
          "output_type": "execute_result",
          "data": {
            "text/html": [
              "<div>\n",
              "<style scoped>\n",
              "    .dataframe tbody tr th:only-of-type {\n",
              "        vertical-align: middle;\n",
              "    }\n",
              "\n",
              "    .dataframe tbody tr th {\n",
              "        vertical-align: top;\n",
              "    }\n",
              "\n",
              "    .dataframe thead th {\n",
              "        text-align: right;\n",
              "    }\n",
              "</style>\n",
              "<table border=\"1\" class=\"dataframe\">\n",
              "  <thead>\n",
              "    <tr style=\"text-align: right;\">\n",
              "      <th></th>\n",
              "      <th>site1</th>\n",
              "      <th>site2</th>\n",
              "      <th>site3</th>\n",
              "      <th>site4</th>\n",
              "      <th>site5</th>\n",
              "      <th>site6</th>\n",
              "      <th>site7</th>\n",
              "      <th>site8</th>\n",
              "      <th>site9</th>\n",
              "      <th>site10</th>\n",
              "      <th>time_diff1</th>\n",
              "      <th>time_diff2</th>\n",
              "      <th>time_diff3</th>\n",
              "      <th>time_diff4</th>\n",
              "      <th>time_diff5</th>\n",
              "      <th>time_diff6</th>\n",
              "      <th>time_diff7</th>\n",
              "      <th>time_diff8</th>\n",
              "      <th>time_diff9</th>\n",
              "      <th>session_timespan</th>\n",
              "      <th>#unique_sites</th>\n",
              "      <th>start_hour</th>\n",
              "      <th>day_of_week</th>\n",
              "      <th>target</th>\n",
              "    </tr>\n",
              "  </thead>\n",
              "  <tbody>\n",
              "    <tr>\n",
              "      <th>0</th>\n",
              "      <td>1.0</td>\n",
              "      <td>2.0</td>\n",
              "      <td>2.0</td>\n",
              "      <td>3.0</td>\n",
              "      <td>2.0</td>\n",
              "      <td>4.0</td>\n",
              "      <td>5.0</td>\n",
              "      <td>6.0</td>\n",
              "      <td>7.0</td>\n",
              "      <td>8.0</td>\n",
              "      <td>287.0</td>\n",
              "      <td>1184.0</td>\n",
              "      <td>6278.0</td>\n",
              "      <td>186.0</td>\n",
              "      <td>2.0</td>\n",
              "      <td>1.0</td>\n",
              "      <td>2.0</td>\n",
              "      <td>3.0</td>\n",
              "      <td>55.0</td>\n",
              "      <td>7998.0</td>\n",
              "      <td>8.0</td>\n",
              "      <td>9.0</td>\n",
              "      <td>4.0</td>\n",
              "      <td>1.0</td>\n",
              "    </tr>\n",
              "    <tr>\n",
              "      <th>1</th>\n",
              "      <td>1.0</td>\n",
              "      <td>4.0</td>\n",
              "      <td>4.0</td>\n",
              "      <td>4.0</td>\n",
              "      <td>0.0</td>\n",
              "      <td>0.0</td>\n",
              "      <td>0.0</td>\n",
              "      <td>0.0</td>\n",
              "      <td>0.0</td>\n",
              "      <td>0.0</td>\n",
              "      <td>2.0</td>\n",
              "      <td>3.0</td>\n",
              "      <td>55.0</td>\n",
              "      <td>0.0</td>\n",
              "      <td>0.0</td>\n",
              "      <td>0.0</td>\n",
              "      <td>0.0</td>\n",
              "      <td>0.0</td>\n",
              "      <td>0.0</td>\n",
              "      <td>60.0</td>\n",
              "      <td>3.0</td>\n",
              "      <td>12.0</td>\n",
              "      <td>4.0</td>\n",
              "      <td>1.0</td>\n",
              "    </tr>\n",
              "    <tr>\n",
              "      <th>2</th>\n",
              "      <td>1.0</td>\n",
              "      <td>2.0</td>\n",
              "      <td>9.0</td>\n",
              "      <td>9.0</td>\n",
              "      <td>2.0</td>\n",
              "      <td>0.0</td>\n",
              "      <td>0.0</td>\n",
              "      <td>0.0</td>\n",
              "      <td>0.0</td>\n",
              "      <td>0.0</td>\n",
              "      <td>287.0</td>\n",
              "      <td>1184.0</td>\n",
              "      <td>6278.0</td>\n",
              "      <td>186.0</td>\n",
              "      <td>0.0</td>\n",
              "      <td>0.0</td>\n",
              "      <td>0.0</td>\n",
              "      <td>0.0</td>\n",
              "      <td>0.0</td>\n",
              "      <td>7935.0</td>\n",
              "      <td>4.0</td>\n",
              "      <td>9.0</td>\n",
              "      <td>4.0</td>\n",
              "      <td>2.0</td>\n",
              "    </tr>\n",
              "    <tr>\n",
              "      <th>3</th>\n",
              "      <td>10.0</td>\n",
              "      <td>4.0</td>\n",
              "      <td>2.0</td>\n",
              "      <td>4.0</td>\n",
              "      <td>2.0</td>\n",
              "      <td>4.0</td>\n",
              "      <td>4.0</td>\n",
              "      <td>6.0</td>\n",
              "      <td>11.0</td>\n",
              "      <td>10.0</td>\n",
              "      <td>287.0</td>\n",
              "      <td>1184.0</td>\n",
              "      <td>6278.0</td>\n",
              "      <td>186.0</td>\n",
              "      <td>2.0</td>\n",
              "      <td>1.0</td>\n",
              "      <td>2.0</td>\n",
              "      <td>3.0</td>\n",
              "      <td>55.0</td>\n",
              "      <td>7998.0</td>\n",
              "      <td>5.0</td>\n",
              "      <td>9.0</td>\n",
              "      <td>4.0</td>\n",
              "      <td>3.0</td>\n",
              "    </tr>\n",
              "    <tr>\n",
              "      <th>4</th>\n",
              "      <td>10.0</td>\n",
              "      <td>4.0</td>\n",
              "      <td>2.0</td>\n",
              "      <td>0.0</td>\n",
              "      <td>0.0</td>\n",
              "      <td>0.0</td>\n",
              "      <td>0.0</td>\n",
              "      <td>0.0</td>\n",
              "      <td>0.0</td>\n",
              "      <td>0.0</td>\n",
              "      <td>287.0</td>\n",
              "      <td>1184.0</td>\n",
              "      <td>0.0</td>\n",
              "      <td>0.0</td>\n",
              "      <td>0.0</td>\n",
              "      <td>0.0</td>\n",
              "      <td>0.0</td>\n",
              "      <td>0.0</td>\n",
              "      <td>0.0</td>\n",
              "      <td>1471.0</td>\n",
              "      <td>4.0</td>\n",
              "      <td>12.0</td>\n",
              "      <td>4.0</td>\n",
              "      <td>3.0</td>\n",
              "    </tr>\n",
              "  </tbody>\n",
              "</table>\n",
              "</div>"
            ],
            "text/plain": [
              "   site1  site2  site3  site4  ...  #unique_sites  start_hour  day_of_week  target\n",
              "0    1.0    2.0    2.0    3.0  ...            8.0         9.0          4.0     1.0\n",
              "1    1.0    4.0    4.0    4.0  ...            3.0        12.0          4.0     1.0\n",
              "2    1.0    2.0    9.0    9.0  ...            4.0         9.0          4.0     2.0\n",
              "3   10.0    4.0    2.0    4.0  ...            5.0         9.0          4.0     3.0\n",
              "4   10.0    4.0    2.0    0.0  ...            4.0        12.0          4.0     3.0\n",
              "\n",
              "[5 rows x 24 columns]"
            ]
          },
          "metadata": {
            "tags": []
          },
          "execution_count": 88
        }
      ]
    },
    {
      "cell_type": "markdown",
      "metadata": {
        "id": "rz3M_X1t-41K"
      },
      "source": [
        "**Lets apply this function to 10 users data**"
      ]
    },
    {
      "cell_type": "code",
      "metadata": {
        "colab": {
          "base_uri": "https://localhost:8080/"
        },
        "id": "bRlfpBfo_GnK",
        "outputId": "4b5cf6ae-4822-4223-8a1e-4f56ab696f64"
      },
      "source": [
        "%%time\n",
        "feature_names10 = ['site' + str(i) for i in range(1,11)] + \\\n",
        "                ['time_diff' + str(j) for j in range(1,10)] + \\\n",
        "                ['session_timespan', '#unique_sites', 'start_hour', \n",
        "                 'day_of_week', 'target']\n",
        "train_data_10users = prepare_train_set_with_fe('10users', 'Pickles/site_freq_10users.pkl', feature_names=feature_names10, \n",
        "                                               session_length=10)"
      ],
      "execution_count": null,
      "outputs": [
        {
          "output_type": "stream",
          "text": [
            "CPU times: user 15.2 s, sys: 115 ms, total: 15.3 s\n",
            "Wall time: 15.3 s\n"
          ],
          "name": "stdout"
        }
      ]
    },
    {
      "cell_type": "code",
      "metadata": {
        "colab": {
          "base_uri": "https://localhost:8080/",
          "height": 224
        },
        "id": "9rDLR8A8_N4C",
        "outputId": "36177b66-9b37-4d78-8fb2-2e700f40571f"
      },
      "source": [
        "train_data_10users.head()"
      ],
      "execution_count": null,
      "outputs": [
        {
          "output_type": "execute_result",
          "data": {
            "text/html": [
              "<div>\n",
              "<style scoped>\n",
              "    .dataframe tbody tr th:only-of-type {\n",
              "        vertical-align: middle;\n",
              "    }\n",
              "\n",
              "    .dataframe tbody tr th {\n",
              "        vertical-align: top;\n",
              "    }\n",
              "\n",
              "    .dataframe thead th {\n",
              "        text-align: right;\n",
              "    }\n",
              "</style>\n",
              "<table border=\"1\" class=\"dataframe\">\n",
              "  <thead>\n",
              "    <tr style=\"text-align: right;\">\n",
              "      <th></th>\n",
              "      <th>site1</th>\n",
              "      <th>site2</th>\n",
              "      <th>site3</th>\n",
              "      <th>site4</th>\n",
              "      <th>site5</th>\n",
              "      <th>site6</th>\n",
              "      <th>site7</th>\n",
              "      <th>site8</th>\n",
              "      <th>site9</th>\n",
              "      <th>site10</th>\n",
              "      <th>time_diff1</th>\n",
              "      <th>time_diff2</th>\n",
              "      <th>time_diff3</th>\n",
              "      <th>time_diff4</th>\n",
              "      <th>time_diff5</th>\n",
              "      <th>time_diff6</th>\n",
              "      <th>time_diff7</th>\n",
              "      <th>time_diff8</th>\n",
              "      <th>time_diff9</th>\n",
              "      <th>session_timespan</th>\n",
              "      <th>#unique_sites</th>\n",
              "      <th>start_hour</th>\n",
              "      <th>day_of_week</th>\n",
              "      <th>target</th>\n",
              "    </tr>\n",
              "  </thead>\n",
              "  <tbody>\n",
              "    <tr>\n",
              "      <th>0</th>\n",
              "      <td>1.0</td>\n",
              "      <td>2.0</td>\n",
              "      <td>3.0</td>\n",
              "      <td>4.0</td>\n",
              "      <td>3.0</td>\n",
              "      <td>3.0</td>\n",
              "      <td>4.0</td>\n",
              "      <td>3.0</td>\n",
              "      <td>5.0</td>\n",
              "      <td>3.0</td>\n",
              "      <td>10.0</td>\n",
              "      <td>0.0</td>\n",
              "      <td>0.0</td>\n",
              "      <td>1.0</td>\n",
              "      <td>20.0</td>\n",
              "      <td>1.0</td>\n",
              "      <td>0.0</td>\n",
              "      <td>1.0</td>\n",
              "      <td>0.0</td>\n",
              "      <td>33.0</td>\n",
              "      <td>5.0</td>\n",
              "      <td>8.0</td>\n",
              "      <td>4.0</td>\n",
              "      <td>31.0</td>\n",
              "    </tr>\n",
              "    <tr>\n",
              "      <th>1</th>\n",
              "      <td>6.0</td>\n",
              "      <td>7.0</td>\n",
              "      <td>8.0</td>\n",
              "      <td>9.0</td>\n",
              "      <td>3.0</td>\n",
              "      <td>10.0</td>\n",
              "      <td>11.0</td>\n",
              "      <td>12.0</td>\n",
              "      <td>13.0</td>\n",
              "      <td>14.0</td>\n",
              "      <td>1.0</td>\n",
              "      <td>0.0</td>\n",
              "      <td>163.0</td>\n",
              "      <td>105.0</td>\n",
              "      <td>0.0</td>\n",
              "      <td>1.0</td>\n",
              "      <td>3.0</td>\n",
              "      <td>3.0</td>\n",
              "      <td>8.0</td>\n",
              "      <td>284.0</td>\n",
              "      <td>10.0</td>\n",
              "      <td>8.0</td>\n",
              "      <td>4.0</td>\n",
              "      <td>31.0</td>\n",
              "    </tr>\n",
              "    <tr>\n",
              "      <th>2</th>\n",
              "      <td>14.0</td>\n",
              "      <td>4.0</td>\n",
              "      <td>14.0</td>\n",
              "      <td>14.0</td>\n",
              "      <td>15.0</td>\n",
              "      <td>16.0</td>\n",
              "      <td>6.0</td>\n",
              "      <td>17.0</td>\n",
              "      <td>18.0</td>\n",
              "      <td>14.0</td>\n",
              "      <td>0.0</td>\n",
              "      <td>14.0</td>\n",
              "      <td>1.0</td>\n",
              "      <td>242.0</td>\n",
              "      <td>0.0</td>\n",
              "      <td>0.0</td>\n",
              "      <td>1.0</td>\n",
              "      <td>0.0</td>\n",
              "      <td>0.0</td>\n",
              "      <td>258.0</td>\n",
              "      <td>7.0</td>\n",
              "      <td>8.0</td>\n",
              "      <td>4.0</td>\n",
              "      <td>31.0</td>\n",
              "    </tr>\n",
              "    <tr>\n",
              "      <th>3</th>\n",
              "      <td>19.0</td>\n",
              "      <td>20.0</td>\n",
              "      <td>19.0</td>\n",
              "      <td>14.0</td>\n",
              "      <td>14.0</td>\n",
              "      <td>14.0</td>\n",
              "      <td>14.0</td>\n",
              "      <td>21.0</td>\n",
              "      <td>22.0</td>\n",
              "      <td>23.0</td>\n",
              "      <td>2.0</td>\n",
              "      <td>1.0</td>\n",
              "      <td>0.0</td>\n",
              "      <td>1.0</td>\n",
              "      <td>25.0</td>\n",
              "      <td>1.0</td>\n",
              "      <td>0.0</td>\n",
              "      <td>0.0</td>\n",
              "      <td>0.0</td>\n",
              "      <td>30.0</td>\n",
              "      <td>6.0</td>\n",
              "      <td>8.0</td>\n",
              "      <td>4.0</td>\n",
              "      <td>31.0</td>\n",
              "    </tr>\n",
              "    <tr>\n",
              "      <th>4</th>\n",
              "      <td>24.0</td>\n",
              "      <td>14.0</td>\n",
              "      <td>15.0</td>\n",
              "      <td>25.0</td>\n",
              "      <td>26.0</td>\n",
              "      <td>27.0</td>\n",
              "      <td>28.0</td>\n",
              "      <td>29.0</td>\n",
              "      <td>30.0</td>\n",
              "      <td>29.0</td>\n",
              "      <td>1.0</td>\n",
              "      <td>0.0</td>\n",
              "      <td>1.0</td>\n",
              "      <td>1.0</td>\n",
              "      <td>1.0</td>\n",
              "      <td>0.0</td>\n",
              "      <td>1.0</td>\n",
              "      <td>1.0</td>\n",
              "      <td>0.0</td>\n",
              "      <td>6.0</td>\n",
              "      <td>9.0</td>\n",
              "      <td>8.0</td>\n",
              "      <td>4.0</td>\n",
              "      <td>31.0</td>\n",
              "    </tr>\n",
              "  </tbody>\n",
              "</table>\n",
              "</div>"
            ],
            "text/plain": [
              "   site1  site2  site3  site4  ...  #unique_sites  start_hour  day_of_week  target\n",
              "0    1.0    2.0    3.0    4.0  ...            5.0         8.0          4.0    31.0\n",
              "1    6.0    7.0    8.0    9.0  ...           10.0         8.0          4.0    31.0\n",
              "2   14.0    4.0   14.0   14.0  ...            7.0         8.0          4.0    31.0\n",
              "3   19.0   20.0   19.0   14.0  ...            6.0         8.0          4.0    31.0\n",
              "4   24.0   14.0   15.0   25.0  ...            9.0         8.0          4.0    31.0\n",
              "\n",
              "[5 rows x 24 columns]"
            ]
          },
          "metadata": {
            "tags": []
          },
          "execution_count": 90
        }
      ]
    },
    {
      "cell_type": "markdown",
      "metadata": {
        "id": "lKfvYdvH_V8v"
      },
      "source": [
        "**And for 150 users data**"
      ]
    },
    {
      "cell_type": "code",
      "metadata": {
        "colab": {
          "base_uri": "https://localhost:8080/"
        },
        "id": "VnbSnoUS_YGq",
        "outputId": "f2eedc69-0ec5-4208-e723-8cf30efe6b6d"
      },
      "source": [
        "%%time\n",
        "feature_names150 = ['site' + str(i) for i in range(1,11)] + \\\n",
        "                ['time_diff' + str(j) for j in range(1,10)] + \\\n",
        "                ['session_timespan', '#unique_sites', 'start_hour', \n",
        "                 'day_of_week', 'target']\n",
        "train_data_150users = prepare_train_set_with_fe('150users', 'Pickles/site_freq_150users.pkl', feature_names150,\n",
        "                                                10, 10)"
      ],
      "execution_count": null,
      "outputs": [
        {
          "output_type": "stream",
          "text": [
            "CPU times: user 2min 1s, sys: 1.57 s, total: 2min 2s\n",
            "Wall time: 2min 2s\n"
          ],
          "name": "stdout"
        }
      ]
    },
    {
      "cell_type": "markdown",
      "metadata": {
        "id": "EhB5fSmQ_dnA"
      },
      "source": [
        "##**Part 6. Visual data analysis**"
      ]
    },
    {
      "cell_type": "markdown",
      "metadata": {
        "id": "tevZt8wN_y8r"
      },
      "source": [
        "**Lets name our users just to make plots little bit more cute**"
      ]
    },
    {
      "cell_type": "code",
      "metadata": {
        "id": "6GTdnaT5AqBi"
      },
      "source": [
        "id_name_dict = {128: 'Mary-Kate', 39: 'Ashley', 207: 'Lindsey', 127: 'Naomi', 237: 'Avril',\n",
        "               33: 'Bob', 50: 'Bill', 31: 'John', 100: 'Dick', 241: 'Ed'}\n",
        "train_data_10users['target'] = train_data_10users['target'].map(id_name_dict)\n",
        "\n",
        "color_dic = {'Mary-Kate': 'pink', 'Ashley': 'darkviolet', 'Lindsey':'blueviolet', \n",
        "             'Naomi': 'hotpink', 'Avril': 'orchid', \n",
        "             'Bob': 'firebrick', 'Bill': 'gold', 'John': 'forestgreen', \n",
        "             'Dick': 'slategrey', 'Ed':'brown'}"
      ],
      "execution_count": null,
      "outputs": []
    },
    {
      "cell_type": "markdown",
      "metadata": {
        "id": "lhsmQ-VcAxlp"
      },
      "source": [
        "**1. Lets plot a bar chart of session duration distribution**"
      ]
    },
    {
      "cell_type": "code",
      "metadata": {
        "colab": {
          "base_uri": "https://localhost:8080/",
          "height": 459
        },
        "id": "isif9u72Asq1",
        "outputId": "23e2bfc4-85de-451e-fb37-ec0ad2986f0d"
      },
      "source": [
        "plt.figure(figsize=(15, 7))\n",
        "plt.xlabel('Session duration, sec')\n",
        "plt.ylabel('Quantity')\n",
        "train_data_10users.session_timespan.hist(bins=30, range=(0, 200), color='darkviolet')"
      ],
      "execution_count": null,
      "outputs": [
        {
          "output_type": "execute_result",
          "data": {
            "text/plain": [
              "<matplotlib.axes._subplots.AxesSubplot at 0x7f98fadea4d0>"
            ]
          },
          "metadata": {
            "tags": []
          },
          "execution_count": 93
        },
        {
          "output_type": "display_data",
          "data": {
            "image/png": "[encoded data removed]",
            "text/plain": [
              "<Figure size 1080x504 with 1 Axes>"
            ]
          },
          "metadata": {
            "tags": [],
            "needs_background": "light"
          }
        }
      ]
    },
    {
      "cell_type": "markdown",
      "metadata": {
        "id": "KVCE2J_DBNyE"
      },
      "source": [
        "**2. Bar charts of unique sites distribution for each user**"
      ]
    },
    {
      "cell_type": "code",
      "metadata": {
        "colab": {
          "base_uri": "https://localhost:8080/",
          "height": 607
        },
        "id": "M3Gt53i8BKv-",
        "outputId": "01cbf54b-bf86-469f-90e2-cb4099cf14d5"
      },
      "source": [
        "fig, axes = plt.subplots(nrows=3, ncols=4, figsize=(16, 10))\n",
        "for i, user in enumerate(color_dic):\n",
        "    axes.flatten()[i].set_title('{}'.format(user))\n",
        "    axes.flatten()[i].grid()\n",
        "    axes.flatten()[i].hist(train_data_10users['#unique_sites'].loc[train_data_10users.target == '{}'.format(user)], color='{}'.format(color_dic[user]), label=user)\n",
        "    axes.flatten()[i].legend()"
      ],
      "execution_count": null,
      "outputs": [
        {
          "output_type": "display_data",
          "data": {
            "image/png": "[encoded data removed]",
            "text/plain": [
              "<Figure size 1152x720 with 12 Axes>"
            ]
          },
          "metadata": {
            "tags": [],
            "needs_background": "light"
          }
        }
      ]
    },
    {
      "cell_type": "markdown",
      "metadata": {
        "id": "YQLJ4LXaBeEG"
      },
      "source": [
        "**3. Bar chart of start hour distribution**"
      ]
    },
    {
      "cell_type": "code",
      "metadata": {
        "colab": {
          "base_uri": "https://localhost:8080/",
          "height": 459
        },
        "id": "kxGeftZHBpb5",
        "outputId": "e28136be-eb3a-461c-991d-702831038a3a"
      },
      "source": [
        "plt.figure(figsize=(15, 7))\n",
        "plt.xlabel('Start Hour')\n",
        "plt.ylabel('Quantity')\n",
        "train_data_10users['start_hour'].hist(color='darkgreen')"
      ],
      "execution_count": null,
      "outputs": [
        {
          "output_type": "execute_result",
          "data": {
            "text/plain": [
              "<matplotlib.axes._subplots.AxesSubplot at 0x7f98eb98a990>"
            ]
          },
          "metadata": {
            "tags": []
          },
          "execution_count": 101
        },
        {
          "output_type": "display_data",
          "data": {
            "image/png": "[encoded data removed]",
            "text/plain": [
              "<Figure size 1080x504 with 1 Axes>"
            ]
          },
          "metadata": {
            "tags": [],
            "needs_background": "light"
          }
        }
      ]
    },
    {
      "cell_type": "markdown",
      "metadata": {
        "id": "Us3CfZWhBsgl"
      },
      "source": [
        "**4. Bar charts of start hour distribution for each user**"
      ]
    },
    {
      "cell_type": "code",
      "metadata": {
        "colab": {
          "base_uri": "https://localhost:8080/",
          "height": 607
        },
        "id": "kB04lKwABr42",
        "outputId": "26f2275d-ca3a-410b-889d-8a63a89fd945"
      },
      "source": [
        "fig, axes = plt.subplots(nrows=3, ncols=4, figsize=(16, 10))\n",
        "for i, user in enumerate(color_dic):\n",
        "    axes.flatten()[i].set_title('{}'.format(user))\n",
        "    axes.flatten()[i].grid()\n",
        "    axes.flatten()[i].hist(train_data_10users.start_hour.loc[train_data_10users.target == '{}'.format(user)], color='{}'.format(color_dic[user]), label=user)\n",
        "    axes.flatten()[i].legend()"
      ],
      "execution_count": null,
      "outputs": [
        {
          "output_type": "display_data",
          "data": {
            "image/png": "[encoded data removed]",
            "text/plain": [
              "<Figure size 1152x720 with 12 Axes>"
            ]
          },
          "metadata": {
            "tags": [],
            "needs_background": "light"
          }
        }
      ]
    },
    {
      "cell_type": "markdown",
      "metadata": {
        "id": "qvWhrXe1B470"
      },
      "source": [
        "**5. Bar chart of day of week distribution**"
      ]
    },
    {
      "cell_type": "code",
      "metadata": {
        "colab": {
          "base_uri": "https://localhost:8080/",
          "height": 459
        },
        "id": "gr6AAatEB-7p",
        "outputId": "97a14693-8d16-4d50-b0ff-d6c63cfdc1ae"
      },
      "source": [
        "plt.figure(figsize=(15, 7))\n",
        "plt.xlabel('Day of week')\n",
        "plt.ylabel('Quantity')\n",
        "train_data_10users['day_of_week'].hist(color='sienna')"
      ],
      "execution_count": null,
      "outputs": [
        {
          "output_type": "execute_result",
          "data": {
            "text/plain": [
              "<matplotlib.axes._subplots.AxesSubplot at 0x7f98f7189790>"
            ]
          },
          "metadata": {
            "tags": []
          },
          "execution_count": 105
        },
        {
          "output_type": "display_data",
          "data": {
            "image/png": "[encoded data removed]",
            "text/plain": [
              "<Figure size 1080x504 with 1 Axes>"
            ]
          },
          "metadata": {
            "tags": [],
            "needs_background": "light"
          }
        }
      ]
    },
    {
      "cell_type": "markdown",
      "metadata": {
        "id": "vuWo4tMSCBN8"
      },
      "source": [
        "**6. Bar charts of day of week distribution or each user**"
      ]
    },
    {
      "cell_type": "code",
      "metadata": {
        "colab": {
          "base_uri": "https://localhost:8080/",
          "height": 607
        },
        "id": "BBDXbUZZCAY5",
        "outputId": "b18be012-6bb3-4aae-fee8-225646cf240c"
      },
      "source": [
        "fig, axes = plt.subplots(nrows=3, ncols=4, figsize=(16, 10))\n",
        "for i, user in enumerate(color_dic):\n",
        "    axes.flatten()[i].set_title('{}'.format(user))\n",
        "    axes.flatten()[i].set_xticklabels(['Mon', 'Tue', 'Wed', 'Thu', 'Fri', 'Sat', 'Sun'])\n",
        "    axes.flatten()[i].grid()\n",
        "    axes.flatten()[i].hist(train_data_10users.day_of_week.loc[train_data_10users.target == '{}'.format(user)], color='{}'.format(color_dic[user]), label=user)\n",
        "    axes.flatten()[i].legend()"
      ],
      "execution_count": null,
      "outputs": [
        {
          "output_type": "display_data",
          "data": {
            "image/png": "[encoded data removed]",
            "text/plain": [
              "<Figure size 1152x720 with 12 Axes>"
            ]
          },
          "metadata": {
            "tags": [],
            "needs_background": "light"
          }
        }
      ]
    },
    {
      "cell_type": "markdown",
      "metadata": {
        "id": "PuVn6YiyDrLK"
      },
      "source": [
        "**7. Lets plot seaborn barplot which shows visiting frequencies of the top 10 visited website**"
      ]
    },
    {
      "cell_type": "code",
      "metadata": {
        "colab": {
          "base_uri": "https://localhost:8080/",
          "height": 445
        },
        "id": "GNAaweRSDrX9",
        "outputId": "15df9aa1-15e4-4591-f034-f7834304b84f"
      },
      "source": [
        "top10_freqs = [x[1][1] for x in site_freqs[:10]]\n",
        "top10_sites = [x[0] for x in site_freqs[:10]]\n",
        "\n",
        "plt.figure(figsize=(15, 7))\n",
        "sns.set_style('whitegrid')\n",
        "sns.barplot(x=top10_freqs, y=top10_sites)"
      ],
      "execution_count": null,
      "outputs": [
        {
          "output_type": "execute_result",
          "data": {
            "text/plain": [
              "<matplotlib.axes._subplots.AxesSubplot at 0x7f98f80e8410>"
            ]
          },
          "metadata": {
            "tags": []
          },
          "execution_count": 107
        },
        {
          "output_type": "display_data",
          "data": {
            "image/png": "[encoded data removed]",
            "text/plain": [
              "<Figure size 1080x504 with 1 Axes>"
            ]
          },
          "metadata": {
            "tags": [],
            "needs_background": "light"
          }
        }
      ]
    },
    {
      "cell_type": "markdown",
      "metadata": {
        "id": "OGssf1DVFpBS"
      },
      "source": [
        "**Lets make some conclusions**"
      ]
    },
    {
      "cell_type": "markdown",
      "metadata": {
        "id": "GD2Zi5XbEUNJ"
      },
      "source": [
        "* Mary-Kate:\n",
        "    * Most of the sessions are dominated by 2 unique sites\n",
        "    * The beginning of the session falls on the evening\n",
        "    * Most active on weekends\n",
        "* Lindsey:\n",
        "    * Goes to different sites, mostly 8 unique in the session\n",
        "    * The beginning (most) of the session either at 11.00 or 14.00\n",
        "    * Highest activity at the beginning of the week\n",
        "* Ashley:\n",
        "    * Many sessions with 8 unique sites, but there is also a tail when there are only 2 sites\n",
        "    * In most cases, early morning\n",
        "    * Mid-week activity\n",
        "* John:\n",
        "    * Peak at 7 unique sites\n",
        "    * 15.00 or 12.00\n",
        "    * Activity by the end of the working week is growing and is almost zero on weekends\n",
        "* Ed:\n",
        "    * Often 6, 7 or 8 unique sites\n",
        "    * 16.00 highest activity with tails at 12.00 and 20.00\n",
        "    * High activity on weekends\n",
        "* Naomi:\n",
        "    * Peak at 6 o'clock, close to normal\n",
        "    * Highest lunchtime activity\n",
        "    * Most in the middle of the week\n",
        "* Bob:\n",
        "    * Peak at 6, close to normal distribution.\n",
        "    * Highest activity in the morning\n",
        "    * Start and end of the work week, zero activity on weekends\n",
        "* Bill:\n",
        "    * Peak 8 sites with a tail in 1\n",
        "    * Most active at 15.00 and in the morning\n",
        "    * Beginning of the week\n",
        "* Dick:\n",
        "    * Often 2 unique sites\n",
        "    * Activity in the middle of the day\n",
        "    * Most on the weekend\n",
        "* Avril:\n",
        "    * Peak at 6, as close to normal as possible\n",
        "    * Activity in the afternoon and towards the end of the working day\n",
        "    * Approximately the same activity throughout the week"
      ]
    },
    {
      "cell_type": "markdown",
      "metadata": {
        "id": "VAq9xpLqFnr-"
      },
      "source": [
        "##**Part 7. Comparison of several algorithms in sessions from 10 sites**"
      ]
    },
    {
      "cell_type": "code",
      "metadata": {
        "colab": {
          "base_uri": "https://localhost:8080/"
        },
        "id": "TDfz8qRpGMaN",
        "outputId": "a12c233f-f439-4342-d45c-3d85fef6ff00"
      },
      "source": [
        "X_sparse_10users.shape"
      ],
      "execution_count": null,
      "outputs": [
        {
          "output_type": "execute_result",
          "data": {
            "text/plain": [
              "(14061, 4913)"
            ]
          },
          "metadata": {
            "tags": []
          },
          "execution_count": 109
        }
      ]
    },
    {
      "cell_type": "markdown",
      "metadata": {
        "id": "2erKA8AcGUl7"
      },
      "source": [
        "**Splitting our sample for the two ones. One we`re gonna use for cross-validation second for evaluation**"
      ]
    },
    {
      "cell_type": "code",
      "metadata": {
        "id": "-TXgiwCaGR8U"
      },
      "source": [
        "X_train, X_valid, y_train, y_valid = train_test_split(X_sparse_10users, y_10users, \n",
        "                                                      test_size=0.3, \n",
        "                                                     random_state=17, stratify=y_10users)"
      ],
      "execution_count": null,
      "outputs": []
    },
    {
      "cell_type": "code",
      "metadata": {
        "id": "7Tl3yyRSGu2k"
      },
      "source": [
        "skf = StratifiedKFold(n_splits=3, shuffle=True, random_state=17)"
      ],
      "execution_count": null,
      "outputs": []
    },
    {
      "cell_type": "markdown",
      "metadata": {
        "id": "2Px3ZkvNG1RV"
      },
      "source": [
        "**Auxiliary function to plot the learning lines**"
      ]
    },
    {
      "cell_type": "code",
      "metadata": {
        "id": "8_RkUIdwG059"
      },
      "source": [
        "def plot_validation_curves(param_values, grid_cv_results_):\n",
        "    valid_mu, valid_std = grid_cv_results_['mean_test_score'], grid_cv_results_['std_test_score']\n",
        "    valid_line = plt.plot(param_values, valid_mu, '-', label='test', color='red')\n",
        "    plt.fill_between(param_values, valid_mu - valid_std, valid_mu + valid_std, edgecolor='none',\n",
        "                     facecolor=valid_line[0].get_color(), alpha=0.2)\n",
        "    plt.legend()"
      ],
      "execution_count": 54,
      "outputs": []
    },
    {
      "cell_type": "markdown",
      "metadata": {
        "id": "jXQ_E-syHQac"
      },
      "source": [
        "**Lets fit `KNeighborsClassifier` with 100 neighbors**"
      ]
    },
    {
      "cell_type": "code",
      "metadata": {
        "colab": {
          "base_uri": "https://localhost:8080/"
        },
        "id": "eEIpg4-WHgSH",
        "outputId": "3fef7def-c706-4991-ea67-9684e6237df5"
      },
      "source": [
        "knn = KNeighborsClassifier(n_neighbors=100, n_jobs=-1)\n",
        "train1 = round(cross_val_score(knn, X_train, y_train, cv=skf).mean(), 3)\n",
        "\n",
        "knn.fit(X_train.todense(), y_train)\n",
        "valid1 = round(accuracy_score(y_valid, knn.predict(X_valid), 3)\n",
        "\n",
        "print('Train accuracy = {}; Test accuracy = {}'.format(train1, valid1))"
      ],
      "execution_count": null,
      "outputs": [
        {
          "output_type": "stream",
          "text": [
            "Train accuracy = 0.563; Test accuracy = 0.584\n"
          ],
          "name": "stdout"
        }
      ]
    },
    {
      "cell_type": "markdown",
      "metadata": {
        "id": "MEIgU6vmHyTb"
      },
      "source": [
        "**Lets fit `RandomForestClassifier` with 100 trees**"
      ]
    },
    {
      "cell_type": "code",
      "metadata": {
        "colab": {
          "base_uri": "https://localhost:8080/"
        },
        "id": "OpVdyAUQH7mR",
        "outputId": "b33f3ecd-fbef-4f6b-abe0-52de910f0ab1"
      },
      "source": [
        "forest = RandomForestClassifier(n_estimators=100, oob_score=True, n_jobs=-1)\n",
        "train2 = round(cross_val_score(forest, X_train, y_train, cv=skf).mean(), 3)\n",
        "\n",
        "forest.fit(X_train, y_train)\n",
        "valid2 = round(accuracy_score(y_valid, forest.predict(X_valid)), 3)\n",
        "\n",
        "print('Train accuracy = {}; Test accuracy = {}'.format(train2, valid2))"
      ],
      "execution_count": null,
      "outputs": [
        {
          "output_type": "stream",
          "text": [
            "Train accuracy = 0.715; Test accuracy = 0.736\n"
          ],
          "name": "stdout"
        }
      ]
    },
    {
      "cell_type": "markdown",
      "metadata": {
        "id": "1w4CevssILv1"
      },
      "source": [
        "**Lets fit `LogisticRegression` with default parameter C**"
      ]
    },
    {
      "cell_type": "code",
      "metadata": {
        "colab": {
          "base_uri": "https://localhost:8080/"
        },
        "id": "BYIAEPHXISI4",
        "outputId": "15d47324-e18a-4d07-ef0a-998f63445f64"
      },
      "source": [
        "logit = LogisticRegression(random_state=17, n_jobs=-1)\n",
        "train2_5 = round(cross_val_score(logit, X_train, y_train, cv=skf).mean(), 3)\n",
        "\n",
        "logit.fit(X_train, y_train)\n",
        "valid2_5 = round(accuracy_score(y_valid, logit.predict(X_valid)), 3)\n",
        "\n",
        "print('Simple LOGISTIC Regression --> Train accuracy = {}; Test accuracy = {}'.format(train2_5, valid2_5))"
      ],
      "execution_count": null,
      "outputs": [
        {
          "output_type": "stream",
          "text": [
            "Simple LOGISTIC Regression --> Train accuracy = 0.761; Test accuracy = 0.777\n"
          ],
          "name": "stdout"
        }
      ]
    },
    {
      "cell_type": "markdown",
      "metadata": {
        "id": "LBU4hYD8L2T9"
      },
      "source": [
        "**Lets fit LogisticRegressionCV to understand the best C parameter**"
      ]
    },
    {
      "cell_type": "code",
      "metadata": {
        "colab": {
          "base_uri": "https://localhost:8080/"
        },
        "id": "PuIyagCML-p3",
        "outputId": "10bdbca1-bc4e-4d14-c400-f04e40ad082f"
      },
      "source": [
        "%%time\n",
        "logit_c_values1 = np.logspace(-4, 2, 10)\n",
        "\n",
        "logit_grid_searcher1 = LogisticRegressionCV(Cs=logit_c_values1, cv=skf, multi_class='multinomial', random_state=17, n_jobs=-1)\n",
        "logit_grid_searcher1.fit(X_train, y_train)"
      ],
      "execution_count": null,
      "outputs": [
        {
          "output_type": "stream",
          "text": [
            "CPU times: user 3.52 s, sys: 4.33 s, total: 7.85 s\n",
            "Wall time: 30.4 s\n"
          ],
          "name": "stdout"
        }
      ]
    },
    {
      "cell_type": "markdown",
      "metadata": {
        "id": "xtNPe9y7Mukz"
      },
      "source": [
        "**Mean accuracy scores for each C value**"
      ]
    },
    {
      "cell_type": "code",
      "metadata": {
        "colab": {
          "base_uri": "https://localhost:8080/"
        },
        "id": "DD6DyUpZMPut",
        "outputId": "ac479449-dacb-42ca-a82c-bf74ba89db44"
      },
      "source": [
        "scores1 = logit_grid_searcher1.scores_.items()\n",
        "scoress1 = np.zeros((1, 10))\n",
        "for i in scores1:\n",
        "    for j in i[1]:\n",
        "        for k, l in enumerate(j):\n",
        "            scoress1[0][k]+=l\n",
        "logit_mean_cv_scores1 = scoress1/30\n",
        "for i, el in enumerate(logit_mean_cv_scores1[0]):\n",
        "    if el == logit_mean_cv_scores1.max():\n",
        "        ind = i\n",
        "    print('C = {}, mean score = {}'.format(round(logit_c_values1[i], 5), round(el, 3)))"
      ],
      "execution_count": null,
      "outputs": [
        {
          "output_type": "stream",
          "text": [
            "C = 0.0001, mean score = 0.32\n",
            "C = 0.00046, mean score = 0.473\n",
            "C = 0.00215, mean score = 0.552\n",
            "C = 0.01, mean score = 0.649\n",
            "C = 0.04642, mean score = 0.714\n",
            "C = 0.21544, mean score = 0.752\n",
            "C = 1.0, mean score = 0.761\n",
            "C = 4.64159, mean score = 0.758\n",
            "C = 21.54435, mean score = 0.75\n",
            "C = 100.0, mean score = 0.741\n"
          ],
          "name": "stdout"
        }
      ]
    },
    {
      "cell_type": "code",
      "metadata": {
        "colab": {
          "base_uri": "https://localhost:8080/"
        },
        "id": "sD86QogtNUcK",
        "outputId": "2e709483-0340-465d-f07a-e1344a188991"
      },
      "source": [
        "print('The best result = {} for C = {}'.format(round(logit_mean_cv_scores1.max(), 6), logit_c_values1[ind]))"
      ],
      "execution_count": null,
      "outputs": [
        {
          "output_type": "stream",
          "text": [
            "The best result = 0.761229 for C = 0.21544346900318823\n"
          ],
          "name": "stdout"
        }
      ]
    },
    {
      "cell_type": "code",
      "metadata": {
        "colab": {
          "base_uri": "https://localhost:8080/",
          "height": 497
        },
        "id": "gMpNRDUUNlh3",
        "outputId": "d6da52ff-e404-4e75-85fc-1ab828bfa985"
      },
      "source": [
        "plt.figure(figsize=(15,8))\n",
        "plt.xlabel('C Values')\n",
        "plt.ylabel('Score')\n",
        "plt.plot(logit_c_values1, logit_mean_cv_scores1.reshape(-1 ,1));"
      ],
      "execution_count": null,
      "outputs": [
        {
          "output_type": "display_data",
          "data": {
            "image/png": "[encoded data removed]",
            "text/plain": [
              "<Figure size 1080x576 with 1 Axes>"
            ]
          },
          "metadata": {
            "tags": [],
            "needs_background": "light"
          }
        }
      ]
    },
    {
      "cell_type": "markdown",
      "metadata": {
        "id": "TxQ5ag18NtMd"
      },
      "source": [
        "**Lets fit another LogisticRegressionCV, but with C values in range `np.linspace`(0.1, 7, 20)"
      ]
    },
    {
      "cell_type": "code",
      "metadata": {
        "colab": {
          "base_uri": "https://localhost:8080/"
        },
        "id": "Fq31ZsorOqIm",
        "outputId": "17a97278-7853-4f66-e9b9-90395babaf22"
      },
      "source": [
        "%%time\n",
        "logit_c_values2 = np.linspace(0.1, 7, 20)\n",
        "\n",
        "logit_grid_searcher2 = LogisticRegressionCV(Cs=logit_c_values2, cv=skf, multi_class='multinomial', random_state=17, n_jobs=-1)\n",
        "logit_grid_searcher2.fit(X_train, y_train)"
      ],
      "execution_count": null,
      "outputs": [
        {
          "output_type": "stream",
          "text": [
            "CPU times: user 3.34 s, sys: 3.71 s, total: 7.05 s\n",
            "Wall time: 1min 15s\n"
          ],
          "name": "stdout"
        }
      ]
    },
    {
      "cell_type": "code",
      "metadata": {
        "colab": {
          "base_uri": "https://localhost:8080/"
        },
        "id": "2jDOVLwJOx-U",
        "outputId": "cf8ebc3b-5c93-43f8-9944-cafb3bf3507b"
      },
      "source": [
        "scores2 = logit_grid_searcher2.scores_.items()\n",
        "scoress2 = np.zeros((1, 20))\n",
        "for i in scores2:\n",
        "    for j in i[1]:\n",
        "        for k, l in enumerate(j):\n",
        "            scoress2[0][k]+=l\n",
        "logit_mean_cv_scores2 = scoress2/30\n",
        "for i, el in enumerate(logit_mean_cv_scores2[0]):\n",
        "    if el == logit_mean_cv_scores2.max():\n",
        "        ind = i\n",
        "    print('C = {}, mean score = {}'.format(round(logit_c_values2[i], 5), round(el, 3)))"
      ],
      "execution_count": null,
      "outputs": [
        {
          "output_type": "stream",
          "text": [
            "C = 0.1, mean score = 0.735\n",
            "C = 0.46316, mean score = 0.759\n",
            "C = 0.82632, mean score = 0.761\n",
            "C = 1.18947, mean score = 0.761\n",
            "C = 1.55263, mean score = 0.761\n",
            "C = 1.91579, mean score = 0.761\n",
            "C = 2.27895, mean score = 0.76\n",
            "C = 2.64211, mean score = 0.759\n",
            "C = 3.00526, mean score = 0.76\n",
            "C = 3.36842, mean score = 0.759\n",
            "C = 3.73158, mean score = 0.759\n",
            "C = 4.09474, mean score = 0.758\n",
            "C = 4.45789, mean score = 0.758\n",
            "C = 4.82105, mean score = 0.757\n",
            "C = 5.18421, mean score = 0.757\n",
            "C = 5.54737, mean score = 0.756\n",
            "C = 5.91053, mean score = 0.756\n",
            "C = 6.27368, mean score = 0.755\n",
            "C = 6.63684, mean score = 0.754\n",
            "C = 7.0, mean score = 0.753\n"
          ],
          "name": "stdout"
        }
      ]
    },
    {
      "cell_type": "code",
      "metadata": {
        "colab": {
          "base_uri": "https://localhost:8080/"
        },
        "id": "GRphk6lIO7Ul",
        "outputId": "a3b150d4-6000-4d06-89e0-6b97cbdbfe83"
      },
      "source": [
        "print('The best result = {} for C = {}'.format(round(logit_mean_cv_scores2.max(), 6), round(logit_c_values2[ind], 3)))"
      ],
      "execution_count": null,
      "outputs": [
        {
          "output_type": "stream",
          "text": [
            "The best result = 0.761229 for C = 1.916\n"
          ],
          "name": "stdout"
        }
      ]
    },
    {
      "cell_type": "code",
      "metadata": {
        "colab": {
          "base_uri": "https://localhost:8080/",
          "height": 334
        },
        "id": "hWBJq4Z7O56J",
        "outputId": "d2698399-8400-409f-c06f-ac727c81b739"
      },
      "source": [
        "plt.figure(figsize=(12, 5))\n",
        "plt.xlabel('C Values')\n",
        "plt.ylabel('Scores')\n",
        "plt.plot(logit_c_values2, logit_mean_cv_scores2.reshape(-1, 1));"
      ],
      "execution_count": null,
      "outputs": [
        {
          "output_type": "display_data",
          "data": {
            "image/png": "[encoded data removed]",
            "text/plain": [
              "<Figure size 864x360 with 1 Axes>"
            ]
          },
          "metadata": {
            "tags": [],
            "needs_background": "light"
          }
        }
      ]
    },
    {
      "cell_type": "markdown",
      "metadata": {
        "id": "WPwgondtPnZL"
      },
      "source": [
        "**Lets fir Linear SVC**"
      ]
    },
    {
      "cell_type": "code",
      "metadata": {
        "colab": {
          "base_uri": "https://localhost:8080/"
        },
        "id": "f0JFGkErPrNJ",
        "outputId": "1c1e41d9-d698-4dcd-bc39-08d170add56b"
      },
      "source": [
        "svm = LinearSVC(C=1, random_state=17)\n",
        "train3 = (cross_val_score(svm, X_train, y_train, cv=skf).mean())\n",
        "\n",
        "svm.fit(X_train, y_train)\n",
        "valid3 = accuracy_score(y_valid, svm.predict(X_valid))\n",
        "\n",
        "print('Linear SVC --> train score = {}, test score = {}'.format(round(train3, 3), round(valid3, 3)))"
      ],
      "execution_count": null,
      "outputs": [
        {
          "output_type": "stream",
          "text": [
            "Linear SVC --> train score = 0.751, test score = 0.777\n"
          ],
          "name": "stdout"
        }
      ]
    },
    {
      "cell_type": "markdown",
      "metadata": {
        "id": "8j4gTq5DSo6Y"
      },
      "source": [
        "**Lets try to find the best C parameter for Linear SVC**"
      ]
    },
    {
      "cell_type": "code",
      "metadata": {
        "colab": {
          "base_uri": "https://localhost:8080/"
        },
        "id": "ePo7Rv6VSnMz",
        "outputId": "6e6886e8-e1e6-46a5-9831-743cc758cb7c"
      },
      "source": [
        "%%time\n",
        "svm_params1 = {'C': np.linspace(1e-4, 1e4, 10)}\n",
        "\n",
        "svm_grid_searcher1 = GridSearchCV(svm, param_grid=svm_params1)\n",
        "svm_grid_searcher1.fit(X_train, y_train)"
      ],
      "execution_count": null,
      "outputs": [
        {
          "output_type": "stream",
          "text": [
            "CPU times: user 1min 57s, sys: 110 ms, total: 1min 57s\n",
            "Wall time: 1min 56s\n"
          ],
          "name": "stdout"
        }
      ]
    },
    {
      "cell_type": "code",
      "metadata": {
        "colab": {
          "base_uri": "https://localhost:8080/"
        },
        "id": "6jDii70RhyS9",
        "outputId": "7413e7f5-e997-4ee7-f913-29c201f7e821"
      },
      "source": [
        "print('Best score = {}, with C = {}'.format(svm_grid_searcher1.best_score_, svm_grid_searcher1.best_params_))"
      ],
      "execution_count": null,
      "outputs": [
        {
          "output_type": "stream",
          "text": [
            "Best score = 0.7001622196897438, with C = {'C': 2222.2223000000004}\n"
          ],
          "name": "stdout"
        }
      ]
    },
    {
      "cell_type": "code",
      "metadata": {
        "colab": {
          "base_uri": "https://localhost:8080/",
          "height": 445
        },
        "id": "kM9xXTt9h1ek",
        "outputId": "756153e9-66e1-4f8f-d432-e483c961b196"
      },
      "source": [
        "plt.figure(figsize=(15, 7))\n",
        "plt.xlabel('C Values')\n",
        "plt.ylabel('Score')\n",
        "plot_validation_curves(svm_params1['C'], svm_grid_searcher1.cv_results_)"
      ],
      "execution_count": null,
      "outputs": [
        {
          "output_type": "display_data",
          "data": {
            "image/png": "[encoded data removed]",
            "text/plain": [
              "<Figure size 1080x504 with 1 Axes>"
            ]
          },
          "metadata": {
            "tags": [],
            "needs_background": "light"
          }
        }
      ]
    },
    {
      "cell_type": "markdown",
      "metadata": {
        "id": "SbYvayVQiJ9h"
      },
      "source": [
        "**Lets try to change the range for C values**"
      ]
    },
    {
      "cell_type": "code",
      "metadata": {
        "colab": {
          "base_uri": "https://localhost:8080/"
        },
        "id": "PtDRhKDPiOMD",
        "outputId": "35eb042a-7a08-4f1c-f233-b7271f9bbae3"
      },
      "source": [
        "%%time\n",
        "svm_params2 = {'C': np.linspace(1e-3, 1, 30)}\n",
        "\n",
        "svm_grid_searcher2 = GridSearchCV(svm, svm_params2)\n",
        "svm_grid_searcher2.fit(X_train, y_train)"
      ],
      "execution_count": null,
      "outputs": [
        {
          "output_type": "stream",
          "text": [
            "CPU times: user 3min 16s, sys: 190 ms, total: 3min 16s\n",
            "Wall time: 3min 16s\n"
          ],
          "name": "stdout"
        }
      ]
    },
    {
      "cell_type": "code",
      "metadata": {
        "colab": {
          "base_uri": "https://localhost:8080/"
        },
        "id": "LlHsq3AyiQkB",
        "outputId": "103a8916-2b06-4c7c-ce76-efc01ec0fa04"
      },
      "source": [
        "print('Best score = {}, with C = {}'.format(svm_grid_searcher2.best_score_, svm_grid_searcher2.best_params_))"
      ],
      "execution_count": null,
      "outputs": [
        {
          "output_type": "stream",
          "text": [
            "Best score = 0.7701686093803548, with C = {'C': 0.10434482758620689}\n"
          ],
          "name": "stdout"
        }
      ]
    },
    {
      "cell_type": "code",
      "metadata": {
        "colab": {
          "base_uri": "https://localhost:8080/",
          "height": 442
        },
        "id": "IK54EnqSiS76",
        "outputId": "d2ffbe14-1ae5-426e-b622-67af3a75ef37"
      },
      "source": [
        "plt.figure(figsize=(15, 7))\n",
        "plt.xlabel('C Values')\n",
        "plt.ylabel('Score')\n",
        "plot_validation_curves(svm_params2['C'], svm_grid_searcher2.cv_results_)"
      ],
      "execution_count": null,
      "outputs": [
        {
          "output_type": "display_data",
          "data": {
            "image/png": "[encoded data removed]",
            "text/plain": [
              "<Figure size 1080x504 with 1 Axes>"
            ]
          },
          "metadata": {
            "tags": [],
            "needs_background": "light"
          }
        }
      ]
    },
    {
      "cell_type": "markdown",
      "metadata": {
        "id": "qYJaClgUjwbo"
      },
      "source": [
        "**Lets try to apply our best estimator on the different configures of session length and window size**"
      ]
    },
    {
      "cell_type": "code",
      "metadata": {
        "id": "eg9nOwloj6df"
      },
      "source": [
        "def model_assessment(estimator, path_to_X_sparse, path_to_y, cv, random_state=17, test_size=0.3):\n",
        "    \n",
        "    X_sparse = scipy.sparse.load_npz(os.path.join(PATH_TO_DATA, path_to_X_sparse))\n",
        "    with open(os.path.join(PATH_TO_DATA, path_to_y), 'r') as filet:\n",
        "        y = filet.readlines()\n",
        "\n",
        "    \n",
        "    X_train_f, X_valid_f, y_train_f, y_valid_f = train_test_split(X_sparse, y, \n",
        "                                                      test_size=test_size, \n",
        "                                                     random_state=17, stratify=y)\n",
        "    mean_score = cross_val_score(estimator, X_train_f, y_train_f, cv=cv).mean()\n",
        "    estimator.fit(X_train_f, y_train_f)\n",
        "    valid_score = accuracy_score(estimator.predict(X_valid_f), y_valid_f)\n",
        "    return mean_score, valid_score"
      ],
      "execution_count": null,
      "outputs": []
    },
    {
      "cell_type": "markdown",
      "metadata": {
        "id": "rHQE2a07kJWQ"
      },
      "source": [
        "**Lets check if it works**"
      ]
    },
    {
      "cell_type": "code",
      "metadata": {
        "colab": {
          "base_uri": "https://localhost:8080/"
        },
        "id": "S0rMYdoZkGLn",
        "outputId": "59d63e60-5dfb-48e6-cc7e-cfe8e7154d3f"
      },
      "source": [
        "model_assessment(svm_grid_searcher2.best_estimator_, \n",
        "                 os.path.join(PATH_TO_DATA, 'Pickles/X_sparse_10users.npz'),\n",
        "        os.path.join(PATH_TO_DATA, 'Pickles/y_10users.txt'), skf, random_state=17, test_size=0.3)"
      ],
      "execution_count": null,
      "outputs": [
        {
          "output_type": "execute_result",
          "data": {
            "text/plain": [
              "(0.7651891402333714, 0.7793315951647309)"
            ]
          },
          "metadata": {
            "tags": []
          },
          "execution_count": 157
        }
      ]
    },
    {
      "cell_type": "markdown",
      "metadata": {
        "id": "T9HBLUErk0I2"
      },
      "source": [
        "**So now lets try to apply this function to a different configurations**"
      ]
    },
    {
      "cell_type": "code",
      "metadata": {
        "colab": {
          "base_uri": "https://localhost:8080/"
        },
        "id": "fTthaRRrkvM3",
        "outputId": "0b8a0150-353c-4ec9-f8fb-0a3c41bee278"
      },
      "source": [
        "\n",
        "estimator = svm_grid_searcher2.best_estimator_\n",
        "\n",
        "for window_size, session_length in itertools.product([10, 7, 5], [15, 10, 7, 5]):\n",
        "    if window_size <= session_length:\n",
        "        path_to_X_pkl = 'Pickles/X_sparse_{0}users_s{1}_w{2}.npz'.format(10, session_length, window_size)\n",
        "        path_to_y_pkl = 'Pickles/y_{0}users_s{1}_w{2}.txt'.format(10, session_length, window_size)\n",
        "        start = time.time()\n",
        "        cvc, vc = model_assessment(estimator, path_to_X_pkl, path_to_y_pkl, cv=skf)\n",
        "        end = time.time() - start\n",
        "        print('Session length = {}, Window size = {}, Train score = {}, Test score = {}, Time = {} sec'.format(session_length,\n",
        "                                                                                                               window_size, round(cvc, 3), round(vc, 3), round(end, 5)))"
      ],
      "execution_count": null,
      "outputs": [
        {
          "output_type": "stream",
          "text": [
            "Session length = 15, Window size = 10, Train score = 0.823, Test score = 0.837, Time = 3.69531 sec\n",
            "Session length = 10, Window size = 10, Train score = 0.765, Test score = 0.779, Time = 2.24886 sec\n",
            "Session length = 15, Window size = 7, Train score = 0.845, Test score = 0.861, Time = 5.36206 sec\n",
            "Session length = 10, Window size = 7, Train score = 0.798, Test score = 0.81, Time = 2.98023 sec\n",
            "Session length = 7, Window size = 7, Train score = 0.747, Test score = 0.76, Time = 1.88461 sec\n",
            "Session length = 15, Window size = 5, Train score = 0.866, Test score = 0.873, Time = 7.23738 sec\n",
            "Session length = 10, Window size = 5, Train score = 0.819, Test score = 0.822, Time = 4.27214 sec\n",
            "Session length = 7, Window size = 5, Train score = 0.775, Test score = 0.782, Time = 2.74238 sec\n",
            "Session length = 5, Window size = 5, Train score = 0.726, Test score = 0.732, Time = 1.84333 sec\n"
          ],
          "name": "stdout"
        }
      ]
    },
    {
      "cell_type": "markdown",
      "metadata": {
        "id": "Lr123-YzmlhT"
      },
      "source": [
        "**As we can see the best result shows sample with session length 15 and window size 5**"
      ]
    },
    {
      "cell_type": "markdown",
      "metadata": {
        "id": "QGPpknMJm0L9"
      },
      "source": [
        "##**Part 8. Kaggle Competition \"Catch me if you can\"**"
      ]
    },
    {
      "cell_type": "markdown",
      "metadata": {
        "id": "It4l3qcivt1G"
      },
      "source": [
        "**Lets download the data from competition**"
      ]
    },
    {
      "cell_type": "code",
      "metadata": {
        "id": "Jw0fDMoRrPKZ"
      },
      "source": [
        "train_df = pd.read_csv(os.path.join(PATH_TO_DATA, 'train_sessions.csv'),\n",
        "                       index_col='session_id')\n",
        "test_df = pd.read_csv(os.path.join(PATH_TO_DATA, 'test_sessions.csv'),\n",
        "                      index_col='session_id')"
      ],
      "execution_count": 3,
      "outputs": []
    },
    {
      "cell_type": "code",
      "metadata": {
        "colab": {
          "base_uri": "https://localhost:8080/",
          "height": 405
        },
        "id": "KJvBvipMv5Uk",
        "outputId": "9238f5d3-b48b-40d9-a88a-52eb58ccc003"
      },
      "source": [
        "train_df.head()"
      ],
      "execution_count": null,
      "outputs": [
        {
          "output_type": "execute_result",
          "data": {
            "text/html": [
              "<div>\n",
              "<style scoped>\n",
              "    .dataframe tbody tr th:only-of-type {\n",
              "        vertical-align: middle;\n",
              "    }\n",
              "\n",
              "    .dataframe tbody tr th {\n",
              "        vertical-align: top;\n",
              "    }\n",
              "\n",
              "    .dataframe thead th {\n",
              "        text-align: right;\n",
              "    }\n",
              "</style>\n",
              "<table border=\"1\" class=\"dataframe\">\n",
              "  <thead>\n",
              "    <tr style=\"text-align: right;\">\n",
              "      <th></th>\n",
              "      <th>site1</th>\n",
              "      <th>time1</th>\n",
              "      <th>site2</th>\n",
              "      <th>time2</th>\n",
              "      <th>site3</th>\n",
              "      <th>time3</th>\n",
              "      <th>site4</th>\n",
              "      <th>time4</th>\n",
              "      <th>site5</th>\n",
              "      <th>time5</th>\n",
              "      <th>site6</th>\n",
              "      <th>time6</th>\n",
              "      <th>site7</th>\n",
              "      <th>time7</th>\n",
              "      <th>site8</th>\n",
              "      <th>time8</th>\n",
              "      <th>site9</th>\n",
              "      <th>time9</th>\n",
              "      <th>site10</th>\n",
              "      <th>time10</th>\n",
              "      <th>target</th>\n",
              "    </tr>\n",
              "    <tr>\n",
              "      <th>session_id</th>\n",
              "      <th></th>\n",
              "      <th></th>\n",
              "      <th></th>\n",
              "      <th></th>\n",
              "      <th></th>\n",
              "      <th></th>\n",
              "      <th></th>\n",
              "      <th></th>\n",
              "      <th></th>\n",
              "      <th></th>\n",
              "      <th></th>\n",
              "      <th></th>\n",
              "      <th></th>\n",
              "      <th></th>\n",
              "      <th></th>\n",
              "      <th></th>\n",
              "      <th></th>\n",
              "      <th></th>\n",
              "      <th></th>\n",
              "      <th></th>\n",
              "      <th></th>\n",
              "    </tr>\n",
              "  </thead>\n",
              "  <tbody>\n",
              "    <tr>\n",
              "      <th>1</th>\n",
              "      <td>718</td>\n",
              "      <td>2014-02-20 10:02:45</td>\n",
              "      <td>NaN</td>\n",
              "      <td>NaN</td>\n",
              "      <td>NaN</td>\n",
              "      <td>NaN</td>\n",
              "      <td>NaN</td>\n",
              "      <td>NaN</td>\n",
              "      <td>NaN</td>\n",
              "      <td>NaN</td>\n",
              "      <td>NaN</td>\n",
              "      <td>NaN</td>\n",
              "      <td>NaN</td>\n",
              "      <td>NaN</td>\n",
              "      <td>NaN</td>\n",
              "      <td>NaN</td>\n",
              "      <td>NaN</td>\n",
              "      <td>NaN</td>\n",
              "      <td>NaN</td>\n",
              "      <td>NaN</td>\n",
              "      <td>0</td>\n",
              "    </tr>\n",
              "    <tr>\n",
              "      <th>2</th>\n",
              "      <td>890</td>\n",
              "      <td>2014-02-22 11:19:50</td>\n",
              "      <td>941.0</td>\n",
              "      <td>2014-02-22 11:19:50</td>\n",
              "      <td>3847.0</td>\n",
              "      <td>2014-02-22 11:19:51</td>\n",
              "      <td>941.0</td>\n",
              "      <td>2014-02-22 11:19:51</td>\n",
              "      <td>942.0</td>\n",
              "      <td>2014-02-22 11:19:51</td>\n",
              "      <td>3846.0</td>\n",
              "      <td>2014-02-22 11:19:51</td>\n",
              "      <td>3847.0</td>\n",
              "      <td>2014-02-22 11:19:52</td>\n",
              "      <td>3846.0</td>\n",
              "      <td>2014-02-22 11:19:52</td>\n",
              "      <td>1516.0</td>\n",
              "      <td>2014-02-22 11:20:15</td>\n",
              "      <td>1518.0</td>\n",
              "      <td>2014-02-22 11:20:16</td>\n",
              "      <td>0</td>\n",
              "    </tr>\n",
              "    <tr>\n",
              "      <th>3</th>\n",
              "      <td>14769</td>\n",
              "      <td>2013-12-16 16:40:17</td>\n",
              "      <td>39.0</td>\n",
              "      <td>2013-12-16 16:40:18</td>\n",
              "      <td>14768.0</td>\n",
              "      <td>2013-12-16 16:40:19</td>\n",
              "      <td>14769.0</td>\n",
              "      <td>2013-12-16 16:40:19</td>\n",
              "      <td>37.0</td>\n",
              "      <td>2013-12-16 16:40:19</td>\n",
              "      <td>39.0</td>\n",
              "      <td>2013-12-16 16:40:19</td>\n",
              "      <td>14768.0</td>\n",
              "      <td>2013-12-16 16:40:20</td>\n",
              "      <td>14768.0</td>\n",
              "      <td>2013-12-16 16:40:21</td>\n",
              "      <td>14768.0</td>\n",
              "      <td>2013-12-16 16:40:22</td>\n",
              "      <td>14768.0</td>\n",
              "      <td>2013-12-16 16:40:24</td>\n",
              "      <td>0</td>\n",
              "    </tr>\n",
              "    <tr>\n",
              "      <th>4</th>\n",
              "      <td>782</td>\n",
              "      <td>2014-03-28 10:52:12</td>\n",
              "      <td>782.0</td>\n",
              "      <td>2014-03-28 10:52:42</td>\n",
              "      <td>782.0</td>\n",
              "      <td>2014-03-28 10:53:12</td>\n",
              "      <td>782.0</td>\n",
              "      <td>2014-03-28 10:53:42</td>\n",
              "      <td>782.0</td>\n",
              "      <td>2014-03-28 10:54:12</td>\n",
              "      <td>782.0</td>\n",
              "      <td>2014-03-28 10:54:42</td>\n",
              "      <td>782.0</td>\n",
              "      <td>2014-03-28 10:55:12</td>\n",
              "      <td>782.0</td>\n",
              "      <td>2014-03-28 10:55:42</td>\n",
              "      <td>782.0</td>\n",
              "      <td>2014-03-28 10:56:12</td>\n",
              "      <td>782.0</td>\n",
              "      <td>2014-03-28 10:56:42</td>\n",
              "      <td>0</td>\n",
              "    </tr>\n",
              "    <tr>\n",
              "      <th>5</th>\n",
              "      <td>22</td>\n",
              "      <td>2014-02-28 10:53:05</td>\n",
              "      <td>177.0</td>\n",
              "      <td>2014-02-28 10:55:22</td>\n",
              "      <td>175.0</td>\n",
              "      <td>2014-02-28 10:55:22</td>\n",
              "      <td>178.0</td>\n",
              "      <td>2014-02-28 10:55:23</td>\n",
              "      <td>177.0</td>\n",
              "      <td>2014-02-28 10:55:23</td>\n",
              "      <td>178.0</td>\n",
              "      <td>2014-02-28 10:55:59</td>\n",
              "      <td>175.0</td>\n",
              "      <td>2014-02-28 10:55:59</td>\n",
              "      <td>177.0</td>\n",
              "      <td>2014-02-28 10:55:59</td>\n",
              "      <td>177.0</td>\n",
              "      <td>2014-02-28 10:57:06</td>\n",
              "      <td>178.0</td>\n",
              "      <td>2014-02-28 10:57:11</td>\n",
              "      <td>0</td>\n",
              "    </tr>\n",
              "  </tbody>\n",
              "</table>\n",
              "</div>"
            ],
            "text/plain": [
              "            site1                time1  ...               time10 target\n",
              "session_id                              ...                            \n",
              "1             718  2014-02-20 10:02:45  ...                  NaN      0\n",
              "2             890  2014-02-22 11:19:50  ...  2014-02-22 11:20:16      0\n",
              "3           14769  2013-12-16 16:40:17  ...  2013-12-16 16:40:24      0\n",
              "4             782  2014-03-28 10:52:12  ...  2014-03-28 10:56:42      0\n",
              "5              22  2014-02-28 10:53:05  ...  2014-02-28 10:57:11      0\n",
              "\n",
              "[5 rows x 21 columns]"
            ]
          },
          "metadata": {
            "tags": []
          },
          "execution_count": 6
        }
      ]
    },
    {
      "cell_type": "markdown",
      "metadata": {
        "id": "pN01cWakwCCK"
      },
      "source": [
        "**Lets concatenate our train and test samples to make sparse matrix for a whole sample**"
      ]
    },
    {
      "cell_type": "code",
      "metadata": {
        "id": "gSljpV3HwArj"
      },
      "source": [
        "train_test_df = pd.concat([train_df, test_df])"
      ],
      "execution_count": 4,
      "outputs": []
    },
    {
      "cell_type": "code",
      "metadata": {
        "colab": {
          "base_uri": "https://localhost:8080/"
        },
        "id": "xMpVm3xmwOyc",
        "outputId": "8e017224-4c14-46c3-f959-9b48f06996ee"
      },
      "source": [
        "train_df.info()"
      ],
      "execution_count": null,
      "outputs": [
        {
          "output_type": "stream",
          "text": [
            "<class 'pandas.core.frame.DataFrame'>\n",
            "Int64Index: 253561 entries, 1 to 253561\n",
            "Data columns (total 21 columns):\n",
            " #   Column  Non-Null Count   Dtype  \n",
            "---  ------  --------------   -----  \n",
            " 0   site1   253561 non-null  int64  \n",
            " 1   time1   253561 non-null  object \n",
            " 2   site2   250098 non-null  float64\n",
            " 3   time2   250098 non-null  object \n",
            " 4   site3   246919 non-null  float64\n",
            " 5   time3   246919 non-null  object \n",
            " 6   site4   244321 non-null  float64\n",
            " 7   time4   244321 non-null  object \n",
            " 8   site5   241829 non-null  float64\n",
            " 9   time5   241829 non-null  object \n",
            " 10  site6   239495 non-null  float64\n",
            " 11  time6   239495 non-null  object \n",
            " 12  site7   237297 non-null  float64\n",
            " 13  time7   237297 non-null  object \n",
            " 14  site8   235224 non-null  float64\n",
            " 15  time8   235224 non-null  object \n",
            " 16  site9   233084 non-null  float64\n",
            " 17  time9   233084 non-null  object \n",
            " 18  site10  231052 non-null  float64\n",
            " 19  time10  231052 non-null  object \n",
            " 20  target  253561 non-null  int64  \n",
            "dtypes: float64(9), int64(2), object(10)\n",
            "memory usage: 42.6+ MB\n"
          ],
          "name": "stdout"
        }
      ]
    },
    {
      "cell_type": "code",
      "metadata": {
        "colab": {
          "base_uri": "https://localhost:8080/",
          "height": 405
        },
        "id": "HONCXbS4wR_b",
        "outputId": "ba3ba441-3ba1-4b39-87d6-53e515cfa952"
      },
      "source": [
        "test_df.head()"
      ],
      "execution_count": null,
      "outputs": [
        {
          "output_type": "execute_result",
          "data": {
            "text/html": [
              "<div>\n",
              "<style scoped>\n",
              "    .dataframe tbody tr th:only-of-type {\n",
              "        vertical-align: middle;\n",
              "    }\n",
              "\n",
              "    .dataframe tbody tr th {\n",
              "        vertical-align: top;\n",
              "    }\n",
              "\n",
              "    .dataframe thead th {\n",
              "        text-align: right;\n",
              "    }\n",
              "</style>\n",
              "<table border=\"1\" class=\"dataframe\">\n",
              "  <thead>\n",
              "    <tr style=\"text-align: right;\">\n",
              "      <th></th>\n",
              "      <th>site1</th>\n",
              "      <th>time1</th>\n",
              "      <th>site2</th>\n",
              "      <th>time2</th>\n",
              "      <th>site3</th>\n",
              "      <th>time3</th>\n",
              "      <th>site4</th>\n",
              "      <th>time4</th>\n",
              "      <th>site5</th>\n",
              "      <th>time5</th>\n",
              "      <th>site6</th>\n",
              "      <th>time6</th>\n",
              "      <th>site7</th>\n",
              "      <th>time7</th>\n",
              "      <th>site8</th>\n",
              "      <th>time8</th>\n",
              "      <th>site9</th>\n",
              "      <th>time9</th>\n",
              "      <th>site10</th>\n",
              "      <th>time10</th>\n",
              "    </tr>\n",
              "    <tr>\n",
              "      <th>session_id</th>\n",
              "      <th></th>\n",
              "      <th></th>\n",
              "      <th></th>\n",
              "      <th></th>\n",
              "      <th></th>\n",
              "      <th></th>\n",
              "      <th></th>\n",
              "      <th></th>\n",
              "      <th></th>\n",
              "      <th></th>\n",
              "      <th></th>\n",
              "      <th></th>\n",
              "      <th></th>\n",
              "      <th></th>\n",
              "      <th></th>\n",
              "      <th></th>\n",
              "      <th></th>\n",
              "      <th></th>\n",
              "      <th></th>\n",
              "      <th></th>\n",
              "    </tr>\n",
              "  </thead>\n",
              "  <tbody>\n",
              "    <tr>\n",
              "      <th>1</th>\n",
              "      <td>29</td>\n",
              "      <td>2014-10-04 11:19:53</td>\n",
              "      <td>35.0</td>\n",
              "      <td>2014-10-04 11:19:53</td>\n",
              "      <td>22.0</td>\n",
              "      <td>2014-10-04 11:19:54</td>\n",
              "      <td>321.0</td>\n",
              "      <td>2014-10-04 11:19:54</td>\n",
              "      <td>23.0</td>\n",
              "      <td>2014-10-04 11:19:54</td>\n",
              "      <td>2211.0</td>\n",
              "      <td>2014-10-04 11:19:54</td>\n",
              "      <td>6730.0</td>\n",
              "      <td>2014-10-04 11:19:54</td>\n",
              "      <td>21.0</td>\n",
              "      <td>2014-10-04 11:19:54</td>\n",
              "      <td>44582.0</td>\n",
              "      <td>2014-10-04 11:20:00</td>\n",
              "      <td>15336.0</td>\n",
              "      <td>2014-10-04 11:20:00</td>\n",
              "    </tr>\n",
              "    <tr>\n",
              "      <th>2</th>\n",
              "      <td>782</td>\n",
              "      <td>2014-07-03 11:00:28</td>\n",
              "      <td>782.0</td>\n",
              "      <td>2014-07-03 11:00:53</td>\n",
              "      <td>782.0</td>\n",
              "      <td>2014-07-03 11:00:58</td>\n",
              "      <td>782.0</td>\n",
              "      <td>2014-07-03 11:01:06</td>\n",
              "      <td>782.0</td>\n",
              "      <td>2014-07-03 11:01:09</td>\n",
              "      <td>782.0</td>\n",
              "      <td>2014-07-03 11:01:10</td>\n",
              "      <td>782.0</td>\n",
              "      <td>2014-07-03 11:01:23</td>\n",
              "      <td>782.0</td>\n",
              "      <td>2014-07-03 11:01:29</td>\n",
              "      <td>782.0</td>\n",
              "      <td>2014-07-03 11:01:30</td>\n",
              "      <td>782.0</td>\n",
              "      <td>2014-07-03 11:01:53</td>\n",
              "    </tr>\n",
              "    <tr>\n",
              "      <th>3</th>\n",
              "      <td>55</td>\n",
              "      <td>2014-12-05 15:55:12</td>\n",
              "      <td>55.0</td>\n",
              "      <td>2014-12-05 15:55:13</td>\n",
              "      <td>55.0</td>\n",
              "      <td>2014-12-05 15:55:14</td>\n",
              "      <td>55.0</td>\n",
              "      <td>2014-12-05 15:56:15</td>\n",
              "      <td>55.0</td>\n",
              "      <td>2014-12-05 15:56:16</td>\n",
              "      <td>55.0</td>\n",
              "      <td>2014-12-05 15:56:17</td>\n",
              "      <td>55.0</td>\n",
              "      <td>2014-12-05 15:56:18</td>\n",
              "      <td>55.0</td>\n",
              "      <td>2014-12-05 15:56:19</td>\n",
              "      <td>1445.0</td>\n",
              "      <td>2014-12-05 15:56:33</td>\n",
              "      <td>1445.0</td>\n",
              "      <td>2014-12-05 15:56:36</td>\n",
              "    </tr>\n",
              "    <tr>\n",
              "      <th>4</th>\n",
              "      <td>1023</td>\n",
              "      <td>2014-11-04 10:03:19</td>\n",
              "      <td>1022.0</td>\n",
              "      <td>2014-11-04 10:03:19</td>\n",
              "      <td>50.0</td>\n",
              "      <td>2014-11-04 10:03:20</td>\n",
              "      <td>222.0</td>\n",
              "      <td>2014-11-04 10:03:21</td>\n",
              "      <td>202.0</td>\n",
              "      <td>2014-11-04 10:03:21</td>\n",
              "      <td>3374.0</td>\n",
              "      <td>2014-11-04 10:03:22</td>\n",
              "      <td>50.0</td>\n",
              "      <td>2014-11-04 10:03:22</td>\n",
              "      <td>48.0</td>\n",
              "      <td>2014-11-04 10:03:22</td>\n",
              "      <td>48.0</td>\n",
              "      <td>2014-11-04 10:03:23</td>\n",
              "      <td>3374.0</td>\n",
              "      <td>2014-11-04 10:03:23</td>\n",
              "    </tr>\n",
              "    <tr>\n",
              "      <th>5</th>\n",
              "      <td>301</td>\n",
              "      <td>2014-05-16 15:05:31</td>\n",
              "      <td>301.0</td>\n",
              "      <td>2014-05-16 15:05:32</td>\n",
              "      <td>301.0</td>\n",
              "      <td>2014-05-16 15:05:33</td>\n",
              "      <td>66.0</td>\n",
              "      <td>2014-05-16 15:05:39</td>\n",
              "      <td>67.0</td>\n",
              "      <td>2014-05-16 15:05:40</td>\n",
              "      <td>69.0</td>\n",
              "      <td>2014-05-16 15:05:40</td>\n",
              "      <td>70.0</td>\n",
              "      <td>2014-05-16 15:05:40</td>\n",
              "      <td>68.0</td>\n",
              "      <td>2014-05-16 15:05:40</td>\n",
              "      <td>71.0</td>\n",
              "      <td>2014-05-16 15:05:40</td>\n",
              "      <td>167.0</td>\n",
              "      <td>2014-05-16 15:05:44</td>\n",
              "    </tr>\n",
              "  </tbody>\n",
              "</table>\n",
              "</div>"
            ],
            "text/plain": [
              "            site1                time1  ...   site10               time10\n",
              "session_id                              ...                              \n",
              "1              29  2014-10-04 11:19:53  ...  15336.0  2014-10-04 11:20:00\n",
              "2             782  2014-07-03 11:00:28  ...    782.0  2014-07-03 11:01:53\n",
              "3              55  2014-12-05 15:55:12  ...   1445.0  2014-12-05 15:56:36\n",
              "4            1023  2014-11-04 10:03:19  ...   3374.0  2014-11-04 10:03:23\n",
              "5             301  2014-05-16 15:05:31  ...    167.0  2014-05-16 15:05:44\n",
              "\n",
              "[5 rows x 20 columns]"
            ]
          },
          "metadata": {
            "tags": []
          },
          "execution_count": 9
        }
      ]
    },
    {
      "cell_type": "code",
      "metadata": {
        "colab": {
          "base_uri": "https://localhost:8080/"
        },
        "id": "EASkQ6RGwSey",
        "outputId": "866e8c52-0cc0-4dbe-c04d-89ab5832fa19"
      },
      "source": [
        "test_df.info()"
      ],
      "execution_count": null,
      "outputs": [
        {
          "output_type": "stream",
          "text": [
            "<class 'pandas.core.frame.DataFrame'>\n",
            "Int64Index: 82797 entries, 1 to 82797\n",
            "Data columns (total 20 columns):\n",
            " #   Column  Non-Null Count  Dtype  \n",
            "---  ------  --------------  -----  \n",
            " 0   site1   82797 non-null  int64  \n",
            " 1   time1   82797 non-null  object \n",
            " 2   site2   81308 non-null  float64\n",
            " 3   time2   81308 non-null  object \n",
            " 4   site3   80075 non-null  float64\n",
            " 5   time3   80075 non-null  object \n",
            " 6   site4   79182 non-null  float64\n",
            " 7   time4   79182 non-null  object \n",
            " 8   site5   78341 non-null  float64\n",
            " 9   time5   78341 non-null  object \n",
            " 10  site6   77566 non-null  float64\n",
            " 11  time6   77566 non-null  object \n",
            " 12  site7   76840 non-null  float64\n",
            " 13  time7   76840 non-null  object \n",
            " 14  site8   76151 non-null  float64\n",
            " 15  time8   76151 non-null  object \n",
            " 16  site9   75484 non-null  float64\n",
            " 17  time9   75484 non-null  object \n",
            " 18  site10  74806 non-null  float64\n",
            " 19  time10  74806 non-null  object \n",
            "dtypes: float64(9), int64(1), object(10)\n",
            "memory usage: 13.3+ MB\n"
          ],
          "name": "stdout"
        }
      ]
    },
    {
      "cell_type": "markdown",
      "metadata": {
        "id": "oQw9XQApwX-e"
      },
      "source": [
        "**In our sample we have 2297 sessions of hour user Alice and 251264 sessions of other users**"
      ]
    },
    {
      "cell_type": "code",
      "metadata": {
        "colab": {
          "base_uri": "https://localhost:8080/"
        },
        "id": "zNsnAT-TwT6T",
        "outputId": "4911a316-ce70-46e4-f6fb-06a3208a52b6"
      },
      "source": [
        "train_df['target'].value_counts()"
      ],
      "execution_count": 5,
      "outputs": [
        {
          "output_type": "execute_result",
          "data": {
            "text/plain": [
              "0    251264\n",
              "1      2297\n",
              "Name: target, dtype: int64"
            ]
          },
          "metadata": {
            "tags": []
          },
          "execution_count": 5
        }
      ]
    },
    {
      "cell_type": "markdown",
      "metadata": {
        "id": "yMI1zdz0wroh"
      },
      "source": [
        "**The sites started indexing from 1, so lets change all the Nulls for 0**"
      ]
    },
    {
      "cell_type": "code",
      "metadata": {
        "id": "9XCnquk_wWku"
      },
      "source": [
        "train_test_df_sites = train_test_df[['site%d' % i for i in range(1, 11)]].fillna(0).astype('int')"
      ],
      "execution_count": 6,
      "outputs": []
    },
    {
      "cell_type": "code",
      "metadata": {
        "colab": {
          "base_uri": "https://localhost:8080/",
          "height": 390
        },
        "id": "h0th8UATwyiJ",
        "outputId": "5aca8ae2-691e-4b01-c4ca-d9fa253c820f"
      },
      "source": [
        "train_test_df_sites.head(10)"
      ],
      "execution_count": 7,
      "outputs": [
        {
          "output_type": "execute_result",
          "data": {
            "text/html": [
              "<div>\n",
              "<style scoped>\n",
              "    .dataframe tbody tr th:only-of-type {\n",
              "        vertical-align: middle;\n",
              "    }\n",
              "\n",
              "    .dataframe tbody tr th {\n",
              "        vertical-align: top;\n",
              "    }\n",
              "\n",
              "    .dataframe thead th {\n",
              "        text-align: right;\n",
              "    }\n",
              "</style>\n",
              "<table border=\"1\" class=\"dataframe\">\n",
              "  <thead>\n",
              "    <tr style=\"text-align: right;\">\n",
              "      <th></th>\n",
              "      <th>site1</th>\n",
              "      <th>site2</th>\n",
              "      <th>site3</th>\n",
              "      <th>site4</th>\n",
              "      <th>site5</th>\n",
              "      <th>site6</th>\n",
              "      <th>site7</th>\n",
              "      <th>site8</th>\n",
              "      <th>site9</th>\n",
              "      <th>site10</th>\n",
              "    </tr>\n",
              "    <tr>\n",
              "      <th>session_id</th>\n",
              "      <th></th>\n",
              "      <th></th>\n",
              "      <th></th>\n",
              "      <th></th>\n",
              "      <th></th>\n",
              "      <th></th>\n",
              "      <th></th>\n",
              "      <th></th>\n",
              "      <th></th>\n",
              "      <th></th>\n",
              "    </tr>\n",
              "  </thead>\n",
              "  <tbody>\n",
              "    <tr>\n",
              "      <th>1</th>\n",
              "      <td>718</td>\n",
              "      <td>0</td>\n",
              "      <td>0</td>\n",
              "      <td>0</td>\n",
              "      <td>0</td>\n",
              "      <td>0</td>\n",
              "      <td>0</td>\n",
              "      <td>0</td>\n",
              "      <td>0</td>\n",
              "      <td>0</td>\n",
              "    </tr>\n",
              "    <tr>\n",
              "      <th>2</th>\n",
              "      <td>890</td>\n",
              "      <td>941</td>\n",
              "      <td>3847</td>\n",
              "      <td>941</td>\n",
              "      <td>942</td>\n",
              "      <td>3846</td>\n",
              "      <td>3847</td>\n",
              "      <td>3846</td>\n",
              "      <td>1516</td>\n",
              "      <td>1518</td>\n",
              "    </tr>\n",
              "    <tr>\n",
              "      <th>3</th>\n",
              "      <td>14769</td>\n",
              "      <td>39</td>\n",
              "      <td>14768</td>\n",
              "      <td>14769</td>\n",
              "      <td>37</td>\n",
              "      <td>39</td>\n",
              "      <td>14768</td>\n",
              "      <td>14768</td>\n",
              "      <td>14768</td>\n",
              "      <td>14768</td>\n",
              "    </tr>\n",
              "    <tr>\n",
              "      <th>4</th>\n",
              "      <td>782</td>\n",
              "      <td>782</td>\n",
              "      <td>782</td>\n",
              "      <td>782</td>\n",
              "      <td>782</td>\n",
              "      <td>782</td>\n",
              "      <td>782</td>\n",
              "      <td>782</td>\n",
              "      <td>782</td>\n",
              "      <td>782</td>\n",
              "    </tr>\n",
              "    <tr>\n",
              "      <th>5</th>\n",
              "      <td>22</td>\n",
              "      <td>177</td>\n",
              "      <td>175</td>\n",
              "      <td>178</td>\n",
              "      <td>177</td>\n",
              "      <td>178</td>\n",
              "      <td>175</td>\n",
              "      <td>177</td>\n",
              "      <td>177</td>\n",
              "      <td>178</td>\n",
              "    </tr>\n",
              "    <tr>\n",
              "      <th>6</th>\n",
              "      <td>570</td>\n",
              "      <td>21</td>\n",
              "      <td>570</td>\n",
              "      <td>21</td>\n",
              "      <td>21</td>\n",
              "      <td>0</td>\n",
              "      <td>0</td>\n",
              "      <td>0</td>\n",
              "      <td>0</td>\n",
              "      <td>0</td>\n",
              "    </tr>\n",
              "    <tr>\n",
              "      <th>7</th>\n",
              "      <td>803</td>\n",
              "      <td>23</td>\n",
              "      <td>5956</td>\n",
              "      <td>17513</td>\n",
              "      <td>37</td>\n",
              "      <td>21</td>\n",
              "      <td>803</td>\n",
              "      <td>17514</td>\n",
              "      <td>17514</td>\n",
              "      <td>17514</td>\n",
              "    </tr>\n",
              "    <tr>\n",
              "      <th>8</th>\n",
              "      <td>22</td>\n",
              "      <td>21</td>\n",
              "      <td>29</td>\n",
              "      <td>5041</td>\n",
              "      <td>14422</td>\n",
              "      <td>23</td>\n",
              "      <td>21</td>\n",
              "      <td>5041</td>\n",
              "      <td>14421</td>\n",
              "      <td>14421</td>\n",
              "    </tr>\n",
              "    <tr>\n",
              "      <th>9</th>\n",
              "      <td>668</td>\n",
              "      <td>940</td>\n",
              "      <td>942</td>\n",
              "      <td>941</td>\n",
              "      <td>941</td>\n",
              "      <td>942</td>\n",
              "      <td>940</td>\n",
              "      <td>23</td>\n",
              "      <td>21</td>\n",
              "      <td>22</td>\n",
              "    </tr>\n",
              "    <tr>\n",
              "      <th>10</th>\n",
              "      <td>3700</td>\n",
              "      <td>229</td>\n",
              "      <td>570</td>\n",
              "      <td>21</td>\n",
              "      <td>229</td>\n",
              "      <td>21</td>\n",
              "      <td>21</td>\n",
              "      <td>21</td>\n",
              "      <td>2336</td>\n",
              "      <td>2044</td>\n",
              "    </tr>\n",
              "  </tbody>\n",
              "</table>\n",
              "</div>"
            ],
            "text/plain": [
              "            site1  site2  site3  site4  ...  site7  site8  site9  site10\n",
              "session_id                              ...                             \n",
              "1             718      0      0      0  ...      0      0      0       0\n",
              "2             890    941   3847    941  ...   3847   3846   1516    1518\n",
              "3           14769     39  14768  14769  ...  14768  14768  14768   14768\n",
              "4             782    782    782    782  ...    782    782    782     782\n",
              "5              22    177    175    178  ...    175    177    177     178\n",
              "6             570     21    570     21  ...      0      0      0       0\n",
              "7             803     23   5956  17513  ...    803  17514  17514   17514\n",
              "8              22     21     29   5041  ...     21   5041  14421   14421\n",
              "9             668    940    942    941  ...    940     23     21      22\n",
              "10           3700    229    570     21  ...     21     21   2336    2044\n",
              "\n",
              "[10 rows x 10 columns]"
            ]
          },
          "metadata": {
            "tags": []
          },
          "execution_count": 7
        }
      ]
    },
    {
      "cell_type": "markdown",
      "metadata": {
        "id": "Fkl0hjLIw3Tf"
      },
      "source": [
        "**Now let create sparse matrix and then divide it to original shape for training and test, also lets divide trainig sample to training one and to valid one**"
      ]
    },
    {
      "cell_type": "code",
      "metadata": {
        "id": "es7AYLdow0Fo"
      },
      "source": [
        "train_test_sparse = csr_matrix((csr_prepare(train_test_df_sites.values)))[:, 1:]\n",
        "X_train_sparse = train_test_sparse[:-test_df.shape[0], :]\n",
        "X_test_sparse = train_test_sparse[train_df.shape[0]:, :]\n",
        "y = train_df.iloc[:,-1]"
      ],
      "execution_count": 10,
      "outputs": []
    },
    {
      "cell_type": "markdown",
      "metadata": {
        "id": "oVMYb_S6xI_4"
      },
      "source": [
        "**Lets see on dimensions of our matrixes**"
      ]
    },
    {
      "cell_type": "code",
      "metadata": {
        "colab": {
          "base_uri": "https://localhost:8080/"
        },
        "id": "849JzVDTxGmj",
        "outputId": "de947210-d4e1-4329-d5f6-85812b55b8a3"
      },
      "source": [
        "print('Train {}, {}\\nTest {}, {}'.format(X_train_sparse.shape[0], X_train_sparse.shape[1], \n",
        "                                       X_test_sparse.shape[0], X_test_sparse.shape[1]))"
      ],
      "execution_count": null,
      "outputs": [
        {
          "output_type": "stream",
          "text": [
            "Train 253561, 48371\n",
            "Test 82797, 48371\n"
          ],
          "name": "stdout"
        }
      ]
    },
    {
      "cell_type": "code",
      "metadata": {
        "id": "TWu73i0JxW3N"
      },
      "source": [
        "train_share = int(.7 * X_train_sparse.shape[0])\n",
        "X_train, y_train = X_train_sparse[:train_share, :], y[:train_share]\n",
        "X_valid, y_valid  = X_train_sparse[train_share:, :], y[train_share:]"
      ],
      "execution_count": 11,
      "outputs": []
    },
    {
      "cell_type": "markdown",
      "metadata": {
        "id": "K8ocnu37yz7I"
      },
      "source": [
        "**So now we are going to create SGDClassifier with a logistic loss function and the other default parameters**"
      ]
    },
    {
      "cell_type": "code",
      "metadata": {
        "colab": {
          "base_uri": "https://localhost:8080/"
        },
        "id": "rUYvyd_0ySUC",
        "outputId": "2f4cee42-361a-428c-e1fc-b3f73a672129"
      },
      "source": [
        "sgd_logit = SGDClassifier(loss='log', random_state=17, n_jobs=-1)\n",
        "sgd_logit.fit(X_train, y_train)"
      ],
      "execution_count": null,
      "outputs": [
        {
          "output_type": "execute_result",
          "data": {
            "text/plain": [
              "SGDClassifier(alpha=0.0001, average=False, class_weight=None,\n",
              "              early_stopping=False, epsilon=0.1, eta0=0.0, fit_intercept=True,\n",
              "              l1_ratio=0.15, learning_rate='optimal', loss='log', max_iter=1000,\n",
              "              n_iter_no_change=5, n_jobs=-1, penalty='l2', power_t=0.5,\n",
              "              random_state=17, shuffle=True, tol=0.001, validation_fraction=0.1,\n",
              "              verbose=0, warm_start=False)"
            ]
          },
          "metadata": {
            "tags": []
          },
          "execution_count": 19
        }
      ]
    },
    {
      "cell_type": "code",
      "metadata": {
        "colab": {
          "base_uri": "https://localhost:8080/"
        },
        "id": "U0KFJhjOzaZx",
        "outputId": "4bb002d2-93e4-43ec-b472-bd28d8f8e086"
      },
      "source": [
        "logit_valid_pred_proba = sgd_logit.predict_proba(X_valid)\n",
        "print('RocAuc score: {}'.format(round(roc_auc_score(y_valid, logit_valid_pred_proba[:,1]), 3)))"
      ],
      "execution_count": null,
      "outputs": [
        {
          "output_type": "stream",
          "text": [
            "RocAuc score: 0.934\n"
          ],
          "name": "stdout"
        }
      ]
    },
    {
      "cell_type": "markdown",
      "metadata": {
        "id": "FPXzpU6V0DED"
      },
      "source": [
        "**Lets try to fit the SGDClassifier with default parameters on the whole trainig sample and send the predictions to Kaggle**"
      ]
    },
    {
      "cell_type": "code",
      "metadata": {
        "colab": {
          "base_uri": "https://localhost:8080/"
        },
        "id": "DmlicpX60Cby",
        "outputId": "dde05b5a-4de1-4064-ac8e-3fb49bfcfcc3"
      },
      "source": [
        "%%time\n",
        "sgd_logit.fit(X_train_sparse, y)\n",
        "logit_test_pred_proba = sgd_logit.predict_proba(X_test_sparse)"
      ],
      "execution_count": null,
      "outputs": [
        {
          "output_type": "stream",
          "text": [
            "CPU times: user 671 ms, sys: 109 ms, total: 780 ms\n",
            "Wall time: 663 ms\n"
          ],
          "name": "stdout"
        }
      ]
    },
    {
      "cell_type": "code",
      "metadata": {
        "id": "58xvF7_Q0QUg"
      },
      "source": [
        "def write_to_submission_file(predicted_labels, out_file,\n",
        "                             target='target', index_label=\"session_id\"):\n",
        "    # turn predictions into data frame and save as csv file\n",
        "    predicted_df = pd.DataFrame(predicted_labels,\n",
        "                                index = np.arange(1, predicted_labels.shape[0] + 1),\n",
        "                                columns=[target])\n",
        "    predicted_df.to_csv(out_file, index_label=index_label)"
      ],
      "execution_count": 63,
      "outputs": []
    },
    {
      "cell_type": "code",
      "metadata": {
        "id": "nBXinyuB0W_O"
      },
      "source": [
        "write_to_submission_file(logit_test_pred_proba[:,1], 'prediction.csv')"
      ],
      "execution_count": null,
      "outputs": []
    },
    {
      "cell_type": "markdown",
      "metadata": {
        "id": "-BVybgaz0Wie"
      },
      "source": [
        "**So the result on leaderboard is 0.91486. This is the baseline which we are going to improve**"
      ]
    },
    {
      "cell_type": "markdown",
      "metadata": {
        "id": "BUPOgxkY0qUJ"
      },
      "source": [
        "**Lets try to improve our results with adding some additional features**"
      ]
    },
    {
      "cell_type": "code",
      "metadata": {
        "id": "tj_gVTVA0mr_"
      },
      "source": [
        "def new_featuress(data):\n",
        "    n_features = pd.DataFrame()\n",
        "\n",
        "    times = data[['time%s' % i for i in range(1, 11)]]\n",
        "    sites = data[['site%s' % i for i in range(1, 11)]].fillna(0).astype(int).values\n",
        "\n",
        "    for i in range(1, 10):\n",
        "        n_features['T_diff{}'.format(i)] = (pd.to_datetime(times['time{}'.format(i+1)]) - pd.to_datetime(times['time{}'.format(i)])).dt.total_seconds().fillna(0)\n",
        "    \n",
        "    n_features['session_timespan'] = np.sum(n_features, axis=1)\n",
        "    n_features['start_hour'] = pd.to_datetime(times['time1']).dt.hour\n",
        "    n_features['weekday'] = pd.to_datetime(times['time1']).dt.weekday\n",
        "    n_features['unique_sites'] = [len(np.unique(session[session != 0])) for session in sites]\n",
        "\n",
        "    return n_features    "
      ],
      "execution_count": null,
      "outputs": []
    },
    {
      "cell_type": "code",
      "metadata": {
        "id": "tLNmRHbp01d1"
      },
      "source": [
        "train_test_new = new_featuress(train_df)"
      ],
      "execution_count": null,
      "outputs": []
    },
    {
      "cell_type": "code",
      "metadata": {
        "colab": {
          "base_uri": "https://localhost:8080/",
          "height": 235
        },
        "id": "iS44FVRD0_iX",
        "outputId": "6e897713-2e62-4a96-a8b3-a6a74fc84a2b"
      },
      "source": [
        "train_test_new.head()"
      ],
      "execution_count": null,
      "outputs": [
        {
          "output_type": "execute_result",
          "data": {
            "text/html": [
              "<div>\n",
              "<style scoped>\n",
              "    .dataframe tbody tr th:only-of-type {\n",
              "        vertical-align: middle;\n",
              "    }\n",
              "\n",
              "    .dataframe tbody tr th {\n",
              "        vertical-align: top;\n",
              "    }\n",
              "\n",
              "    .dataframe thead th {\n",
              "        text-align: right;\n",
              "    }\n",
              "</style>\n",
              "<table border=\"1\" class=\"dataframe\">\n",
              "  <thead>\n",
              "    <tr style=\"text-align: right;\">\n",
              "      <th></th>\n",
              "      <th>T_diff1</th>\n",
              "      <th>T_diff2</th>\n",
              "      <th>T_diff3</th>\n",
              "      <th>T_diff4</th>\n",
              "      <th>T_diff5</th>\n",
              "      <th>T_diff6</th>\n",
              "      <th>T_diff7</th>\n",
              "      <th>T_diff8</th>\n",
              "      <th>T_diff9</th>\n",
              "      <th>session_timespan</th>\n",
              "      <th>start_hour</th>\n",
              "      <th>weekday</th>\n",
              "      <th>unique_sites</th>\n",
              "    </tr>\n",
              "    <tr>\n",
              "      <th>session_id</th>\n",
              "      <th></th>\n",
              "      <th></th>\n",
              "      <th></th>\n",
              "      <th></th>\n",
              "      <th></th>\n",
              "      <th></th>\n",
              "      <th></th>\n",
              "      <th></th>\n",
              "      <th></th>\n",
              "      <th></th>\n",
              "      <th></th>\n",
              "      <th></th>\n",
              "      <th></th>\n",
              "    </tr>\n",
              "  </thead>\n",
              "  <tbody>\n",
              "    <tr>\n",
              "      <th>1</th>\n",
              "      <td>0.0</td>\n",
              "      <td>0.0</td>\n",
              "      <td>0.0</td>\n",
              "      <td>0.0</td>\n",
              "      <td>0.0</td>\n",
              "      <td>0.0</td>\n",
              "      <td>0.0</td>\n",
              "      <td>0.0</td>\n",
              "      <td>0.0</td>\n",
              "      <td>0.0</td>\n",
              "      <td>10</td>\n",
              "      <td>3</td>\n",
              "      <td>1</td>\n",
              "    </tr>\n",
              "    <tr>\n",
              "      <th>2</th>\n",
              "      <td>0.0</td>\n",
              "      <td>1.0</td>\n",
              "      <td>0.0</td>\n",
              "      <td>0.0</td>\n",
              "      <td>0.0</td>\n",
              "      <td>1.0</td>\n",
              "      <td>0.0</td>\n",
              "      <td>23.0</td>\n",
              "      <td>1.0</td>\n",
              "      <td>26.0</td>\n",
              "      <td>11</td>\n",
              "      <td>5</td>\n",
              "      <td>7</td>\n",
              "    </tr>\n",
              "    <tr>\n",
              "      <th>3</th>\n",
              "      <td>1.0</td>\n",
              "      <td>1.0</td>\n",
              "      <td>0.0</td>\n",
              "      <td>0.0</td>\n",
              "      <td>0.0</td>\n",
              "      <td>1.0</td>\n",
              "      <td>1.0</td>\n",
              "      <td>1.0</td>\n",
              "      <td>2.0</td>\n",
              "      <td>7.0</td>\n",
              "      <td>16</td>\n",
              "      <td>0</td>\n",
              "      <td>4</td>\n",
              "    </tr>\n",
              "    <tr>\n",
              "      <th>4</th>\n",
              "      <td>30.0</td>\n",
              "      <td>30.0</td>\n",
              "      <td>30.0</td>\n",
              "      <td>30.0</td>\n",
              "      <td>30.0</td>\n",
              "      <td>30.0</td>\n",
              "      <td>30.0</td>\n",
              "      <td>30.0</td>\n",
              "      <td>30.0</td>\n",
              "      <td>270.0</td>\n",
              "      <td>10</td>\n",
              "      <td>4</td>\n",
              "      <td>1</td>\n",
              "    </tr>\n",
              "    <tr>\n",
              "      <th>5</th>\n",
              "      <td>137.0</td>\n",
              "      <td>0.0</td>\n",
              "      <td>1.0</td>\n",
              "      <td>0.0</td>\n",
              "      <td>36.0</td>\n",
              "      <td>0.0</td>\n",
              "      <td>0.0</td>\n",
              "      <td>67.0</td>\n",
              "      <td>5.0</td>\n",
              "      <td>246.0</td>\n",
              "      <td>10</td>\n",
              "      <td>4</td>\n",
              "      <td>4</td>\n",
              "    </tr>\n",
              "  </tbody>\n",
              "</table>\n",
              "</div>"
            ],
            "text/plain": [
              "            T_diff1  T_diff2  T_diff3  ...  start_hour  weekday  unique_sites\n",
              "session_id                             ...                                   \n",
              "1               0.0      0.0      0.0  ...          10        3             1\n",
              "2               0.0      1.0      0.0  ...          11        5             7\n",
              "3               1.0      1.0      0.0  ...          16        0             4\n",
              "4              30.0     30.0     30.0  ...          10        4             1\n",
              "5             137.0      0.0      1.0  ...          10        4             4\n",
              "\n",
              "[5 rows x 13 columns]"
            ]
          },
          "metadata": {
            "tags": []
          },
          "execution_count": 233
        }
      ]
    },
    {
      "cell_type": "markdown",
      "metadata": {
        "id": "sLdbKFsW1LUb"
      },
      "source": [
        "**Dividing our features on numerical and categorical ones**"
      ]
    },
    {
      "cell_type": "code",
      "metadata": {
        "id": "XfzATmFt1H3U"
      },
      "source": [
        "train_test_new_numeric = train_test_new.loc[:, :'session_timespan']\n",
        "train_test_new_cat = train_test_new.loc[:, 'start_hour':]"
      ],
      "execution_count": null,
      "outputs": []
    },
    {
      "cell_type": "code",
      "metadata": {
        "colab": {
          "base_uri": "https://localhost:8080/",
          "height": 235
        },
        "id": "CjajEpCQ1TAE",
        "outputId": "65186787-f0f0-48e0-e35f-b92dc1756be2"
      },
      "source": [
        "#Scaling our numerical data\n",
        "scaler = StandardScaler()\n",
        "numerical = train_test_new_numeric.columns\n",
        "train_test_new_numeric[numerical] = scaler.fit_transform(train_test_new_numeric[numerical])\n",
        "train_test_new_numeric.head()"
      ],
      "execution_count": null,
      "outputs": [
        {
          "output_type": "execute_result",
          "data": {
            "text/html": [
              "<div>\n",
              "<style scoped>\n",
              "    .dataframe tbody tr th:only-of-type {\n",
              "        vertical-align: middle;\n",
              "    }\n",
              "\n",
              "    .dataframe tbody tr th {\n",
              "        vertical-align: top;\n",
              "    }\n",
              "\n",
              "    .dataframe thead th {\n",
              "        text-align: right;\n",
              "    }\n",
              "</style>\n",
              "<table border=\"1\" class=\"dataframe\">\n",
              "  <thead>\n",
              "    <tr style=\"text-align: right;\">\n",
              "      <th></th>\n",
              "      <th>T_diff1</th>\n",
              "      <th>T_diff2</th>\n",
              "      <th>T_diff3</th>\n",
              "      <th>T_diff4</th>\n",
              "      <th>T_diff5</th>\n",
              "      <th>T_diff6</th>\n",
              "      <th>T_diff7</th>\n",
              "      <th>T_diff8</th>\n",
              "      <th>T_diff9</th>\n",
              "      <th>session_timespan</th>\n",
              "    </tr>\n",
              "    <tr>\n",
              "      <th>session_id</th>\n",
              "      <th></th>\n",
              "      <th></th>\n",
              "      <th></th>\n",
              "      <th></th>\n",
              "      <th></th>\n",
              "      <th></th>\n",
              "      <th></th>\n",
              "      <th></th>\n",
              "      <th></th>\n",
              "      <th></th>\n",
              "    </tr>\n",
              "  </thead>\n",
              "  <tbody>\n",
              "    <tr>\n",
              "      <th>1</th>\n",
              "      <td>-0.191229</td>\n",
              "      <td>-0.180434</td>\n",
              "      <td>-0.186631</td>\n",
              "      <td>-0.193139</td>\n",
              "      <td>-0.192809</td>\n",
              "      <td>-0.193165</td>\n",
              "      <td>-0.192025</td>\n",
              "      <td>-0.190596</td>\n",
              "      <td>-0.190791</td>\n",
              "      <td>-0.468233</td>\n",
              "    </tr>\n",
              "    <tr>\n",
              "      <th>2</th>\n",
              "      <td>-0.191229</td>\n",
              "      <td>-0.170968</td>\n",
              "      <td>-0.186631</td>\n",
              "      <td>-0.193139</td>\n",
              "      <td>-0.192809</td>\n",
              "      <td>-0.179357</td>\n",
              "      <td>-0.192025</td>\n",
              "      <td>0.140975</td>\n",
              "      <td>-0.175945</td>\n",
              "      <td>-0.380330</td>\n",
              "    </tr>\n",
              "    <tr>\n",
              "      <th>3</th>\n",
              "      <td>-0.181131</td>\n",
              "      <td>-0.170968</td>\n",
              "      <td>-0.186631</td>\n",
              "      <td>-0.193139</td>\n",
              "      <td>-0.192809</td>\n",
              "      <td>-0.179357</td>\n",
              "      <td>-0.177680</td>\n",
              "      <td>-0.176180</td>\n",
              "      <td>-0.161099</td>\n",
              "      <td>-0.444566</td>\n",
              "    </tr>\n",
              "    <tr>\n",
              "      <th>4</th>\n",
              "      <td>0.111727</td>\n",
              "      <td>0.103540</td>\n",
              "      <td>0.137505</td>\n",
              "      <td>0.189184</td>\n",
              "      <td>0.202862</td>\n",
              "      <td>0.221062</td>\n",
              "      <td>0.238309</td>\n",
              "      <td>0.241888</td>\n",
              "      <td>0.254585</td>\n",
              "      <td>0.444604</td>\n",
              "    </tr>\n",
              "    <tr>\n",
              "      <th>5</th>\n",
              "      <td>1.192272</td>\n",
              "      <td>-0.180434</td>\n",
              "      <td>-0.175826</td>\n",
              "      <td>-0.193139</td>\n",
              "      <td>0.281996</td>\n",
              "      <td>-0.193165</td>\n",
              "      <td>-0.192025</td>\n",
              "      <td>0.775285</td>\n",
              "      <td>-0.116561</td>\n",
              "      <td>0.363463</td>\n",
              "    </tr>\n",
              "  </tbody>\n",
              "</table>\n",
              "</div>"
            ],
            "text/plain": [
              "             T_diff1   T_diff2   T_diff3  ...   T_diff8   T_diff9  session_timespan\n",
              "session_id                                ...                                      \n",
              "1          -0.191229 -0.180434 -0.186631  ... -0.190596 -0.190791         -0.468233\n",
              "2          -0.191229 -0.170968 -0.186631  ...  0.140975 -0.175945         -0.380330\n",
              "3          -0.181131 -0.170968 -0.186631  ... -0.176180 -0.161099         -0.444566\n",
              "4           0.111727  0.103540  0.137505  ...  0.241888  0.254585          0.444604\n",
              "5           1.192272 -0.180434 -0.175826  ...  0.775285 -0.116561          0.363463\n",
              "\n",
              "[5 rows x 10 columns]"
            ]
          },
          "metadata": {
            "tags": []
          },
          "execution_count": 235
        }
      ]
    },
    {
      "cell_type": "code",
      "metadata": {
        "colab": {
          "base_uri": "https://localhost:8080/",
          "height": 255
        },
        "id": "OASxfMJc1ZdC",
        "outputId": "c0a4d29f-af60-408a-b03d-e34154c0d6b6"
      },
      "source": [
        "#Transforming our categorical data\n",
        "train_test_cat_dummies = pd.get_dummies(train_test_new_cat, columns=train_test_new_cat.columns, drop_first=True)\n",
        "train_test_cat_dummies.head()"
      ],
      "execution_count": null,
      "outputs": [
        {
          "output_type": "execute_result",
          "data": {
            "text/html": [
              "<div>\n",
              "<style scoped>\n",
              "    .dataframe tbody tr th:only-of-type {\n",
              "        vertical-align: middle;\n",
              "    }\n",
              "\n",
              "    .dataframe tbody tr th {\n",
              "        vertical-align: top;\n",
              "    }\n",
              "\n",
              "    .dataframe thead th {\n",
              "        text-align: right;\n",
              "    }\n",
              "</style>\n",
              "<table border=\"1\" class=\"dataframe\">\n",
              "  <thead>\n",
              "    <tr style=\"text-align: right;\">\n",
              "      <th></th>\n",
              "      <th>start_hour_8</th>\n",
              "      <th>start_hour_9</th>\n",
              "      <th>start_hour_10</th>\n",
              "      <th>start_hour_11</th>\n",
              "      <th>start_hour_12</th>\n",
              "      <th>start_hour_13</th>\n",
              "      <th>start_hour_14</th>\n",
              "      <th>start_hour_15</th>\n",
              "      <th>start_hour_16</th>\n",
              "      <th>start_hour_17</th>\n",
              "      <th>start_hour_18</th>\n",
              "      <th>start_hour_19</th>\n",
              "      <th>start_hour_20</th>\n",
              "      <th>start_hour_21</th>\n",
              "      <th>start_hour_22</th>\n",
              "      <th>start_hour_23</th>\n",
              "      <th>weekday_1</th>\n",
              "      <th>weekday_2</th>\n",
              "      <th>weekday_3</th>\n",
              "      <th>weekday_4</th>\n",
              "      <th>weekday_5</th>\n",
              "      <th>weekday_6</th>\n",
              "      <th>unique_sites_2</th>\n",
              "      <th>unique_sites_3</th>\n",
              "      <th>unique_sites_4</th>\n",
              "      <th>unique_sites_5</th>\n",
              "      <th>unique_sites_6</th>\n",
              "      <th>unique_sites_7</th>\n",
              "      <th>unique_sites_8</th>\n",
              "      <th>unique_sites_9</th>\n",
              "      <th>unique_sites_10</th>\n",
              "    </tr>\n",
              "    <tr>\n",
              "      <th>session_id</th>\n",
              "      <th></th>\n",
              "      <th></th>\n",
              "      <th></th>\n",
              "      <th></th>\n",
              "      <th></th>\n",
              "      <th></th>\n",
              "      <th></th>\n",
              "      <th></th>\n",
              "      <th></th>\n",
              "      <th></th>\n",
              "      <th></th>\n",
              "      <th></th>\n",
              "      <th></th>\n",
              "      <th></th>\n",
              "      <th></th>\n",
              "      <th></th>\n",
              "      <th></th>\n",
              "      <th></th>\n",
              "      <th></th>\n",
              "      <th></th>\n",
              "      <th></th>\n",
              "      <th></th>\n",
              "      <th></th>\n",
              "      <th></th>\n",
              "      <th></th>\n",
              "      <th></th>\n",
              "      <th></th>\n",
              "      <th></th>\n",
              "      <th></th>\n",
              "      <th></th>\n",
              "      <th></th>\n",
              "    </tr>\n",
              "  </thead>\n",
              "  <tbody>\n",
              "    <tr>\n",
              "      <th>1</th>\n",
              "      <td>0</td>\n",
              "      <td>0</td>\n",
              "      <td>1</td>\n",
              "      <td>0</td>\n",
              "      <td>0</td>\n",
              "      <td>0</td>\n",
              "      <td>0</td>\n",
              "      <td>0</td>\n",
              "      <td>0</td>\n",
              "      <td>0</td>\n",
              "      <td>0</td>\n",
              "      <td>0</td>\n",
              "      <td>0</td>\n",
              "      <td>0</td>\n",
              "      <td>0</td>\n",
              "      <td>0</td>\n",
              "      <td>0</td>\n",
              "      <td>0</td>\n",
              "      <td>1</td>\n",
              "      <td>0</td>\n",
              "      <td>0</td>\n",
              "      <td>0</td>\n",
              "      <td>0</td>\n",
              "      <td>0</td>\n",
              "      <td>0</td>\n",
              "      <td>0</td>\n",
              "      <td>0</td>\n",
              "      <td>0</td>\n",
              "      <td>0</td>\n",
              "      <td>0</td>\n",
              "      <td>0</td>\n",
              "    </tr>\n",
              "    <tr>\n",
              "      <th>2</th>\n",
              "      <td>0</td>\n",
              "      <td>0</td>\n",
              "      <td>0</td>\n",
              "      <td>1</td>\n",
              "      <td>0</td>\n",
              "      <td>0</td>\n",
              "      <td>0</td>\n",
              "      <td>0</td>\n",
              "      <td>0</td>\n",
              "      <td>0</td>\n",
              "      <td>0</td>\n",
              "      <td>0</td>\n",
              "      <td>0</td>\n",
              "      <td>0</td>\n",
              "      <td>0</td>\n",
              "      <td>0</td>\n",
              "      <td>0</td>\n",
              "      <td>0</td>\n",
              "      <td>0</td>\n",
              "      <td>0</td>\n",
              "      <td>1</td>\n",
              "      <td>0</td>\n",
              "      <td>0</td>\n",
              "      <td>0</td>\n",
              "      <td>0</td>\n",
              "      <td>0</td>\n",
              "      <td>0</td>\n",
              "      <td>1</td>\n",
              "      <td>0</td>\n",
              "      <td>0</td>\n",
              "      <td>0</td>\n",
              "    </tr>\n",
              "    <tr>\n",
              "      <th>3</th>\n",
              "      <td>0</td>\n",
              "      <td>0</td>\n",
              "      <td>0</td>\n",
              "      <td>0</td>\n",
              "      <td>0</td>\n",
              "      <td>0</td>\n",
              "      <td>0</td>\n",
              "      <td>0</td>\n",
              "      <td>1</td>\n",
              "      <td>0</td>\n",
              "      <td>0</td>\n",
              "      <td>0</td>\n",
              "      <td>0</td>\n",
              "      <td>0</td>\n",
              "      <td>0</td>\n",
              "      <td>0</td>\n",
              "      <td>0</td>\n",
              "      <td>0</td>\n",
              "      <td>0</td>\n",
              "      <td>0</td>\n",
              "      <td>0</td>\n",
              "      <td>0</td>\n",
              "      <td>0</td>\n",
              "      <td>0</td>\n",
              "      <td>1</td>\n",
              "      <td>0</td>\n",
              "      <td>0</td>\n",
              "      <td>0</td>\n",
              "      <td>0</td>\n",
              "      <td>0</td>\n",
              "      <td>0</td>\n",
              "    </tr>\n",
              "    <tr>\n",
              "      <th>4</th>\n",
              "      <td>0</td>\n",
              "      <td>0</td>\n",
              "      <td>1</td>\n",
              "      <td>0</td>\n",
              "      <td>0</td>\n",
              "      <td>0</td>\n",
              "      <td>0</td>\n",
              "      <td>0</td>\n",
              "      <td>0</td>\n",
              "      <td>0</td>\n",
              "      <td>0</td>\n",
              "      <td>0</td>\n",
              "      <td>0</td>\n",
              "      <td>0</td>\n",
              "      <td>0</td>\n",
              "      <td>0</td>\n",
              "      <td>0</td>\n",
              "      <td>0</td>\n",
              "      <td>0</td>\n",
              "      <td>1</td>\n",
              "      <td>0</td>\n",
              "      <td>0</td>\n",
              "      <td>0</td>\n",
              "      <td>0</td>\n",
              "      <td>0</td>\n",
              "      <td>0</td>\n",
              "      <td>0</td>\n",
              "      <td>0</td>\n",
              "      <td>0</td>\n",
              "      <td>0</td>\n",
              "      <td>0</td>\n",
              "    </tr>\n",
              "    <tr>\n",
              "      <th>5</th>\n",
              "      <td>0</td>\n",
              "      <td>0</td>\n",
              "      <td>1</td>\n",
              "      <td>0</td>\n",
              "      <td>0</td>\n",
              "      <td>0</td>\n",
              "      <td>0</td>\n",
              "      <td>0</td>\n",
              "      <td>0</td>\n",
              "      <td>0</td>\n",
              "      <td>0</td>\n",
              "      <td>0</td>\n",
              "      <td>0</td>\n",
              "      <td>0</td>\n",
              "      <td>0</td>\n",
              "      <td>0</td>\n",
              "      <td>0</td>\n",
              "      <td>0</td>\n",
              "      <td>0</td>\n",
              "      <td>1</td>\n",
              "      <td>0</td>\n",
              "      <td>0</td>\n",
              "      <td>0</td>\n",
              "      <td>0</td>\n",
              "      <td>1</td>\n",
              "      <td>0</td>\n",
              "      <td>0</td>\n",
              "      <td>0</td>\n",
              "      <td>0</td>\n",
              "      <td>0</td>\n",
              "      <td>0</td>\n",
              "    </tr>\n",
              "  </tbody>\n",
              "</table>\n",
              "</div>"
            ],
            "text/plain": [
              "            start_hour_8  start_hour_9  ...  unique_sites_9  unique_sites_10\n",
              "session_id                              ...                                 \n",
              "1                      0             0  ...               0                0\n",
              "2                      0             0  ...               0                0\n",
              "3                      0             0  ...               0                0\n",
              "4                      0             0  ...               0                0\n",
              "5                      0             0  ...               0                0\n",
              "\n",
              "[5 rows x 31 columns]"
            ]
          },
          "metadata": {
            "tags": []
          },
          "execution_count": 236
        }
      ]
    },
    {
      "cell_type": "code",
      "metadata": {
        "colab": {
          "base_uri": "https://localhost:8080/",
          "height": 255
        },
        "id": "uSShNrfw11by",
        "outputId": "3707e723-73b0-4805-811a-0b44ce8bdd3b"
      },
      "source": [
        "#Concatting those two samples\n",
        "train_test_new_fe = pd.concat([train_test_new_numeric, train_test_cat_dummies], axis=1)\n",
        "train_test_new_fe.head()"
      ],
      "execution_count": null,
      "outputs": [
        {
          "output_type": "execute_result",
          "data": {
            "text/html": [
              "<div>\n",
              "<style scoped>\n",
              "    .dataframe tbody tr th:only-of-type {\n",
              "        vertical-align: middle;\n",
              "    }\n",
              "\n",
              "    .dataframe tbody tr th {\n",
              "        vertical-align: top;\n",
              "    }\n",
              "\n",
              "    .dataframe thead th {\n",
              "        text-align: right;\n",
              "    }\n",
              "</style>\n",
              "<table border=\"1\" class=\"dataframe\">\n",
              "  <thead>\n",
              "    <tr style=\"text-align: right;\">\n",
              "      <th></th>\n",
              "      <th>T_diff1</th>\n",
              "      <th>T_diff2</th>\n",
              "      <th>T_diff3</th>\n",
              "      <th>T_diff4</th>\n",
              "      <th>T_diff5</th>\n",
              "      <th>T_diff6</th>\n",
              "      <th>T_diff7</th>\n",
              "      <th>T_diff8</th>\n",
              "      <th>T_diff9</th>\n",
              "      <th>session_timespan</th>\n",
              "      <th>start_hour_8</th>\n",
              "      <th>start_hour_9</th>\n",
              "      <th>start_hour_10</th>\n",
              "      <th>start_hour_11</th>\n",
              "      <th>start_hour_12</th>\n",
              "      <th>start_hour_13</th>\n",
              "      <th>start_hour_14</th>\n",
              "      <th>start_hour_15</th>\n",
              "      <th>start_hour_16</th>\n",
              "      <th>start_hour_17</th>\n",
              "      <th>start_hour_18</th>\n",
              "      <th>start_hour_19</th>\n",
              "      <th>start_hour_20</th>\n",
              "      <th>start_hour_21</th>\n",
              "      <th>start_hour_22</th>\n",
              "      <th>start_hour_23</th>\n",
              "      <th>weekday_1</th>\n",
              "      <th>weekday_2</th>\n",
              "      <th>weekday_3</th>\n",
              "      <th>weekday_4</th>\n",
              "      <th>weekday_5</th>\n",
              "      <th>weekday_6</th>\n",
              "      <th>unique_sites_2</th>\n",
              "      <th>unique_sites_3</th>\n",
              "      <th>unique_sites_4</th>\n",
              "      <th>unique_sites_5</th>\n",
              "      <th>unique_sites_6</th>\n",
              "      <th>unique_sites_7</th>\n",
              "      <th>unique_sites_8</th>\n",
              "      <th>unique_sites_9</th>\n",
              "      <th>unique_sites_10</th>\n",
              "    </tr>\n",
              "    <tr>\n",
              "      <th>session_id</th>\n",
              "      <th></th>\n",
              "      <th></th>\n",
              "      <th></th>\n",
              "      <th></th>\n",
              "      <th></th>\n",
              "      <th></th>\n",
              "      <th></th>\n",
              "      <th></th>\n",
              "      <th></th>\n",
              "      <th></th>\n",
              "      <th></th>\n",
              "      <th></th>\n",
              "      <th></th>\n",
              "      <th></th>\n",
              "      <th></th>\n",
              "      <th></th>\n",
              "      <th></th>\n",
              "      <th></th>\n",
              "      <th></th>\n",
              "      <th></th>\n",
              "      <th></th>\n",
              "      <th></th>\n",
              "      <th></th>\n",
              "      <th></th>\n",
              "      <th></th>\n",
              "      <th></th>\n",
              "      <th></th>\n",
              "      <th></th>\n",
              "      <th></th>\n",
              "      <th></th>\n",
              "      <th></th>\n",
              "      <th></th>\n",
              "      <th></th>\n",
              "      <th></th>\n",
              "      <th></th>\n",
              "      <th></th>\n",
              "      <th></th>\n",
              "      <th></th>\n",
              "      <th></th>\n",
              "      <th></th>\n",
              "      <th></th>\n",
              "    </tr>\n",
              "  </thead>\n",
              "  <tbody>\n",
              "    <tr>\n",
              "      <th>1</th>\n",
              "      <td>-0.191229</td>\n",
              "      <td>-0.180434</td>\n",
              "      <td>-0.186631</td>\n",
              "      <td>-0.193139</td>\n",
              "      <td>-0.192809</td>\n",
              "      <td>-0.193165</td>\n",
              "      <td>-0.192025</td>\n",
              "      <td>-0.190596</td>\n",
              "      <td>-0.190791</td>\n",
              "      <td>-0.468233</td>\n",
              "      <td>0</td>\n",
              "      <td>0</td>\n",
              "      <td>1</td>\n",
              "      <td>0</td>\n",
              "      <td>0</td>\n",
              "      <td>0</td>\n",
              "      <td>0</td>\n",
              "      <td>0</td>\n",
              "      <td>0</td>\n",
              "      <td>0</td>\n",
              "      <td>0</td>\n",
              "      <td>0</td>\n",
              "      <td>0</td>\n",
              "      <td>0</td>\n",
              "      <td>0</td>\n",
              "      <td>0</td>\n",
              "      <td>0</td>\n",
              "      <td>0</td>\n",
              "      <td>1</td>\n",
              "      <td>0</td>\n",
              "      <td>0</td>\n",
              "      <td>0</td>\n",
              "      <td>0</td>\n",
              "      <td>0</td>\n",
              "      <td>0</td>\n",
              "      <td>0</td>\n",
              "      <td>0</td>\n",
              "      <td>0</td>\n",
              "      <td>0</td>\n",
              "      <td>0</td>\n",
              "      <td>0</td>\n",
              "    </tr>\n",
              "    <tr>\n",
              "      <th>2</th>\n",
              "      <td>-0.191229</td>\n",
              "      <td>-0.170968</td>\n",
              "      <td>-0.186631</td>\n",
              "      <td>-0.193139</td>\n",
              "      <td>-0.192809</td>\n",
              "      <td>-0.179357</td>\n",
              "      <td>-0.192025</td>\n",
              "      <td>0.140975</td>\n",
              "      <td>-0.175945</td>\n",
              "      <td>-0.380330</td>\n",
              "      <td>0</td>\n",
              "      <td>0</td>\n",
              "      <td>0</td>\n",
              "      <td>1</td>\n",
              "      <td>0</td>\n",
              "      <td>0</td>\n",
              "      <td>0</td>\n",
              "      <td>0</td>\n",
              "      <td>0</td>\n",
              "      <td>0</td>\n",
              "      <td>0</td>\n",
              "      <td>0</td>\n",
              "      <td>0</td>\n",
              "      <td>0</td>\n",
              "      <td>0</td>\n",
              "      <td>0</td>\n",
              "      <td>0</td>\n",
              "      <td>0</td>\n",
              "      <td>0</td>\n",
              "      <td>0</td>\n",
              "      <td>1</td>\n",
              "      <td>0</td>\n",
              "      <td>0</td>\n",
              "      <td>0</td>\n",
              "      <td>0</td>\n",
              "      <td>0</td>\n",
              "      <td>0</td>\n",
              "      <td>1</td>\n",
              "      <td>0</td>\n",
              "      <td>0</td>\n",
              "      <td>0</td>\n",
              "    </tr>\n",
              "    <tr>\n",
              "      <th>3</th>\n",
              "      <td>-0.181131</td>\n",
              "      <td>-0.170968</td>\n",
              "      <td>-0.186631</td>\n",
              "      <td>-0.193139</td>\n",
              "      <td>-0.192809</td>\n",
              "      <td>-0.179357</td>\n",
              "      <td>-0.177680</td>\n",
              "      <td>-0.176180</td>\n",
              "      <td>-0.161099</td>\n",
              "      <td>-0.444566</td>\n",
              "      <td>0</td>\n",
              "      <td>0</td>\n",
              "      <td>0</td>\n",
              "      <td>0</td>\n",
              "      <td>0</td>\n",
              "      <td>0</td>\n",
              "      <td>0</td>\n",
              "      <td>0</td>\n",
              "      <td>1</td>\n",
              "      <td>0</td>\n",
              "      <td>0</td>\n",
              "      <td>0</td>\n",
              "      <td>0</td>\n",
              "      <td>0</td>\n",
              "      <td>0</td>\n",
              "      <td>0</td>\n",
              "      <td>0</td>\n",
              "      <td>0</td>\n",
              "      <td>0</td>\n",
              "      <td>0</td>\n",
              "      <td>0</td>\n",
              "      <td>0</td>\n",
              "      <td>0</td>\n",
              "      <td>0</td>\n",
              "      <td>1</td>\n",
              "      <td>0</td>\n",
              "      <td>0</td>\n",
              "      <td>0</td>\n",
              "      <td>0</td>\n",
              "      <td>0</td>\n",
              "      <td>0</td>\n",
              "    </tr>\n",
              "    <tr>\n",
              "      <th>4</th>\n",
              "      <td>0.111727</td>\n",
              "      <td>0.103540</td>\n",
              "      <td>0.137505</td>\n",
              "      <td>0.189184</td>\n",
              "      <td>0.202862</td>\n",
              "      <td>0.221062</td>\n",
              "      <td>0.238309</td>\n",
              "      <td>0.241888</td>\n",
              "      <td>0.254585</td>\n",
              "      <td>0.444604</td>\n",
              "      <td>0</td>\n",
              "      <td>0</td>\n",
              "      <td>1</td>\n",
              "      <td>0</td>\n",
              "      <td>0</td>\n",
              "      <td>0</td>\n",
              "      <td>0</td>\n",
              "      <td>0</td>\n",
              "      <td>0</td>\n",
              "      <td>0</td>\n",
              "      <td>0</td>\n",
              "      <td>0</td>\n",
              "      <td>0</td>\n",
              "      <td>0</td>\n",
              "      <td>0</td>\n",
              "      <td>0</td>\n",
              "      <td>0</td>\n",
              "      <td>0</td>\n",
              "      <td>0</td>\n",
              "      <td>1</td>\n",
              "      <td>0</td>\n",
              "      <td>0</td>\n",
              "      <td>0</td>\n",
              "      <td>0</td>\n",
              "      <td>0</td>\n",
              "      <td>0</td>\n",
              "      <td>0</td>\n",
              "      <td>0</td>\n",
              "      <td>0</td>\n",
              "      <td>0</td>\n",
              "      <td>0</td>\n",
              "    </tr>\n",
              "    <tr>\n",
              "      <th>5</th>\n",
              "      <td>1.192272</td>\n",
              "      <td>-0.180434</td>\n",
              "      <td>-0.175826</td>\n",
              "      <td>-0.193139</td>\n",
              "      <td>0.281996</td>\n",
              "      <td>-0.193165</td>\n",
              "      <td>-0.192025</td>\n",
              "      <td>0.775285</td>\n",
              "      <td>-0.116561</td>\n",
              "      <td>0.363463</td>\n",
              "      <td>0</td>\n",
              "      <td>0</td>\n",
              "      <td>1</td>\n",
              "      <td>0</td>\n",
              "      <td>0</td>\n",
              "      <td>0</td>\n",
              "      <td>0</td>\n",
              "      <td>0</td>\n",
              "      <td>0</td>\n",
              "      <td>0</td>\n",
              "      <td>0</td>\n",
              "      <td>0</td>\n",
              "      <td>0</td>\n",
              "      <td>0</td>\n",
              "      <td>0</td>\n",
              "      <td>0</td>\n",
              "      <td>0</td>\n",
              "      <td>0</td>\n",
              "      <td>0</td>\n",
              "      <td>1</td>\n",
              "      <td>0</td>\n",
              "      <td>0</td>\n",
              "      <td>0</td>\n",
              "      <td>0</td>\n",
              "      <td>1</td>\n",
              "      <td>0</td>\n",
              "      <td>0</td>\n",
              "      <td>0</td>\n",
              "      <td>0</td>\n",
              "      <td>0</td>\n",
              "      <td>0</td>\n",
              "    </tr>\n",
              "  </tbody>\n",
              "</table>\n",
              "</div>"
            ],
            "text/plain": [
              "             T_diff1   T_diff2  ...  unique_sites_9  unique_sites_10\n",
              "session_id                      ...                                 \n",
              "1          -0.191229 -0.180434  ...               0                0\n",
              "2          -0.191229 -0.170968  ...               0                0\n",
              "3          -0.181131 -0.170968  ...               0                0\n",
              "4           0.111727  0.103540  ...               0                0\n",
              "5           1.192272 -0.180434  ...               0                0\n",
              "\n",
              "[5 rows x 41 columns]"
            ]
          },
          "metadata": {
            "tags": []
          },
          "execution_count": 237
        }
      ]
    },
    {
      "cell_type": "code",
      "metadata": {
        "colab": {
          "base_uri": "https://localhost:8080/"
        },
        "id": "FfHakE2H15ko",
        "outputId": "d7c8e218-44c1-4b68-8812-dbae74823f66"
      },
      "source": [
        "train_test_new_fe.shape"
      ],
      "execution_count": null,
      "outputs": [
        {
          "output_type": "execute_result",
          "data": {
            "text/plain": [
              "(253561, 41)"
            ]
          },
          "metadata": {
            "tags": []
          },
          "execution_count": 238
        }
      ]
    },
    {
      "cell_type": "code",
      "metadata": {
        "colab": {
          "base_uri": "https://localhost:8080/"
        },
        "id": "uqM7LcdP19jo",
        "outputId": "1e59d035-238c-4f24-8f2f-b754636fa207"
      },
      "source": [
        "train_test_new_sparse = csr_matrix(train_test_new_fe)\n",
        "train_test_new_sparse.shape"
      ],
      "execution_count": null,
      "outputs": [
        {
          "output_type": "execute_result",
          "data": {
            "text/plain": [
              "(253561, 41)"
            ]
          },
          "metadata": {
            "tags": []
          },
          "execution_count": 239
        }
      ]
    },
    {
      "cell_type": "code",
      "metadata": {
        "id": "n9Qi_1eO2AKS"
      },
      "source": [
        "#Dividing our sample to train and valid one\n",
        "train_share = int(.7 * X_train_sparse.shape[0])\n",
        "X_train_new_fe, X_valid_new_fe = train_test_new_sparse[:train_share, :], train_test_new_sparse[train_share:, :]\n",
        "\n",
        "X_train_new = hstack([X_train, X_train_new_fe])\n",
        "X_valid_new = hstack([X_valid, X_valid_new_fe])\n",
        "X_final = hstack([X_train_sparse, train_test_new_sparse])"
      ],
      "execution_count": null,
      "outputs": []
    },
    {
      "cell_type": "code",
      "metadata": {
        "id": "_5C78a0G2MTY"
      },
      "source": [
        "#Lets do it the same actions to the test sample\n",
        "test_new_fe = new_featuress(test_df)"
      ],
      "execution_count": null,
      "outputs": []
    },
    {
      "cell_type": "code",
      "metadata": {
        "colab": {
          "base_uri": "https://localhost:8080/",
          "height": 225
        },
        "id": "CYF7iRKlBp7w",
        "outputId": "5a04c256-ffc2-4292-be3d-caf642da4dec"
      },
      "source": [
        "test_new_fe.head()"
      ],
      "execution_count": null,
      "outputs": [
        {
          "output_type": "execute_result",
          "data": {
            "text/html": [
              "<div>\n",
              "<style scoped>\n",
              "    .dataframe tbody tr th:only-of-type {\n",
              "        vertical-align: middle;\n",
              "    }\n",
              "\n",
              "    .dataframe tbody tr th {\n",
              "        vertical-align: top;\n",
              "    }\n",
              "\n",
              "    .dataframe thead th {\n",
              "        text-align: right;\n",
              "    }\n",
              "</style>\n",
              "<table border=\"1\" class=\"dataframe\">\n",
              "  <thead>\n",
              "    <tr style=\"text-align: right;\">\n",
              "      <th></th>\n",
              "      <th>T_diff1</th>\n",
              "      <th>T_diff2</th>\n",
              "      <th>T_diff3</th>\n",
              "      <th>T_diff4</th>\n",
              "      <th>T_diff5</th>\n",
              "      <th>T_diff6</th>\n",
              "      <th>T_diff7</th>\n",
              "      <th>T_diff8</th>\n",
              "      <th>T_diff9</th>\n",
              "      <th>session_timespan</th>\n",
              "      <th>start_hour</th>\n",
              "      <th>weekday</th>\n",
              "      <th>unique_sites</th>\n",
              "    </tr>\n",
              "    <tr>\n",
              "      <th>session_id</th>\n",
              "      <th></th>\n",
              "      <th></th>\n",
              "      <th></th>\n",
              "      <th></th>\n",
              "      <th></th>\n",
              "      <th></th>\n",
              "      <th></th>\n",
              "      <th></th>\n",
              "      <th></th>\n",
              "      <th></th>\n",
              "      <th></th>\n",
              "      <th></th>\n",
              "      <th></th>\n",
              "    </tr>\n",
              "  </thead>\n",
              "  <tbody>\n",
              "    <tr>\n",
              "      <th>1</th>\n",
              "      <td>0.0</td>\n",
              "      <td>1.0</td>\n",
              "      <td>0.0</td>\n",
              "      <td>0.0</td>\n",
              "      <td>0.0</td>\n",
              "      <td>0.0</td>\n",
              "      <td>0.0</td>\n",
              "      <td>6.0</td>\n",
              "      <td>0.0</td>\n",
              "      <td>7.0</td>\n",
              "      <td>11</td>\n",
              "      <td>5</td>\n",
              "      <td>10</td>\n",
              "    </tr>\n",
              "    <tr>\n",
              "      <th>2</th>\n",
              "      <td>25.0</td>\n",
              "      <td>5.0</td>\n",
              "      <td>8.0</td>\n",
              "      <td>3.0</td>\n",
              "      <td>1.0</td>\n",
              "      <td>13.0</td>\n",
              "      <td>6.0</td>\n",
              "      <td>1.0</td>\n",
              "      <td>23.0</td>\n",
              "      <td>85.0</td>\n",
              "      <td>11</td>\n",
              "      <td>3</td>\n",
              "      <td>1</td>\n",
              "    </tr>\n",
              "    <tr>\n",
              "      <th>3</th>\n",
              "      <td>1.0</td>\n",
              "      <td>1.0</td>\n",
              "      <td>61.0</td>\n",
              "      <td>1.0</td>\n",
              "      <td>1.0</td>\n",
              "      <td>1.0</td>\n",
              "      <td>1.0</td>\n",
              "      <td>14.0</td>\n",
              "      <td>3.0</td>\n",
              "      <td>84.0</td>\n",
              "      <td>15</td>\n",
              "      <td>4</td>\n",
              "      <td>2</td>\n",
              "    </tr>\n",
              "    <tr>\n",
              "      <th>4</th>\n",
              "      <td>0.0</td>\n",
              "      <td>1.0</td>\n",
              "      <td>1.0</td>\n",
              "      <td>0.0</td>\n",
              "      <td>1.0</td>\n",
              "      <td>0.0</td>\n",
              "      <td>0.0</td>\n",
              "      <td>1.0</td>\n",
              "      <td>0.0</td>\n",
              "      <td>4.0</td>\n",
              "      <td>10</td>\n",
              "      <td>1</td>\n",
              "      <td>7</td>\n",
              "    </tr>\n",
              "    <tr>\n",
              "      <th>5</th>\n",
              "      <td>1.0</td>\n",
              "      <td>1.0</td>\n",
              "      <td>6.0</td>\n",
              "      <td>1.0</td>\n",
              "      <td>0.0</td>\n",
              "      <td>0.0</td>\n",
              "      <td>0.0</td>\n",
              "      <td>0.0</td>\n",
              "      <td>4.0</td>\n",
              "      <td>13.0</td>\n",
              "      <td>15</td>\n",
              "      <td>4</td>\n",
              "      <td>8</td>\n",
              "    </tr>\n",
              "  </tbody>\n",
              "</table>\n",
              "</div>"
            ],
            "text/plain": [
              "            T_diff1  T_diff2  T_diff3  ...  start_hour  weekday  unique_sites\n",
              "session_id                             ...                                   \n",
              "1               0.0      1.0      0.0  ...          11        5            10\n",
              "2              25.0      5.0      8.0  ...          11        3             1\n",
              "3               1.0      1.0     61.0  ...          15        4             2\n",
              "4               0.0      1.0      1.0  ...          10        1             7\n",
              "5               1.0      1.0      6.0  ...          15        4             8\n",
              "\n",
              "[5 rows x 13 columns]"
            ]
          },
          "metadata": {
            "tags": []
          },
          "execution_count": 34
        }
      ]
    },
    {
      "cell_type": "code",
      "metadata": {
        "id": "4S5RFxLvBrur"
      },
      "source": [
        "#Dividing our samples to numerical and categorical\n",
        "test_new_numeric = test_new_fe.loc[:, :'session_timespan']\n",
        "test_new_cat = test_new_fe.loc[:, 'start_hour':]"
      ],
      "execution_count": null,
      "outputs": []
    },
    {
      "cell_type": "code",
      "metadata": {
        "id": "9WDTko1ABuf6"
      },
      "source": [
        "#Transforming our data\n",
        "test_new_cat_dummies = pd.get_dummies(test_new_cat, columns=test_new_cat.columns, drop_first=True)\n",
        "test_new_numeric[numerical] = scaler.fit_transform(test_new_numeric[numerical])"
      ],
      "execution_count": null,
      "outputs": []
    },
    {
      "cell_type": "code",
      "metadata": {
        "colab": {
          "base_uri": "https://localhost:8080/",
          "height": 225
        },
        "id": "q41doh00B6w0",
        "outputId": "fa1bd3ad-7c5b-47da-85c3-e403674d87ac"
      },
      "source": [
        "test_new_numeric.head()"
      ],
      "execution_count": null,
      "outputs": [
        {
          "output_type": "execute_result",
          "data": {
            "text/html": [
              "<div>\n",
              "<style scoped>\n",
              "    .dataframe tbody tr th:only-of-type {\n",
              "        vertical-align: middle;\n",
              "    }\n",
              "\n",
              "    .dataframe tbody tr th {\n",
              "        vertical-align: top;\n",
              "    }\n",
              "\n",
              "    .dataframe thead th {\n",
              "        text-align: right;\n",
              "    }\n",
              "</style>\n",
              "<table border=\"1\" class=\"dataframe\">\n",
              "  <thead>\n",
              "    <tr style=\"text-align: right;\">\n",
              "      <th></th>\n",
              "      <th>T_diff1</th>\n",
              "      <th>T_diff2</th>\n",
              "      <th>T_diff3</th>\n",
              "      <th>T_diff4</th>\n",
              "      <th>T_diff5</th>\n",
              "      <th>T_diff6</th>\n",
              "      <th>T_diff7</th>\n",
              "      <th>T_diff8</th>\n",
              "      <th>T_diff9</th>\n",
              "      <th>session_timespan</th>\n",
              "    </tr>\n",
              "    <tr>\n",
              "      <th>session_id</th>\n",
              "      <th></th>\n",
              "      <th></th>\n",
              "      <th></th>\n",
              "      <th></th>\n",
              "      <th></th>\n",
              "      <th></th>\n",
              "      <th></th>\n",
              "      <th></th>\n",
              "      <th></th>\n",
              "      <th></th>\n",
              "    </tr>\n",
              "  </thead>\n",
              "  <tbody>\n",
              "    <tr>\n",
              "      <th>1</th>\n",
              "      <td>-0.190652</td>\n",
              "      <td>-0.171221</td>\n",
              "      <td>-0.184455</td>\n",
              "      <td>-0.188461</td>\n",
              "      <td>-0.194178</td>\n",
              "      <td>-0.192588</td>\n",
              "      <td>-0.188929</td>\n",
              "      <td>-0.099088</td>\n",
              "      <td>-0.189982</td>\n",
              "      <td>-0.445546</td>\n",
              "    </tr>\n",
              "    <tr>\n",
              "      <th>2</th>\n",
              "      <td>0.064324</td>\n",
              "      <td>-0.132001</td>\n",
              "      <td>-0.092022</td>\n",
              "      <td>-0.151075</td>\n",
              "      <td>-0.180384</td>\n",
              "      <td>-0.003503</td>\n",
              "      <td>-0.103841</td>\n",
              "      <td>-0.173908</td>\n",
              "      <td>0.158300</td>\n",
              "      <td>-0.172012</td>\n",
              "    </tr>\n",
              "    <tr>\n",
              "      <th>3</th>\n",
              "      <td>-0.180453</td>\n",
              "      <td>-0.171221</td>\n",
              "      <td>0.520346</td>\n",
              "      <td>-0.175999</td>\n",
              "      <td>-0.180384</td>\n",
              "      <td>-0.178043</td>\n",
              "      <td>-0.174748</td>\n",
              "      <td>0.020623</td>\n",
              "      <td>-0.144554</td>\n",
              "      <td>-0.175519</td>\n",
              "    </tr>\n",
              "    <tr>\n",
              "      <th>4</th>\n",
              "      <td>-0.190652</td>\n",
              "      <td>-0.171221</td>\n",
              "      <td>-0.172901</td>\n",
              "      <td>-0.188461</td>\n",
              "      <td>-0.180384</td>\n",
              "      <td>-0.192588</td>\n",
              "      <td>-0.188929</td>\n",
              "      <td>-0.173908</td>\n",
              "      <td>-0.189982</td>\n",
              "      <td>-0.456067</td>\n",
              "    </tr>\n",
              "    <tr>\n",
              "      <th>5</th>\n",
              "      <td>-0.180453</td>\n",
              "      <td>-0.171221</td>\n",
              "      <td>-0.115130</td>\n",
              "      <td>-0.175999</td>\n",
              "      <td>-0.194178</td>\n",
              "      <td>-0.192588</td>\n",
              "      <td>-0.188929</td>\n",
              "      <td>-0.188872</td>\n",
              "      <td>-0.129411</td>\n",
              "      <td>-0.424505</td>\n",
              "    </tr>\n",
              "  </tbody>\n",
              "</table>\n",
              "</div>"
            ],
            "text/plain": [
              "             T_diff1   T_diff2   T_diff3  ...   T_diff8   T_diff9  session_timespan\n",
              "session_id                                ...                                      \n",
              "1          -0.190652 -0.171221 -0.184455  ... -0.099088 -0.189982         -0.445546\n",
              "2           0.064324 -0.132001 -0.092022  ... -0.173908  0.158300         -0.172012\n",
              "3          -0.180453 -0.171221  0.520346  ...  0.020623 -0.144554         -0.175519\n",
              "4          -0.190652 -0.171221 -0.172901  ... -0.173908 -0.189982         -0.456067\n",
              "5          -0.180453 -0.171221 -0.115130  ... -0.188872 -0.129411         -0.424505\n",
              "\n",
              "[5 rows x 10 columns]"
            ]
          },
          "metadata": {
            "tags": []
          },
          "execution_count": 38
        }
      ]
    },
    {
      "cell_type": "code",
      "metadata": {
        "colab": {
          "base_uri": "https://localhost:8080/",
          "height": 245
        },
        "id": "wKHnxdImB8NJ",
        "outputId": "fdf274ee-ed76-459d-c0d1-8e1ee29c3892"
      },
      "source": [
        "test_new_cat_dummies.head()"
      ],
      "execution_count": null,
      "outputs": [
        {
          "output_type": "execute_result",
          "data": {
            "text/html": [
              "<div>\n",
              "<style scoped>\n",
              "    .dataframe tbody tr th:only-of-type {\n",
              "        vertical-align: middle;\n",
              "    }\n",
              "\n",
              "    .dataframe tbody tr th {\n",
              "        vertical-align: top;\n",
              "    }\n",
              "\n",
              "    .dataframe thead th {\n",
              "        text-align: right;\n",
              "    }\n",
              "</style>\n",
              "<table border=\"1\" class=\"dataframe\">\n",
              "  <thead>\n",
              "    <tr style=\"text-align: right;\">\n",
              "      <th></th>\n",
              "      <th>start_hour_8</th>\n",
              "      <th>start_hour_9</th>\n",
              "      <th>start_hour_10</th>\n",
              "      <th>start_hour_11</th>\n",
              "      <th>start_hour_12</th>\n",
              "      <th>start_hour_13</th>\n",
              "      <th>start_hour_14</th>\n",
              "      <th>start_hour_15</th>\n",
              "      <th>start_hour_16</th>\n",
              "      <th>start_hour_17</th>\n",
              "      <th>start_hour_18</th>\n",
              "      <th>start_hour_19</th>\n",
              "      <th>start_hour_20</th>\n",
              "      <th>start_hour_21</th>\n",
              "      <th>start_hour_22</th>\n",
              "      <th>start_hour_23</th>\n",
              "      <th>weekday_1</th>\n",
              "      <th>weekday_2</th>\n",
              "      <th>weekday_3</th>\n",
              "      <th>weekday_4</th>\n",
              "      <th>weekday_5</th>\n",
              "      <th>weekday_6</th>\n",
              "      <th>unique_sites_2</th>\n",
              "      <th>unique_sites_3</th>\n",
              "      <th>unique_sites_4</th>\n",
              "      <th>unique_sites_5</th>\n",
              "      <th>unique_sites_6</th>\n",
              "      <th>unique_sites_7</th>\n",
              "      <th>unique_sites_8</th>\n",
              "      <th>unique_sites_9</th>\n",
              "      <th>unique_sites_10</th>\n",
              "    </tr>\n",
              "    <tr>\n",
              "      <th>session_id</th>\n",
              "      <th></th>\n",
              "      <th></th>\n",
              "      <th></th>\n",
              "      <th></th>\n",
              "      <th></th>\n",
              "      <th></th>\n",
              "      <th></th>\n",
              "      <th></th>\n",
              "      <th></th>\n",
              "      <th></th>\n",
              "      <th></th>\n",
              "      <th></th>\n",
              "      <th></th>\n",
              "      <th></th>\n",
              "      <th></th>\n",
              "      <th></th>\n",
              "      <th></th>\n",
              "      <th></th>\n",
              "      <th></th>\n",
              "      <th></th>\n",
              "      <th></th>\n",
              "      <th></th>\n",
              "      <th></th>\n",
              "      <th></th>\n",
              "      <th></th>\n",
              "      <th></th>\n",
              "      <th></th>\n",
              "      <th></th>\n",
              "      <th></th>\n",
              "      <th></th>\n",
              "      <th></th>\n",
              "    </tr>\n",
              "  </thead>\n",
              "  <tbody>\n",
              "    <tr>\n",
              "      <th>1</th>\n",
              "      <td>0</td>\n",
              "      <td>0</td>\n",
              "      <td>0</td>\n",
              "      <td>1</td>\n",
              "      <td>0</td>\n",
              "      <td>0</td>\n",
              "      <td>0</td>\n",
              "      <td>0</td>\n",
              "      <td>0</td>\n",
              "      <td>0</td>\n",
              "      <td>0</td>\n",
              "      <td>0</td>\n",
              "      <td>0</td>\n",
              "      <td>0</td>\n",
              "      <td>0</td>\n",
              "      <td>0</td>\n",
              "      <td>0</td>\n",
              "      <td>0</td>\n",
              "      <td>0</td>\n",
              "      <td>0</td>\n",
              "      <td>1</td>\n",
              "      <td>0</td>\n",
              "      <td>0</td>\n",
              "      <td>0</td>\n",
              "      <td>0</td>\n",
              "      <td>0</td>\n",
              "      <td>0</td>\n",
              "      <td>0</td>\n",
              "      <td>0</td>\n",
              "      <td>0</td>\n",
              "      <td>1</td>\n",
              "    </tr>\n",
              "    <tr>\n",
              "      <th>2</th>\n",
              "      <td>0</td>\n",
              "      <td>0</td>\n",
              "      <td>0</td>\n",
              "      <td>1</td>\n",
              "      <td>0</td>\n",
              "      <td>0</td>\n",
              "      <td>0</td>\n",
              "      <td>0</td>\n",
              "      <td>0</td>\n",
              "      <td>0</td>\n",
              "      <td>0</td>\n",
              "      <td>0</td>\n",
              "      <td>0</td>\n",
              "      <td>0</td>\n",
              "      <td>0</td>\n",
              "      <td>0</td>\n",
              "      <td>0</td>\n",
              "      <td>0</td>\n",
              "      <td>1</td>\n",
              "      <td>0</td>\n",
              "      <td>0</td>\n",
              "      <td>0</td>\n",
              "      <td>0</td>\n",
              "      <td>0</td>\n",
              "      <td>0</td>\n",
              "      <td>0</td>\n",
              "      <td>0</td>\n",
              "      <td>0</td>\n",
              "      <td>0</td>\n",
              "      <td>0</td>\n",
              "      <td>0</td>\n",
              "    </tr>\n",
              "    <tr>\n",
              "      <th>3</th>\n",
              "      <td>0</td>\n",
              "      <td>0</td>\n",
              "      <td>0</td>\n",
              "      <td>0</td>\n",
              "      <td>0</td>\n",
              "      <td>0</td>\n",
              "      <td>0</td>\n",
              "      <td>1</td>\n",
              "      <td>0</td>\n",
              "      <td>0</td>\n",
              "      <td>0</td>\n",
              "      <td>0</td>\n",
              "      <td>0</td>\n",
              "      <td>0</td>\n",
              "      <td>0</td>\n",
              "      <td>0</td>\n",
              "      <td>0</td>\n",
              "      <td>0</td>\n",
              "      <td>0</td>\n",
              "      <td>1</td>\n",
              "      <td>0</td>\n",
              "      <td>0</td>\n",
              "      <td>1</td>\n",
              "      <td>0</td>\n",
              "      <td>0</td>\n",
              "      <td>0</td>\n",
              "      <td>0</td>\n",
              "      <td>0</td>\n",
              "      <td>0</td>\n",
              "      <td>0</td>\n",
              "      <td>0</td>\n",
              "    </tr>\n",
              "    <tr>\n",
              "      <th>4</th>\n",
              "      <td>0</td>\n",
              "      <td>0</td>\n",
              "      <td>1</td>\n",
              "      <td>0</td>\n",
              "      <td>0</td>\n",
              "      <td>0</td>\n",
              "      <td>0</td>\n",
              "      <td>0</td>\n",
              "      <td>0</td>\n",
              "      <td>0</td>\n",
              "      <td>0</td>\n",
              "      <td>0</td>\n",
              "      <td>0</td>\n",
              "      <td>0</td>\n",
              "      <td>0</td>\n",
              "      <td>0</td>\n",
              "      <td>1</td>\n",
              "      <td>0</td>\n",
              "      <td>0</td>\n",
              "      <td>0</td>\n",
              "      <td>0</td>\n",
              "      <td>0</td>\n",
              "      <td>0</td>\n",
              "      <td>0</td>\n",
              "      <td>0</td>\n",
              "      <td>0</td>\n",
              "      <td>0</td>\n",
              "      <td>1</td>\n",
              "      <td>0</td>\n",
              "      <td>0</td>\n",
              "      <td>0</td>\n",
              "    </tr>\n",
              "    <tr>\n",
              "      <th>5</th>\n",
              "      <td>0</td>\n",
              "      <td>0</td>\n",
              "      <td>0</td>\n",
              "      <td>0</td>\n",
              "      <td>0</td>\n",
              "      <td>0</td>\n",
              "      <td>0</td>\n",
              "      <td>1</td>\n",
              "      <td>0</td>\n",
              "      <td>0</td>\n",
              "      <td>0</td>\n",
              "      <td>0</td>\n",
              "      <td>0</td>\n",
              "      <td>0</td>\n",
              "      <td>0</td>\n",
              "      <td>0</td>\n",
              "      <td>0</td>\n",
              "      <td>0</td>\n",
              "      <td>0</td>\n",
              "      <td>1</td>\n",
              "      <td>0</td>\n",
              "      <td>0</td>\n",
              "      <td>0</td>\n",
              "      <td>0</td>\n",
              "      <td>0</td>\n",
              "      <td>0</td>\n",
              "      <td>0</td>\n",
              "      <td>0</td>\n",
              "      <td>1</td>\n",
              "      <td>0</td>\n",
              "      <td>0</td>\n",
              "    </tr>\n",
              "  </tbody>\n",
              "</table>\n",
              "</div>"
            ],
            "text/plain": [
              "            start_hour_8  start_hour_9  ...  unique_sites_9  unique_sites_10\n",
              "session_id                              ...                                 \n",
              "1                      0             0  ...               0                1\n",
              "2                      0             0  ...               0                0\n",
              "3                      0             0  ...               0                0\n",
              "4                      0             0  ...               0                0\n",
              "5                      0             0  ...               0                0\n",
              "\n",
              "[5 rows x 31 columns]"
            ]
          },
          "metadata": {
            "tags": []
          },
          "execution_count": 39
        }
      ]
    },
    {
      "cell_type": "code",
      "metadata": {
        "id": "oHVt_XVRB9_V"
      },
      "source": [
        "#Concating our new transformed data\n",
        "test_new_all = pd.concat([test_new_numeric, test_new_cat_dummies], axis=1)"
      ],
      "execution_count": null,
      "outputs": []
    },
    {
      "cell_type": "code",
      "metadata": {
        "colab": {
          "base_uri": "https://localhost:8080/"
        },
        "id": "4OzApLh7CDY0",
        "outputId": "d7f35c05-4bf2-4aca-a95c-5696b149e1d7"
      },
      "source": [
        "#Making it sparse\n",
        "test_new_all_sparse = csr_matrix(test_new_all)\n",
        "test_new_all_sparse.shape"
      ],
      "execution_count": null,
      "outputs": [
        {
          "output_type": "execute_result",
          "data": {
            "text/plain": [
              "(82797, 41)"
            ]
          },
          "metadata": {
            "tags": []
          },
          "execution_count": 41
        }
      ]
    },
    {
      "cell_type": "code",
      "metadata": {
        "id": "GZFSR6OSCGg8"
      },
      "source": [
        "X_test_new = hstack([X_test_sparse, test_new_all_sparse])"
      ],
      "execution_count": null,
      "outputs": []
    },
    {
      "cell_type": "code",
      "metadata": {
        "colab": {
          "base_uri": "https://localhost:8080/"
        },
        "id": "Jaym9s78CJiM",
        "outputId": "8d4878fa-80de-4fdf-e5f0-b7734adc6909"
      },
      "source": [
        "%%time \n",
        "sgd_new = SGDClassifier(loss='log', random_state=17, n_jobs=-1)\n",
        "skf_new = StratifiedKFold(n_splits=8, shuffle=True, random_state=17)\n",
        "params = {\n",
        "    'alpha': np.linspace(0.000001, 0.0002, 100)\n",
        "}\n",
        "grid_s = GridSearchCV(sgd_new, param_grid=params, scoring='roc_auc', n_jobs=-1)\n",
        "grid_s.fit(X_train_new, y_train)"
      ],
      "execution_count": null,
      "outputs": [
        {
          "output_type": "stream",
          "text": [
            "CPU times: user 5.42 s, sys: 1.21 s, total: 6.64 s\n",
            "Wall time: 2min 55s\n"
          ],
          "name": "stdout"
        }
      ]
    },
    {
      "cell_type": "code",
      "metadata": {
        "colab": {
          "base_uri": "https://localhost:8080/",
          "height": 443
        },
        "id": "DyrtsoFWCL28",
        "outputId": "99b68414-3f83-45a3-9a9c-22076f370784"
      },
      "source": [
        "plt.figure(figsize=(15,7))\n",
        "plot_validation_curves(params['alpha'], grid_s.cv_results_)"
      ],
      "execution_count": null,
      "outputs": [
        {
          "output_type": "display_data",
          "data": {
            "image/png": "[encoded data removed]",
            "text/plain": [
              "<Figure size 1080x504 with 1 Axes>"
            ]
          },
          "metadata": {
            "tags": [],
            "needs_background": "light"
          }
        }
      ]
    },
    {
      "cell_type": "code",
      "metadata": {
        "colab": {
          "base_uri": "https://localhost:8080/"
        },
        "id": "zidkPPbsYFpL",
        "outputId": "8981850d-5949-4f31-fc69-7b02bcdbd8bc"
      },
      "source": [
        "#Lets try to see what it shows on validation sample\n",
        "grid_s.best_estimator_.fit(X_train_new, y_train)\n",
        "predict_proba_new = grid_s.best_estimator_.predict_proba(X_valid_new)\n",
        "print('RocAuc score for valid = {}'.format(round(roc_auc_score(y_valid, predict_proba_new[:, 1]), 10)))"
      ],
      "execution_count": null,
      "outputs": [
        {
          "output_type": "stream",
          "text": [
            "RocAuc score for valid = 0.9820591614\n"
          ],
          "name": "stdout"
        }
      ]
    },
    {
      "cell_type": "code",
      "metadata": {
        "colab": {
          "base_uri": "https://localhost:8080/"
        },
        "id": "5wuPPGZpYp4o",
        "outputId": "d7278470-c500-4f26-c9f8-64166a150a1a"
      },
      "source": [
        "#Lets see the best parameter\n",
        "grid_s.best_params_['alpha']"
      ],
      "execution_count": null,
      "outputs": [
        {
          "output_type": "execute_result",
          "data": {
            "text/plain": [
              "1.105050505050505e-05"
            ]
          },
          "metadata": {
            "tags": []
          },
          "execution_count": 48
        }
      ]
    },
    {
      "cell_type": "code",
      "metadata": {
        "id": "0DiKyHHaY3XE"
      },
      "source": [
        "sgd_final = SGDClassifier(loss='log', alpha=grid_s.best_params_['alpha'], random_state=17, n_jobs=-1)\n",
        "sgd_final.fit(X_final, y)\n",
        "new_results = sgd_final.predict_proba(X_test_new)\n",
        "write_to_submission_file(new_results[:,1], 'predictions_new.csv')"
      ],
      "execution_count": null,
      "outputs": []
    },
    {
      "cell_type": "markdown",
      "metadata": {
        "id": "T5aTqMmcY8WX"
      },
      "source": [
        "**The result for this SGDClassifier is 0.94483**"
      ]
    },
    {
      "cell_type": "markdown",
      "metadata": {
        "id": "RhaNVz4sZRJu"
      },
      "source": [
        "##**Part 9. Vowpal Wabbit**"
      ]
    },
    {
      "cell_type": "code",
      "metadata": {
        "colab": {
          "base_uri": "https://localhost:8080/"
        },
        "id": "EfxS2t0sZjJL",
        "outputId": "519d1197-8db1-427e-de9d-80b8ead18589"
      },
      "source": [
        "!apt-get install libboost-program-options-dev zlib1g-dev libboost-python-dev vowpal-wabbit\n",
        "\n",
        "!pip install vowpalwabbit"
      ],
      "execution_count": null,
      "outputs": [
        {
          "output_type": "stream",
          "text": [
            "Reading package lists... Done\n",
            "Building dependency tree       \n",
            "Reading state information... Done\n",
            "libboost-program-options-dev is already the newest version (1.65.1.0ubuntu1).\n",
            "libboost-program-options-dev set to manually installed.\n",
            "zlib1g-dev is already the newest version (1:1.2.11.dfsg-0ubuntu2).\n",
            "zlib1g-dev set to manually installed.\n",
            "libboost-python-dev is already the newest version (1.65.1.0ubuntu1).\n",
            "libboost-python-dev set to manually installed.\n",
            "The following additional packages will be installed:\n",
            "  libvw0\n",
            "Suggested packages:\n",
            "  vowpal-wabbit-doc\n",
            "The following NEW packages will be installed:\n",
            "  libvw0 vowpal-wabbit\n",
            "0 upgraded, 2 newly installed, 0 to remove and 31 not upgraded.\n",
            "Need to get 797 kB of archives.\n",
            "After this operation, 3,034 kB of additional disk space will be used.\n",
            "Get:1 http://archive.ubuntu.com/ubuntu bionic/universe amd64 libvw0 amd64 8.5.0.dfsg1-1 [748 kB]\n",
            "Get:2 http://archive.ubuntu.com/ubuntu bionic/universe amd64 vowpal-wabbit amd64 8.5.0.dfsg1-1 [49.1 kB]\n",
            "Fetched 797 kB in 1s (1,160 kB/s)\n",
            "Selecting previously unselected package libvw0.\n",
            "(Reading database ... 160983 files and directories currently installed.)\n",
            "Preparing to unpack .../libvw0_8.5.0.dfsg1-1_amd64.deb ...\n",
            "Unpacking libvw0 (8.5.0.dfsg1-1) ...\n",
            "Selecting previously unselected package vowpal-wabbit.\n",
            "Preparing to unpack .../vowpal-wabbit_8.5.0.dfsg1-1_amd64.deb ...\n",
            "Unpacking vowpal-wabbit (8.5.0.dfsg1-1) ...\n",
            "Setting up libvw0 (8.5.0.dfsg1-1) ...\n",
            "Setting up vowpal-wabbit (8.5.0.dfsg1-1) ...\n",
            "Processing triggers for man-db (2.8.3-2ubuntu0.1) ...\n",
            "Processing triggers for libc-bin (2.27-3ubuntu1.2) ...\n",
            "/sbin/ldconfig.real: /usr/local/lib/python3.7/dist-packages/ideep4py/lib/libmkldnn.so.0 is not a symbolic link\n",
            "\n",
            "Collecting vowpalwabbit\n",
            "\u001b[?25l  Downloading https://files.pythonhosted.org/packages/3d/1e/dd4cb7143ed9d2b088d1e2e64f9a643039085837b5ea90f5600f3984b8eb/vowpalwabbit-8.10.1-cp37-cp37m-manylinux2010_x86_64.whl (2.6MB)\n",
            "\u001b[K     |████████████████████████████████| 2.6MB 31.0MB/s \n",
            "\u001b[?25hInstalling collected packages: vowpalwabbit\n",
            "Successfully installed vowpalwabbit-8.10.1\n"
          ],
          "name": "stdout"
        }
      ]
    },
    {
      "cell_type": "markdown",
      "metadata": {
        "id": "FkP-k5W_c4iC"
      },
      "source": [
        "**Lets write a function which will tranform all our data to vw format**"
      ]
    },
    {
      "cell_type": "code",
      "metadata": {
        "id": "oVwpQkx_Z2Hd"
      },
      "source": [
        "def arrays_to_vw(X, y=None, train=True, out_file='tmp.vw'):\n",
        "    out_data = []\n",
        "    output_f = open(os.path.join(PATH_TO_DATA, '{}'.format(out_file)), 'w')\n",
        "    if train:\n",
        "        for i, j in enumerate(X[sites].fillna(0).astype('int').values):\n",
        "            element = ''\n",
        "            for el in j:\n",
        "                element = element + str(el) + ' '\n",
        "            out_data_el = str(y[i]) + ' | ' + element[:-1]\n",
        "            #out_data = np.append(out_data, out_data_el)\n",
        "            if i%20000 == 0:\n",
        "                print('Checkpoint {}/{}'.format(i, X.shape[0]))\n",
        "            output_f.write(out_data_el+'\\n')\n",
        "    else:\n",
        "        for i, j in enumerate(X[sites].fillna(0).astype('int').values):\n",
        "            element = ''\n",
        "            for el in j:\n",
        "                element = element + str(el) + ' '\n",
        "            out_data_el = str(0) + ' | ' + element[:-1]\n",
        "            #out_data = np.append(out_data, out_data_el)\n",
        "            if i%40000 == 0:\n",
        "                print('Checkpoint {}/{}'.format(i, X.shape[0]))\n",
        "            output_f.write(out_data_el+'\\n')\n",
        "    output_f.close()\n",
        "    pass"
      ],
      "execution_count": null,
      "outputs": []
    },
    {
      "cell_type": "markdown",
      "metadata": {
        "id": "YDMQhFFCeCPY"
      },
      "source": [
        "**Lets apply this function to our sample from competition**"
      ]
    },
    {
      "cell_type": "code",
      "metadata": {
        "id": "PyQN5RqofAy7"
      },
      "source": [
        "sites = ['site' + str(i) for i in range(1, 11)]\n",
        "y_for_vw = y.values"
      ],
      "execution_count": 22,
      "outputs": []
    },
    {
      "cell_type": "code",
      "metadata": {
        "colab": {
          "base_uri": "https://localhost:8080/"
        },
        "id": "C-46ITFIc_H9",
        "outputId": "724b5764-c200-423a-c940-1fc705b6789d"
      },
      "source": [
        "%%time\n",
        "arrays_to_vw(train_df, y_for_vw, out_file='train.vw')\n",
        "arrays_to_vw(test_df, train=False, out_file='test.vw')"
      ],
      "execution_count": null,
      "outputs": [
        {
          "output_type": "stream",
          "text": [
            "Checkpoint 0/253561\n",
            "Checkpoint 20000/253561\n",
            "Checkpoint 40000/253561\n",
            "Checkpoint 60000/253561\n",
            "Checkpoint 80000/253561\n",
            "Checkpoint 100000/253561\n",
            "Checkpoint 120000/253561\n",
            "Checkpoint 140000/253561\n",
            "Checkpoint 160000/253561\n",
            "Checkpoint 180000/253561\n",
            "Checkpoint 200000/253561\n",
            "Checkpoint 220000/253561\n",
            "Checkpoint 240000/253561\n",
            "Checkpoint 0/82797\n",
            "Checkpoint 40000/82797\n",
            "Checkpoint 80000/82797\n",
            "CPU times: user 3.8 s, sys: 21.7 ms, total: 3.82 s\n",
            "Wall time: 3.91 s\n"
          ],
          "name": "stdout"
        }
      ]
    },
    {
      "cell_type": "code",
      "metadata": {
        "colab": {
          "base_uri": "https://localhost:8080/"
        },
        "id": "qg5eEaTcl1OH",
        "outputId": "7f5094d7-dc68-47dc-f300-6eee34fba371"
      },
      "source": [
        "!head -5 $PATH_TO_DATA/train.vw"
      ],
      "execution_count": null,
      "outputs": [
        {
          "output_type": "stream",
          "text": [
            "0 | 718 0 0 0 0 0 0 0 0 0\n",
            "0 | 890 941 3847 941 942 3846 3847 3846 1516 1518\n",
            "0 | 14769 39 14768 14769 37 39 14768 14768 14768 14768\n",
            "0 | 782 782 782 782 782 782 782 782 782 782\n",
            "0 | 22 177 175 178 177 178 175 177 177 178\n"
          ],
          "name": "stdout"
        }
      ]
    },
    {
      "cell_type": "code",
      "metadata": {
        "colab": {
          "base_uri": "https://localhost:8080/"
        },
        "id": "0iqUipKJn0W6",
        "outputId": "edf2e738-cf93-4ad1-f7e2-4d8ba2ba36f8"
      },
      "source": [
        "!head -5 $PATH_TO_DATA/test.vw"
      ],
      "execution_count": null,
      "outputs": [
        {
          "output_type": "stream",
          "text": [
            "0 | 29 35 22 321 23 2211 6730 21 44582 15336\n",
            "0 | 782 782 782 782 782 782 782 782 782 782\n",
            "0 | 55 55 55 55 55 55 55 55 1445 1445\n",
            "0 | 1023 1022 50 222 202 3374 50 48 48 3374\n",
            "0 | 301 301 301 66 67 69 70 68 71 167\n"
          ],
          "name": "stdout"
        }
      ]
    },
    {
      "cell_type": "code",
      "metadata": {
        "id": "gzUa4zxppidJ"
      },
      "source": [
        "#Lets store all pathes in variables\n",
        "train_vw = os.path.join(PATH_TO_DATA, 'train.vw')\n",
        "test_vw = os.path.join(PATH_TO_DATA, 'test.vw')\n",
        "model = os.path.join(PATH_TO_DATA, 'vw_model.vw')\n",
        "pred = os.path.join(PATH_TO_DATA, 'vw_pred.csv')"
      ],
      "execution_count": null,
      "outputs": []
    },
    {
      "cell_type": "code",
      "metadata": {
        "colab": {
          "base_uri": "https://localhost:8080/"
        },
        "id": "07D2D5-XpyV9",
        "outputId": "50204091-1b89-480b-c835-c752a0c487c4"
      },
      "source": [
        "#Fitting vowpal wabbit on the whole training sample\n",
        "%%time\n",
        "!vw --binary $train_vw --passes 3 -c --random_seed 17 -f $model"
      ],
      "execution_count": null,
      "outputs": [
        {
          "output_type": "stream",
          "text": [
            "final_regressor = /content/drive/MyDrive/Colab_Notebooks/User_Identify/Data_Files/vw_model.vw\n",
            "Num weight bits = 18\n",
            "learning rate = 0.5\n",
            "initial_t = 0\n",
            "power_t = 0.5\n",
            "decay_learning_rate = 1\n",
            "using cache_file = /content/drive/MyDrive/Colab_Notebooks/User_Identify/Data_Files/train.vw.cache\n",
            "ignoring text input in favor of cache input\n",
            "num sources = 1\n",
            "average  since         example        example  current  current  current\n",
            "loss     last          counter         weight    label  predict features\n",
            "0.000000 0.000000            1            1.0  -1.0000  -1.0000       11\n",
            "0.000000 0.000000            2            2.0  -1.0000  -1.0000       11\n",
            "0.000000 0.000000            4            4.0  -1.0000  -1.0000       11\n",
            "0.000000 0.000000            8            8.0  -1.0000  -1.0000       11\n",
            "0.000000 0.000000           16           16.0  -1.0000  -1.0000       11\n",
            "0.000000 0.000000           32           32.0  -1.0000  -1.0000       11\n",
            "0.000000 0.000000           64           64.0  -1.0000  -1.0000       11\n",
            "0.000000 0.000000          128          128.0  -1.0000  -1.0000       11\n",
            "0.003906 0.007812          256          256.0  -1.0000  -1.0000       11\n",
            "0.003906 0.003906          512          512.0  -1.0000  -1.0000       11\n",
            "0.007812 0.011719         1024         1024.0  -1.0000  -1.0000       11\n",
            "0.006348 0.004883         2048         2048.0  -1.0000  -1.0000       11\n",
            "0.008057 0.009766         4096         4096.0  -1.0000  -1.0000       11\n",
            "0.009155 0.010254         8192         8192.0  -1.0000  -1.0000       11\n",
            "0.008850 0.008545        16384        16384.0  -1.0000  -1.0000       11\n",
            "0.009918 0.010986        32768        32768.0  -1.0000  -1.0000       11\n",
            "0.009430 0.008942        65536        65536.0  -1.0000  -1.0000       11\n",
            "0.009254 0.009079       131072       131072.0  -1.0000  -1.0000       11\n",
            "0.008755 0.008755       262144       262144.0  -1.0000  -1.0000       11 h\n",
            "0.008412 0.008068       524288       524288.0  -1.0000  -1.0000       11 h\n",
            "\n",
            "finished run\n",
            "number of examples per pass = 228205\n",
            "passes used = 3\n",
            "weighted example sum = 684615.000000\n",
            "weighted label sum = -672219.000000\n",
            "average loss = 0.008045 h\n",
            "best constant = -0.981893\n",
            "best constant's loss = 0.035885\n",
            "total feature number = 7530765\n",
            "CPU times: user 13.3 ms, sys: 11.4 ms, total: 24.6 ms\n",
            "Wall time: 834 ms\n"
          ],
          "name": "stdout"
        }
      ]
    },
    {
      "cell_type": "code",
      "metadata": {
        "id": "F167hh_lqdtJ",
        "colab": {
          "base_uri": "https://localhost:8080/"
        },
        "outputId": "63b0ddf3-bbfe-46dd-93d7-13c81fadf86a"
      },
      "source": [
        "!vw -t -i $model -d $test_vw -p $pred"
      ],
      "execution_count": null,
      "outputs": [
        {
          "output_type": "stream",
          "text": [
            "only testing\n",
            "predictions = /content/drive/MyDrive/Colab_Notebooks/User_Identify/Data_Files/vw_pred.csv\n",
            "Num weight bits = 18\n",
            "learning rate = 0.5\n",
            "initial_t = 0\n",
            "power_t = 0.5\n",
            "using no cache\n",
            "Reading datafile = /content/drive/MyDrive/Colab_Notebooks/User_Identify/Data_Files/test.vw\n",
            "num sources = 1\n",
            "average  since         example        example  current  current  current\n",
            "loss     last          counter         weight    label  predict features\n",
            "1.000000 1.000000            1            1.0   0.0000  -1.0000       11\n",
            "1.000000 1.000000            2            2.0   0.0000  -1.0000       11\n",
            "1.000000 1.000000            4            4.0   0.0000  -1.0000       11\n",
            "0.948205 0.896409            8            8.0   0.0000  -1.0000       11\n",
            "0.894980 0.841756           16           16.0   0.0000  -1.0000       11\n",
            "0.917017 0.939053           32           32.0   0.0000  -0.9079       11\n",
            "0.942500 0.967983           64           64.0   0.0000  -1.0000       11\n",
            "0.956816 0.971132          128          128.0   0.0000  -1.0000       11\n",
            "0.962160 0.967504          256          256.0   0.0000  -1.0000       11\n",
            "0.959928 0.957696          512          512.0   0.0000  -1.0000       11\n",
            "0.958482 0.957037         1024         1024.0   0.0000  -1.0000       11\n",
            "0.960210 0.961937         2048         2048.0   0.0000  -0.7586       11\n",
            "0.963227 0.966244         4096         4096.0   0.0000  -1.0000       11\n",
            "0.964188 0.965149         8192         8192.0   0.0000  -1.0000       11\n",
            "0.966151 0.968115        16384        16384.0   0.0000  -1.0000       11\n",
            "0.966261 0.966371        32768        32768.0   0.0000  -1.0000       11\n",
            "0.966102 0.965944        65536        65536.0   0.0000  -1.0000       11\n",
            "\n",
            "finished run\n",
            "number of examples per pass = 82797\n",
            "passes used = 1\n",
            "weighted example sum = 82797.000000\n",
            "weighted label sum = 0.000000\n",
            "average loss = 0.966284\n",
            "total feature number = 910767\n"
          ],
          "name": "stdout"
        }
      ]
    },
    {
      "cell_type": "code",
      "metadata": {
        "id": "dtDxR7MORRQz"
      },
      "source": [
        "predicted_vw = pd.read_csv(pred, header=None)"
      ],
      "execution_count": null,
      "outputs": []
    },
    {
      "cell_type": "code",
      "metadata": {
        "id": "aogse1NqsIlU"
      },
      "source": [
        "write_to_submission_file(predicted_vw.values, 'predictions_vw.csv')"
      ],
      "execution_count": null,
      "outputs": []
    },
    {
      "cell_type": "markdown",
      "metadata": {
        "id": "PdZgLQzHtdsu"
      },
      "source": [
        "**Kaggle shows 0.83735. So Vowpal Wabbit is not the best solution for this task:)**"
      ]
    },
    {
      "cell_type": "markdown",
      "metadata": {
        "id": "VDcF9So6tuod"
      },
      "source": [
        "##**Part 10. Final attempt**"
      ]
    },
    {
      "cell_type": "markdown",
      "metadata": {
        "id": "4ukD_1evt4k0"
      },
      "source": [
        "**Lets try to have a deeper look on our training sample and figure some Alice`s patterns**"
      ]
    },
    {
      "cell_type": "code",
      "metadata": {
        "id": "0cr51_RdVmsU"
      },
      "source": [
        "def new_featuress1(data):\n",
        "    n_features = pd.DataFrame()\n",
        "\n",
        "    times = data[['time%s' % i for i in range(1, 11)]]\n",
        "    sites = data[['site%s' % i for i in range(1, 11)]].fillna(0).astype(int).values\n",
        "\n",
        "    for i in range(1, 10):\n",
        "        n_features['T_diff{}'.format(i)] = (pd.to_datetime(times['time{}'.format(i+1)]) - pd.to_datetime(times['time{}'.format(i)])).dt.total_seconds().fillna(0)\n",
        "    \n",
        "    n_features['session_timespan'] = np.sum(n_features, axis=1)\n",
        "    n_features['start_hour'] = pd.to_datetime(times['time1']).dt.hour\n",
        "    n_features['weekday'] = pd.to_datetime(times['time1']).dt.weekday\n",
        "    n_features['unique_sites'] = [len(np.unique(session[session != 0])) for session in sites]\n",
        "\n",
        "    return n_features"
      ],
      "execution_count": 12,
      "outputs": []
    },
    {
      "cell_type": "code",
      "metadata": {
        "id": "SHiBlkSzUl2R"
      },
      "source": [
        "final_train = new_featuress1(train_df)\n",
        "final_train['target'] = y"
      ],
      "execution_count": 13,
      "outputs": []
    },
    {
      "cell_type": "code",
      "metadata": {
        "colab": {
          "base_uri": "https://localhost:8080/",
          "height": 235
        },
        "id": "ZOB8mflnjwCa",
        "outputId": "1af6e4cd-516b-4729-d866-da562fa766c1"
      },
      "source": [
        "final_train.head()"
      ],
      "execution_count": 14,
      "outputs": [
        {
          "output_type": "execute_result",
          "data": {
            "text/html": [
              "<div>\n",
              "<style scoped>\n",
              "    .dataframe tbody tr th:only-of-type {\n",
              "        vertical-align: middle;\n",
              "    }\n",
              "\n",
              "    .dataframe tbody tr th {\n",
              "        vertical-align: top;\n",
              "    }\n",
              "\n",
              "    .dataframe thead th {\n",
              "        text-align: right;\n",
              "    }\n",
              "</style>\n",
              "<table border=\"1\" class=\"dataframe\">\n",
              "  <thead>\n",
              "    <tr style=\"text-align: right;\">\n",
              "      <th></th>\n",
              "      <th>T_diff1</th>\n",
              "      <th>T_diff2</th>\n",
              "      <th>T_diff3</th>\n",
              "      <th>T_diff4</th>\n",
              "      <th>T_diff5</th>\n",
              "      <th>T_diff6</th>\n",
              "      <th>T_diff7</th>\n",
              "      <th>T_diff8</th>\n",
              "      <th>T_diff9</th>\n",
              "      <th>session_timespan</th>\n",
              "      <th>start_hour</th>\n",
              "      <th>weekday</th>\n",
              "      <th>unique_sites</th>\n",
              "      <th>target</th>\n",
              "    </tr>\n",
              "    <tr>\n",
              "      <th>session_id</th>\n",
              "      <th></th>\n",
              "      <th></th>\n",
              "      <th></th>\n",
              "      <th></th>\n",
              "      <th></th>\n",
              "      <th></th>\n",
              "      <th></th>\n",
              "      <th></th>\n",
              "      <th></th>\n",
              "      <th></th>\n",
              "      <th></th>\n",
              "      <th></th>\n",
              "      <th></th>\n",
              "      <th></th>\n",
              "    </tr>\n",
              "  </thead>\n",
              "  <tbody>\n",
              "    <tr>\n",
              "      <th>1</th>\n",
              "      <td>0.0</td>\n",
              "      <td>0.0</td>\n",
              "      <td>0.0</td>\n",
              "      <td>0.0</td>\n",
              "      <td>0.0</td>\n",
              "      <td>0.0</td>\n",
              "      <td>0.0</td>\n",
              "      <td>0.0</td>\n",
              "      <td>0.0</td>\n",
              "      <td>0.0</td>\n",
              "      <td>10</td>\n",
              "      <td>3</td>\n",
              "      <td>1</td>\n",
              "      <td>0</td>\n",
              "    </tr>\n",
              "    <tr>\n",
              "      <th>2</th>\n",
              "      <td>0.0</td>\n",
              "      <td>1.0</td>\n",
              "      <td>0.0</td>\n",
              "      <td>0.0</td>\n",
              "      <td>0.0</td>\n",
              "      <td>1.0</td>\n",
              "      <td>0.0</td>\n",
              "      <td>23.0</td>\n",
              "      <td>1.0</td>\n",
              "      <td>26.0</td>\n",
              "      <td>11</td>\n",
              "      <td>5</td>\n",
              "      <td>7</td>\n",
              "      <td>0</td>\n",
              "    </tr>\n",
              "    <tr>\n",
              "      <th>3</th>\n",
              "      <td>1.0</td>\n",
              "      <td>1.0</td>\n",
              "      <td>0.0</td>\n",
              "      <td>0.0</td>\n",
              "      <td>0.0</td>\n",
              "      <td>1.0</td>\n",
              "      <td>1.0</td>\n",
              "      <td>1.0</td>\n",
              "      <td>2.0</td>\n",
              "      <td>7.0</td>\n",
              "      <td>16</td>\n",
              "      <td>0</td>\n",
              "      <td>4</td>\n",
              "      <td>0</td>\n",
              "    </tr>\n",
              "    <tr>\n",
              "      <th>4</th>\n",
              "      <td>30.0</td>\n",
              "      <td>30.0</td>\n",
              "      <td>30.0</td>\n",
              "      <td>30.0</td>\n",
              "      <td>30.0</td>\n",
              "      <td>30.0</td>\n",
              "      <td>30.0</td>\n",
              "      <td>30.0</td>\n",
              "      <td>30.0</td>\n",
              "      <td>270.0</td>\n",
              "      <td>10</td>\n",
              "      <td>4</td>\n",
              "      <td>1</td>\n",
              "      <td>0</td>\n",
              "    </tr>\n",
              "    <tr>\n",
              "      <th>5</th>\n",
              "      <td>137.0</td>\n",
              "      <td>0.0</td>\n",
              "      <td>1.0</td>\n",
              "      <td>0.0</td>\n",
              "      <td>36.0</td>\n",
              "      <td>0.0</td>\n",
              "      <td>0.0</td>\n",
              "      <td>67.0</td>\n",
              "      <td>5.0</td>\n",
              "      <td>246.0</td>\n",
              "      <td>10</td>\n",
              "      <td>4</td>\n",
              "      <td>4</td>\n",
              "      <td>0</td>\n",
              "    </tr>\n",
              "  </tbody>\n",
              "</table>\n",
              "</div>"
            ],
            "text/plain": [
              "            T_diff1  T_diff2  T_diff3  ...  weekday  unique_sites  target\n",
              "session_id                             ...                               \n",
              "1               0.0      0.0      0.0  ...        3             1       0\n",
              "2               0.0      1.0      0.0  ...        5             7       0\n",
              "3               1.0      1.0      0.0  ...        0             4       0\n",
              "4              30.0     30.0     30.0  ...        4             1       0\n",
              "5             137.0      0.0      1.0  ...        4             4       0\n",
              "\n",
              "[5 rows x 14 columns]"
            ]
          },
          "metadata": {
            "tags": []
          },
          "execution_count": 14
        }
      ]
    },
    {
      "cell_type": "code",
      "metadata": {
        "colab": {
          "base_uri": "https://localhost:8080/",
          "height": 445
        },
        "id": "xlolGbyNVNez",
        "outputId": "7771a153-3f1b-487b-8975-1a4c8cbea04d"
      },
      "source": [
        "plt.figure(figsize=(15, 7))\n",
        "final_train['start_hour'].hist(color='darkviolet')"
      ],
      "execution_count": 15,
      "outputs": [
        {
          "output_type": "execute_result",
          "data": {
            "text/plain": [
              "<matplotlib.axes._subplots.AxesSubplot at 0x7f613a921c90>"
            ]
          },
          "metadata": {
            "tags": []
          },
          "execution_count": 15
        },
        {
          "output_type": "display_data",
          "data": {
            "image/png": "[encoded data removed]",
            "text/plain": [
              "<Figure size 1080x504 with 1 Axes>"
            ]
          },
          "metadata": {
            "tags": [],
            "needs_background": "light"
          }
        }
      ]
    },
    {
      "cell_type": "code",
      "metadata": {
        "id": "j_b_5lAsWIQf"
      },
      "source": [
        "id_name_dict = {1: 'Alice', 0: 'Other'}\n",
        "final_train['target'] = final_train['target'].map(id_name_dict)\n",
        "\n",
        "color_dic = {'Alice':'red', 'Other':'black'}"
      ],
      "execution_count": 16,
      "outputs": []
    },
    {
      "cell_type": "code",
      "metadata": {
        "colab": {
          "base_uri": "https://localhost:8080/",
          "height": 499
        },
        "id": "UpY8IKrsW-yp",
        "outputId": "4a2f0cf9-54bf-4575-db1d-5a1715406f03"
      },
      "source": [
        "fig, axes = plt.subplots(ncols=2, figsize=(16, 8))\n",
        "for i, user in enumerate(color_dic):\n",
        "    axes[i].set_title('{}'.format(user))\n",
        "    axes[i].hist(final_train['start_hour'].loc[final_train.target == '{}'.format(user)], color='{}'.format(color_dic['{}'.format(user)]), bins=17)\n",
        "    axes[i].set_xticks(ticks=[i + 0.5 for i in np.linspace(7,22,17)])\n",
        "    axes[i].set_xticklabels(labels=['7','8' ,'9','10','11','12','13','14','15','16','17',\n",
        "                   '18','19','20','21','22','23'])"
      ],
      "execution_count": 17,
      "outputs": [
        {
          "output_type": "display_data",
          "data": {
            "image/png": "[encoded data removed]",
            "text/plain": [
              "<Figure size 1152x576 with 2 Axes>"
            ]
          },
          "metadata": {
            "tags": [],
            "needs_background": "light"
          }
        }
      ]
    },
    {
      "cell_type": "code",
      "metadata": {
        "colab": {
          "base_uri": "https://localhost:8080/"
        },
        "id": "Bz1Xd8e5lDZZ",
        "outputId": "6c433f0f-8ab7-4b80-a74b-80bd03743b69"
      },
      "source": [
        "final_train.start_hour.loc[final_train.target == 'Alice'].value_counts()"
      ],
      "execution_count": 18,
      "outputs": [
        {
          "output_type": "execute_result",
          "data": {
            "text/plain": [
              "16    879\n",
              "17    618\n",
              "12    340\n",
              "13    196\n",
              "18    179\n",
              "15     40\n",
              "9      38\n",
              "14      4\n",
              "11      3\n",
              "Name: start_hour, dtype: int64"
            ]
          },
          "metadata": {
            "tags": []
          },
          "execution_count": 18
        }
      ]
    },
    {
      "cell_type": "code",
      "metadata": {
        "id": "7h146oLelXtO"
      },
      "source": [
        "#Lets create new feature if session start hour is in Alice`s interval, also we can exclude 11 and 14 as there are only couple of sessions with it\n",
        "alice_int = [9, 12, 13, 15, 16, 17, 18]\n",
        "final_train['is_alice_hours'] = [1 if x in alice_int else 0 for x in final_train.start_hour.values]"
      ],
      "execution_count": 19,
      "outputs": []
    },
    {
      "cell_type": "code",
      "metadata": {
        "colab": {
          "base_uri": "https://localhost:8080/",
          "height": 235
        },
        "id": "Y8LFu5xemGTK",
        "outputId": "ee2334bd-619f-4d39-c29b-6ab10fd3c593"
      },
      "source": [
        "final_train.head()"
      ],
      "execution_count": 20,
      "outputs": [
        {
          "output_type": "execute_result",
          "data": {
            "text/html": [
              "<div>\n",
              "<style scoped>\n",
              "    .dataframe tbody tr th:only-of-type {\n",
              "        vertical-align: middle;\n",
              "    }\n",
              "\n",
              "    .dataframe tbody tr th {\n",
              "        vertical-align: top;\n",
              "    }\n",
              "\n",
              "    .dataframe thead th {\n",
              "        text-align: right;\n",
              "    }\n",
              "</style>\n",
              "<table border=\"1\" class=\"dataframe\">\n",
              "  <thead>\n",
              "    <tr style=\"text-align: right;\">\n",
              "      <th></th>\n",
              "      <th>T_diff1</th>\n",
              "      <th>T_diff2</th>\n",
              "      <th>T_diff3</th>\n",
              "      <th>T_diff4</th>\n",
              "      <th>T_diff5</th>\n",
              "      <th>T_diff6</th>\n",
              "      <th>T_diff7</th>\n",
              "      <th>T_diff8</th>\n",
              "      <th>T_diff9</th>\n",
              "      <th>session_timespan</th>\n",
              "      <th>start_hour</th>\n",
              "      <th>weekday</th>\n",
              "      <th>unique_sites</th>\n",
              "      <th>target</th>\n",
              "      <th>is_alice_hours</th>\n",
              "    </tr>\n",
              "    <tr>\n",
              "      <th>session_id</th>\n",
              "      <th></th>\n",
              "      <th></th>\n",
              "      <th></th>\n",
              "      <th></th>\n",
              "      <th></th>\n",
              "      <th></th>\n",
              "      <th></th>\n",
              "      <th></th>\n",
              "      <th></th>\n",
              "      <th></th>\n",
              "      <th></th>\n",
              "      <th></th>\n",
              "      <th></th>\n",
              "      <th></th>\n",
              "      <th></th>\n",
              "    </tr>\n",
              "  </thead>\n",
              "  <tbody>\n",
              "    <tr>\n",
              "      <th>1</th>\n",
              "      <td>0.0</td>\n",
              "      <td>0.0</td>\n",
              "      <td>0.0</td>\n",
              "      <td>0.0</td>\n",
              "      <td>0.0</td>\n",
              "      <td>0.0</td>\n",
              "      <td>0.0</td>\n",
              "      <td>0.0</td>\n",
              "      <td>0.0</td>\n",
              "      <td>0.0</td>\n",
              "      <td>10</td>\n",
              "      <td>3</td>\n",
              "      <td>1</td>\n",
              "      <td>Other</td>\n",
              "      <td>0</td>\n",
              "    </tr>\n",
              "    <tr>\n",
              "      <th>2</th>\n",
              "      <td>0.0</td>\n",
              "      <td>1.0</td>\n",
              "      <td>0.0</td>\n",
              "      <td>0.0</td>\n",
              "      <td>0.0</td>\n",
              "      <td>1.0</td>\n",
              "      <td>0.0</td>\n",
              "      <td>23.0</td>\n",
              "      <td>1.0</td>\n",
              "      <td>26.0</td>\n",
              "      <td>11</td>\n",
              "      <td>5</td>\n",
              "      <td>7</td>\n",
              "      <td>Other</td>\n",
              "      <td>0</td>\n",
              "    </tr>\n",
              "    <tr>\n",
              "      <th>3</th>\n",
              "      <td>1.0</td>\n",
              "      <td>1.0</td>\n",
              "      <td>0.0</td>\n",
              "      <td>0.0</td>\n",
              "      <td>0.0</td>\n",
              "      <td>1.0</td>\n",
              "      <td>1.0</td>\n",
              "      <td>1.0</td>\n",
              "      <td>2.0</td>\n",
              "      <td>7.0</td>\n",
              "      <td>16</td>\n",
              "      <td>0</td>\n",
              "      <td>4</td>\n",
              "      <td>Other</td>\n",
              "      <td>1</td>\n",
              "    </tr>\n",
              "    <tr>\n",
              "      <th>4</th>\n",
              "      <td>30.0</td>\n",
              "      <td>30.0</td>\n",
              "      <td>30.0</td>\n",
              "      <td>30.0</td>\n",
              "      <td>30.0</td>\n",
              "      <td>30.0</td>\n",
              "      <td>30.0</td>\n",
              "      <td>30.0</td>\n",
              "      <td>30.0</td>\n",
              "      <td>270.0</td>\n",
              "      <td>10</td>\n",
              "      <td>4</td>\n",
              "      <td>1</td>\n",
              "      <td>Other</td>\n",
              "      <td>0</td>\n",
              "    </tr>\n",
              "    <tr>\n",
              "      <th>5</th>\n",
              "      <td>137.0</td>\n",
              "      <td>0.0</td>\n",
              "      <td>1.0</td>\n",
              "      <td>0.0</td>\n",
              "      <td>36.0</td>\n",
              "      <td>0.0</td>\n",
              "      <td>0.0</td>\n",
              "      <td>67.0</td>\n",
              "      <td>5.0</td>\n",
              "      <td>246.0</td>\n",
              "      <td>10</td>\n",
              "      <td>4</td>\n",
              "      <td>4</td>\n",
              "      <td>Other</td>\n",
              "      <td>0</td>\n",
              "    </tr>\n",
              "  </tbody>\n",
              "</table>\n",
              "</div>"
            ],
            "text/plain": [
              "            T_diff1  T_diff2  T_diff3  ...  unique_sites  target  is_alice_hours\n",
              "session_id                             ...                                      \n",
              "1               0.0      0.0      0.0  ...             1   Other               0\n",
              "2               0.0      1.0      0.0  ...             7   Other               0\n",
              "3               1.0      1.0      0.0  ...             4   Other               1\n",
              "4              30.0     30.0     30.0  ...             1   Other               0\n",
              "5             137.0      0.0      1.0  ...             4   Other               0\n",
              "\n",
              "[5 rows x 15 columns]"
            ]
          },
          "metadata": {
            "tags": []
          },
          "execution_count": 20
        }
      ]
    },
    {
      "cell_type": "code",
      "metadata": {
        "id": "GF2EXnSRn0iD"
      },
      "source": [
        "train_sites = train_df[sites].fillna(0).astype('int')\n",
        "train_sites['target'] = y"
      ],
      "execution_count": 23,
      "outputs": []
    },
    {
      "cell_type": "code",
      "metadata": {
        "id": "swHiQpjVobhG"
      },
      "source": [
        "alice_sites = []\n",
        "for i in range(1, 11):\n",
        "    alice_sites = np.append(alice_sites, train_sites['site{}'.format(i)].loc[train_sites.target == 1].values)\n",
        "alice_sites = np.unique(alice_sites)"
      ],
      "execution_count": 24,
      "outputs": []
    },
    {
      "cell_type": "code",
      "metadata": {
        "id": "vk8bN2pw5kvN"
      },
      "source": [
        "#New feature which shows does include session at least one site from all the Alice`s sites\n",
        "final_train['is_alice_sites'] = [0 if len(set(alice_sites) & set(train_sites.iloc[x, 0:9].values)) == 0 else 1 for x in range(final_train.shape[0])]"
      ],
      "execution_count": 25,
      "outputs": []
    },
    {
      "cell_type": "code",
      "metadata": {
        "id": "PZh4udEKUTLZ"
      },
      "source": [
        "final_train.drop(columns='target', inplace=True)"
      ],
      "execution_count": 26,
      "outputs": []
    },
    {
      "cell_type": "code",
      "metadata": {
        "colab": {
          "base_uri": "https://localhost:8080/",
          "height": 235
        },
        "id": "b6jJ2zCGBNr6",
        "outputId": "afce9c8e-ec14-44e6-862e-dbe96a5eab5b"
      },
      "source": [
        "final_train.head()"
      ],
      "execution_count": 27,
      "outputs": [
        {
          "output_type": "execute_result",
          "data": {
            "text/html": [
              "<div>\n",
              "<style scoped>\n",
              "    .dataframe tbody tr th:only-of-type {\n",
              "        vertical-align: middle;\n",
              "    }\n",
              "\n",
              "    .dataframe tbody tr th {\n",
              "        vertical-align: top;\n",
              "    }\n",
              "\n",
              "    .dataframe thead th {\n",
              "        text-align: right;\n",
              "    }\n",
              "</style>\n",
              "<table border=\"1\" class=\"dataframe\">\n",
              "  <thead>\n",
              "    <tr style=\"text-align: right;\">\n",
              "      <th></th>\n",
              "      <th>T_diff1</th>\n",
              "      <th>T_diff2</th>\n",
              "      <th>T_diff3</th>\n",
              "      <th>T_diff4</th>\n",
              "      <th>T_diff5</th>\n",
              "      <th>T_diff6</th>\n",
              "      <th>T_diff7</th>\n",
              "      <th>T_diff8</th>\n",
              "      <th>T_diff9</th>\n",
              "      <th>session_timespan</th>\n",
              "      <th>start_hour</th>\n",
              "      <th>weekday</th>\n",
              "      <th>unique_sites</th>\n",
              "      <th>is_alice_hours</th>\n",
              "      <th>is_alice_sites</th>\n",
              "    </tr>\n",
              "    <tr>\n",
              "      <th>session_id</th>\n",
              "      <th></th>\n",
              "      <th></th>\n",
              "      <th></th>\n",
              "      <th></th>\n",
              "      <th></th>\n",
              "      <th></th>\n",
              "      <th></th>\n",
              "      <th></th>\n",
              "      <th></th>\n",
              "      <th></th>\n",
              "      <th></th>\n",
              "      <th></th>\n",
              "      <th></th>\n",
              "      <th></th>\n",
              "      <th></th>\n",
              "    </tr>\n",
              "  </thead>\n",
              "  <tbody>\n",
              "    <tr>\n",
              "      <th>1</th>\n",
              "      <td>0.0</td>\n",
              "      <td>0.0</td>\n",
              "      <td>0.0</td>\n",
              "      <td>0.0</td>\n",
              "      <td>0.0</td>\n",
              "      <td>0.0</td>\n",
              "      <td>0.0</td>\n",
              "      <td>0.0</td>\n",
              "      <td>0.0</td>\n",
              "      <td>0.0</td>\n",
              "      <td>10</td>\n",
              "      <td>3</td>\n",
              "      <td>1</td>\n",
              "      <td>0</td>\n",
              "      <td>1</td>\n",
              "    </tr>\n",
              "    <tr>\n",
              "      <th>2</th>\n",
              "      <td>0.0</td>\n",
              "      <td>1.0</td>\n",
              "      <td>0.0</td>\n",
              "      <td>0.0</td>\n",
              "      <td>0.0</td>\n",
              "      <td>1.0</td>\n",
              "      <td>0.0</td>\n",
              "      <td>23.0</td>\n",
              "      <td>1.0</td>\n",
              "      <td>26.0</td>\n",
              "      <td>11</td>\n",
              "      <td>5</td>\n",
              "      <td>7</td>\n",
              "      <td>0</td>\n",
              "      <td>1</td>\n",
              "    </tr>\n",
              "    <tr>\n",
              "      <th>3</th>\n",
              "      <td>1.0</td>\n",
              "      <td>1.0</td>\n",
              "      <td>0.0</td>\n",
              "      <td>0.0</td>\n",
              "      <td>0.0</td>\n",
              "      <td>1.0</td>\n",
              "      <td>1.0</td>\n",
              "      <td>1.0</td>\n",
              "      <td>2.0</td>\n",
              "      <td>7.0</td>\n",
              "      <td>16</td>\n",
              "      <td>0</td>\n",
              "      <td>4</td>\n",
              "      <td>1</td>\n",
              "      <td>1</td>\n",
              "    </tr>\n",
              "    <tr>\n",
              "      <th>4</th>\n",
              "      <td>30.0</td>\n",
              "      <td>30.0</td>\n",
              "      <td>30.0</td>\n",
              "      <td>30.0</td>\n",
              "      <td>30.0</td>\n",
              "      <td>30.0</td>\n",
              "      <td>30.0</td>\n",
              "      <td>30.0</td>\n",
              "      <td>30.0</td>\n",
              "      <td>270.0</td>\n",
              "      <td>10</td>\n",
              "      <td>4</td>\n",
              "      <td>1</td>\n",
              "      <td>0</td>\n",
              "      <td>0</td>\n",
              "    </tr>\n",
              "    <tr>\n",
              "      <th>5</th>\n",
              "      <td>137.0</td>\n",
              "      <td>0.0</td>\n",
              "      <td>1.0</td>\n",
              "      <td>0.0</td>\n",
              "      <td>36.0</td>\n",
              "      <td>0.0</td>\n",
              "      <td>0.0</td>\n",
              "      <td>67.0</td>\n",
              "      <td>5.0</td>\n",
              "      <td>246.0</td>\n",
              "      <td>10</td>\n",
              "      <td>4</td>\n",
              "      <td>4</td>\n",
              "      <td>0</td>\n",
              "      <td>1</td>\n",
              "    </tr>\n",
              "  </tbody>\n",
              "</table>\n",
              "</div>"
            ],
            "text/plain": [
              "            T_diff1  T_diff2  ...  is_alice_hours  is_alice_sites\n",
              "session_id                    ...                                \n",
              "1               0.0      0.0  ...               0               1\n",
              "2               0.0      1.0  ...               0               1\n",
              "3               1.0      1.0  ...               1               1\n",
              "4              30.0     30.0  ...               0               0\n",
              "5             137.0      0.0  ...               0               1\n",
              "\n",
              "[5 rows x 15 columns]"
            ]
          },
          "metadata": {
            "tags": []
          },
          "execution_count": 27
        }
      ]
    },
    {
      "cell_type": "markdown",
      "metadata": {
        "id": "cqTu2O29FfrB"
      },
      "source": [
        "**Lets prepare this samples to a sparse format to be able to fit and make predictions**"
      ]
    },
    {
      "cell_type": "code",
      "metadata": {
        "id": "p9onarsHEb_P"
      },
      "source": [
        "final_train_num = final_train.loc[:, :'session_timespan']\n",
        "final_train_cat = final_train.loc[:, 'start_hour':'weekday']\n",
        "final_train_other = final_train[['is_alice_hours', 'is_alice_sites']]"
      ],
      "execution_count": 28,
      "outputs": []
    },
    {
      "cell_type": "code",
      "metadata": {
        "id": "w-4wgKMdNNtw"
      },
      "source": [
        "scaler = StandardScaler()\n",
        "numerical = final_train_num.columns\n",
        "final_train_num[numerical] = scaler.fit_transform(final_train_num[numerical])\n",
        "final_train_cat = pd.get_dummies(final_train_cat, columns=final_train_cat.columns, drop_first=True)"
      ],
      "execution_count": 29,
      "outputs": []
    },
    {
      "cell_type": "code",
      "metadata": {
        "colab": {
          "base_uri": "https://localhost:8080/",
          "height": 255
        },
        "id": "dNzIeFcoNoIB",
        "outputId": "3848a75c-b2de-4217-c35d-5a9b7ffb1f32"
      },
      "source": [
        "final_train_cat.head()"
      ],
      "execution_count": 30,
      "outputs": [
        {
          "output_type": "execute_result",
          "data": {
            "text/html": [
              "<div>\n",
              "<style scoped>\n",
              "    .dataframe tbody tr th:only-of-type {\n",
              "        vertical-align: middle;\n",
              "    }\n",
              "\n",
              "    .dataframe tbody tr th {\n",
              "        vertical-align: top;\n",
              "    }\n",
              "\n",
              "    .dataframe thead th {\n",
              "        text-align: right;\n",
              "    }\n",
              "</style>\n",
              "<table border=\"1\" class=\"dataframe\">\n",
              "  <thead>\n",
              "    <tr style=\"text-align: right;\">\n",
              "      <th></th>\n",
              "      <th>start_hour_8</th>\n",
              "      <th>start_hour_9</th>\n",
              "      <th>start_hour_10</th>\n",
              "      <th>start_hour_11</th>\n",
              "      <th>start_hour_12</th>\n",
              "      <th>start_hour_13</th>\n",
              "      <th>start_hour_14</th>\n",
              "      <th>start_hour_15</th>\n",
              "      <th>start_hour_16</th>\n",
              "      <th>start_hour_17</th>\n",
              "      <th>start_hour_18</th>\n",
              "      <th>start_hour_19</th>\n",
              "      <th>start_hour_20</th>\n",
              "      <th>start_hour_21</th>\n",
              "      <th>start_hour_22</th>\n",
              "      <th>start_hour_23</th>\n",
              "      <th>weekday_1</th>\n",
              "      <th>weekday_2</th>\n",
              "      <th>weekday_3</th>\n",
              "      <th>weekday_4</th>\n",
              "      <th>weekday_5</th>\n",
              "      <th>weekday_6</th>\n",
              "    </tr>\n",
              "    <tr>\n",
              "      <th>session_id</th>\n",
              "      <th></th>\n",
              "      <th></th>\n",
              "      <th></th>\n",
              "      <th></th>\n",
              "      <th></th>\n",
              "      <th></th>\n",
              "      <th></th>\n",
              "      <th></th>\n",
              "      <th></th>\n",
              "      <th></th>\n",
              "      <th></th>\n",
              "      <th></th>\n",
              "      <th></th>\n",
              "      <th></th>\n",
              "      <th></th>\n",
              "      <th></th>\n",
              "      <th></th>\n",
              "      <th></th>\n",
              "      <th></th>\n",
              "      <th></th>\n",
              "      <th></th>\n",
              "      <th></th>\n",
              "    </tr>\n",
              "  </thead>\n",
              "  <tbody>\n",
              "    <tr>\n",
              "      <th>1</th>\n",
              "      <td>0</td>\n",
              "      <td>0</td>\n",
              "      <td>1</td>\n",
              "      <td>0</td>\n",
              "      <td>0</td>\n",
              "      <td>0</td>\n",
              "      <td>0</td>\n",
              "      <td>0</td>\n",
              "      <td>0</td>\n",
              "      <td>0</td>\n",
              "      <td>0</td>\n",
              "      <td>0</td>\n",
              "      <td>0</td>\n",
              "      <td>0</td>\n",
              "      <td>0</td>\n",
              "      <td>0</td>\n",
              "      <td>0</td>\n",
              "      <td>0</td>\n",
              "      <td>1</td>\n",
              "      <td>0</td>\n",
              "      <td>0</td>\n",
              "      <td>0</td>\n",
              "    </tr>\n",
              "    <tr>\n",
              "      <th>2</th>\n",
              "      <td>0</td>\n",
              "      <td>0</td>\n",
              "      <td>0</td>\n",
              "      <td>1</td>\n",
              "      <td>0</td>\n",
              "      <td>0</td>\n",
              "      <td>0</td>\n",
              "      <td>0</td>\n",
              "      <td>0</td>\n",
              "      <td>0</td>\n",
              "      <td>0</td>\n",
              "      <td>0</td>\n",
              "      <td>0</td>\n",
              "      <td>0</td>\n",
              "      <td>0</td>\n",
              "      <td>0</td>\n",
              "      <td>0</td>\n",
              "      <td>0</td>\n",
              "      <td>0</td>\n",
              "      <td>0</td>\n",
              "      <td>1</td>\n",
              "      <td>0</td>\n",
              "    </tr>\n",
              "    <tr>\n",
              "      <th>3</th>\n",
              "      <td>0</td>\n",
              "      <td>0</td>\n",
              "      <td>0</td>\n",
              "      <td>0</td>\n",
              "      <td>0</td>\n",
              "      <td>0</td>\n",
              "      <td>0</td>\n",
              "      <td>0</td>\n",
              "      <td>1</td>\n",
              "      <td>0</td>\n",
              "      <td>0</td>\n",
              "      <td>0</td>\n",
              "      <td>0</td>\n",
              "      <td>0</td>\n",
              "      <td>0</td>\n",
              "      <td>0</td>\n",
              "      <td>0</td>\n",
              "      <td>0</td>\n",
              "      <td>0</td>\n",
              "      <td>0</td>\n",
              "      <td>0</td>\n",
              "      <td>0</td>\n",
              "    </tr>\n",
              "    <tr>\n",
              "      <th>4</th>\n",
              "      <td>0</td>\n",
              "      <td>0</td>\n",
              "      <td>1</td>\n",
              "      <td>0</td>\n",
              "      <td>0</td>\n",
              "      <td>0</td>\n",
              "      <td>0</td>\n",
              "      <td>0</td>\n",
              "      <td>0</td>\n",
              "      <td>0</td>\n",
              "      <td>0</td>\n",
              "      <td>0</td>\n",
              "      <td>0</td>\n",
              "      <td>0</td>\n",
              "      <td>0</td>\n",
              "      <td>0</td>\n",
              "      <td>0</td>\n",
              "      <td>0</td>\n",
              "      <td>0</td>\n",
              "      <td>1</td>\n",
              "      <td>0</td>\n",
              "      <td>0</td>\n",
              "    </tr>\n",
              "    <tr>\n",
              "      <th>5</th>\n",
              "      <td>0</td>\n",
              "      <td>0</td>\n",
              "      <td>1</td>\n",
              "      <td>0</td>\n",
              "      <td>0</td>\n",
              "      <td>0</td>\n",
              "      <td>0</td>\n",
              "      <td>0</td>\n",
              "      <td>0</td>\n",
              "      <td>0</td>\n",
              "      <td>0</td>\n",
              "      <td>0</td>\n",
              "      <td>0</td>\n",
              "      <td>0</td>\n",
              "      <td>0</td>\n",
              "      <td>0</td>\n",
              "      <td>0</td>\n",
              "      <td>0</td>\n",
              "      <td>0</td>\n",
              "      <td>1</td>\n",
              "      <td>0</td>\n",
              "      <td>0</td>\n",
              "    </tr>\n",
              "  </tbody>\n",
              "</table>\n",
              "</div>"
            ],
            "text/plain": [
              "            start_hour_8  start_hour_9  ...  weekday_5  weekday_6\n",
              "session_id                              ...                      \n",
              "1                      0             0  ...          0          0\n",
              "2                      0             0  ...          1          0\n",
              "3                      0             0  ...          0          0\n",
              "4                      0             0  ...          0          0\n",
              "5                      0             0  ...          0          0\n",
              "\n",
              "[5 rows x 22 columns]"
            ]
          },
          "metadata": {
            "tags": []
          },
          "execution_count": 30
        }
      ]
    },
    {
      "cell_type": "code",
      "metadata": {
        "id": "zx21a2Q6OYwu"
      },
      "source": [
        "final_train_fe = pd.concat([final_train_num, final_train_cat, final_train_other], axis=1)"
      ],
      "execution_count": 31,
      "outputs": []
    },
    {
      "cell_type": "code",
      "metadata": {
        "colab": {
          "base_uri": "https://localhost:8080/",
          "height": 255
        },
        "id": "JlSbgkkWOhEx",
        "outputId": "90bc1fd7-8e3b-4737-b7c3-6c22bddda5bc"
      },
      "source": [
        "final_train_fe.head()"
      ],
      "execution_count": 32,
      "outputs": [
        {
          "output_type": "execute_result",
          "data": {
            "text/html": [
              "<div>\n",
              "<style scoped>\n",
              "    .dataframe tbody tr th:only-of-type {\n",
              "        vertical-align: middle;\n",
              "    }\n",
              "\n",
              "    .dataframe tbody tr th {\n",
              "        vertical-align: top;\n",
              "    }\n",
              "\n",
              "    .dataframe thead th {\n",
              "        text-align: right;\n",
              "    }\n",
              "</style>\n",
              "<table border=\"1\" class=\"dataframe\">\n",
              "  <thead>\n",
              "    <tr style=\"text-align: right;\">\n",
              "      <th></th>\n",
              "      <th>T_diff1</th>\n",
              "      <th>T_diff2</th>\n",
              "      <th>T_diff3</th>\n",
              "      <th>T_diff4</th>\n",
              "      <th>T_diff5</th>\n",
              "      <th>T_diff6</th>\n",
              "      <th>T_diff7</th>\n",
              "      <th>T_diff8</th>\n",
              "      <th>T_diff9</th>\n",
              "      <th>session_timespan</th>\n",
              "      <th>start_hour_8</th>\n",
              "      <th>start_hour_9</th>\n",
              "      <th>start_hour_10</th>\n",
              "      <th>start_hour_11</th>\n",
              "      <th>start_hour_12</th>\n",
              "      <th>start_hour_13</th>\n",
              "      <th>start_hour_14</th>\n",
              "      <th>start_hour_15</th>\n",
              "      <th>start_hour_16</th>\n",
              "      <th>start_hour_17</th>\n",
              "      <th>start_hour_18</th>\n",
              "      <th>start_hour_19</th>\n",
              "      <th>start_hour_20</th>\n",
              "      <th>start_hour_21</th>\n",
              "      <th>start_hour_22</th>\n",
              "      <th>start_hour_23</th>\n",
              "      <th>weekday_1</th>\n",
              "      <th>weekday_2</th>\n",
              "      <th>weekday_3</th>\n",
              "      <th>weekday_4</th>\n",
              "      <th>weekday_5</th>\n",
              "      <th>weekday_6</th>\n",
              "      <th>is_alice_hours</th>\n",
              "      <th>is_alice_sites</th>\n",
              "    </tr>\n",
              "    <tr>\n",
              "      <th>session_id</th>\n",
              "      <th></th>\n",
              "      <th></th>\n",
              "      <th></th>\n",
              "      <th></th>\n",
              "      <th></th>\n",
              "      <th></th>\n",
              "      <th></th>\n",
              "      <th></th>\n",
              "      <th></th>\n",
              "      <th></th>\n",
              "      <th></th>\n",
              "      <th></th>\n",
              "      <th></th>\n",
              "      <th></th>\n",
              "      <th></th>\n",
              "      <th></th>\n",
              "      <th></th>\n",
              "      <th></th>\n",
              "      <th></th>\n",
              "      <th></th>\n",
              "      <th></th>\n",
              "      <th></th>\n",
              "      <th></th>\n",
              "      <th></th>\n",
              "      <th></th>\n",
              "      <th></th>\n",
              "      <th></th>\n",
              "      <th></th>\n",
              "      <th></th>\n",
              "      <th></th>\n",
              "      <th></th>\n",
              "      <th></th>\n",
              "      <th></th>\n",
              "      <th></th>\n",
              "    </tr>\n",
              "  </thead>\n",
              "  <tbody>\n",
              "    <tr>\n",
              "      <th>1</th>\n",
              "      <td>-0.191229</td>\n",
              "      <td>-0.180434</td>\n",
              "      <td>-0.186631</td>\n",
              "      <td>-0.193139</td>\n",
              "      <td>-0.192809</td>\n",
              "      <td>-0.193165</td>\n",
              "      <td>-0.192025</td>\n",
              "      <td>-0.190596</td>\n",
              "      <td>-0.190791</td>\n",
              "      <td>-0.468233</td>\n",
              "      <td>0</td>\n",
              "      <td>0</td>\n",
              "      <td>1</td>\n",
              "      <td>0</td>\n",
              "      <td>0</td>\n",
              "      <td>0</td>\n",
              "      <td>0</td>\n",
              "      <td>0</td>\n",
              "      <td>0</td>\n",
              "      <td>0</td>\n",
              "      <td>0</td>\n",
              "      <td>0</td>\n",
              "      <td>0</td>\n",
              "      <td>0</td>\n",
              "      <td>0</td>\n",
              "      <td>0</td>\n",
              "      <td>0</td>\n",
              "      <td>0</td>\n",
              "      <td>1</td>\n",
              "      <td>0</td>\n",
              "      <td>0</td>\n",
              "      <td>0</td>\n",
              "      <td>0</td>\n",
              "      <td>1</td>\n",
              "    </tr>\n",
              "    <tr>\n",
              "      <th>2</th>\n",
              "      <td>-0.191229</td>\n",
              "      <td>-0.170968</td>\n",
              "      <td>-0.186631</td>\n",
              "      <td>-0.193139</td>\n",
              "      <td>-0.192809</td>\n",
              "      <td>-0.179357</td>\n",
              "      <td>-0.192025</td>\n",
              "      <td>0.140975</td>\n",
              "      <td>-0.175945</td>\n",
              "      <td>-0.380330</td>\n",
              "      <td>0</td>\n",
              "      <td>0</td>\n",
              "      <td>0</td>\n",
              "      <td>1</td>\n",
              "      <td>0</td>\n",
              "      <td>0</td>\n",
              "      <td>0</td>\n",
              "      <td>0</td>\n",
              "      <td>0</td>\n",
              "      <td>0</td>\n",
              "      <td>0</td>\n",
              "      <td>0</td>\n",
              "      <td>0</td>\n",
              "      <td>0</td>\n",
              "      <td>0</td>\n",
              "      <td>0</td>\n",
              "      <td>0</td>\n",
              "      <td>0</td>\n",
              "      <td>0</td>\n",
              "      <td>0</td>\n",
              "      <td>1</td>\n",
              "      <td>0</td>\n",
              "      <td>0</td>\n",
              "      <td>1</td>\n",
              "    </tr>\n",
              "    <tr>\n",
              "      <th>3</th>\n",
              "      <td>-0.181131</td>\n",
              "      <td>-0.170968</td>\n",
              "      <td>-0.186631</td>\n",
              "      <td>-0.193139</td>\n",
              "      <td>-0.192809</td>\n",
              "      <td>-0.179357</td>\n",
              "      <td>-0.177680</td>\n",
              "      <td>-0.176180</td>\n",
              "      <td>-0.161099</td>\n",
              "      <td>-0.444566</td>\n",
              "      <td>0</td>\n",
              "      <td>0</td>\n",
              "      <td>0</td>\n",
              "      <td>0</td>\n",
              "      <td>0</td>\n",
              "      <td>0</td>\n",
              "      <td>0</td>\n",
              "      <td>0</td>\n",
              "      <td>1</td>\n",
              "      <td>0</td>\n",
              "      <td>0</td>\n",
              "      <td>0</td>\n",
              "      <td>0</td>\n",
              "      <td>0</td>\n",
              "      <td>0</td>\n",
              "      <td>0</td>\n",
              "      <td>0</td>\n",
              "      <td>0</td>\n",
              "      <td>0</td>\n",
              "      <td>0</td>\n",
              "      <td>0</td>\n",
              "      <td>0</td>\n",
              "      <td>1</td>\n",
              "      <td>1</td>\n",
              "    </tr>\n",
              "    <tr>\n",
              "      <th>4</th>\n",
              "      <td>0.111727</td>\n",
              "      <td>0.103540</td>\n",
              "      <td>0.137505</td>\n",
              "      <td>0.189184</td>\n",
              "      <td>0.202862</td>\n",
              "      <td>0.221062</td>\n",
              "      <td>0.238309</td>\n",
              "      <td>0.241888</td>\n",
              "      <td>0.254585</td>\n",
              "      <td>0.444604</td>\n",
              "      <td>0</td>\n",
              "      <td>0</td>\n",
              "      <td>1</td>\n",
              "      <td>0</td>\n",
              "      <td>0</td>\n",
              "      <td>0</td>\n",
              "      <td>0</td>\n",
              "      <td>0</td>\n",
              "      <td>0</td>\n",
              "      <td>0</td>\n",
              "      <td>0</td>\n",
              "      <td>0</td>\n",
              "      <td>0</td>\n",
              "      <td>0</td>\n",
              "      <td>0</td>\n",
              "      <td>0</td>\n",
              "      <td>0</td>\n",
              "      <td>0</td>\n",
              "      <td>0</td>\n",
              "      <td>1</td>\n",
              "      <td>0</td>\n",
              "      <td>0</td>\n",
              "      <td>0</td>\n",
              "      <td>0</td>\n",
              "    </tr>\n",
              "    <tr>\n",
              "      <th>5</th>\n",
              "      <td>1.192272</td>\n",
              "      <td>-0.180434</td>\n",
              "      <td>-0.175826</td>\n",
              "      <td>-0.193139</td>\n",
              "      <td>0.281996</td>\n",
              "      <td>-0.193165</td>\n",
              "      <td>-0.192025</td>\n",
              "      <td>0.775285</td>\n",
              "      <td>-0.116561</td>\n",
              "      <td>0.363463</td>\n",
              "      <td>0</td>\n",
              "      <td>0</td>\n",
              "      <td>1</td>\n",
              "      <td>0</td>\n",
              "      <td>0</td>\n",
              "      <td>0</td>\n",
              "      <td>0</td>\n",
              "      <td>0</td>\n",
              "      <td>0</td>\n",
              "      <td>0</td>\n",
              "      <td>0</td>\n",
              "      <td>0</td>\n",
              "      <td>0</td>\n",
              "      <td>0</td>\n",
              "      <td>0</td>\n",
              "      <td>0</td>\n",
              "      <td>0</td>\n",
              "      <td>0</td>\n",
              "      <td>0</td>\n",
              "      <td>1</td>\n",
              "      <td>0</td>\n",
              "      <td>0</td>\n",
              "      <td>0</td>\n",
              "      <td>1</td>\n",
              "    </tr>\n",
              "  </tbody>\n",
              "</table>\n",
              "</div>"
            ],
            "text/plain": [
              "             T_diff1   T_diff2  ...  is_alice_hours  is_alice_sites\n",
              "session_id                      ...                                \n",
              "1          -0.191229 -0.180434  ...               0               1\n",
              "2          -0.191229 -0.170968  ...               0               1\n",
              "3          -0.181131 -0.170968  ...               1               1\n",
              "4           0.111727  0.103540  ...               0               0\n",
              "5           1.192272 -0.180434  ...               0               1\n",
              "\n",
              "[5 rows x 34 columns]"
            ]
          },
          "metadata": {
            "tags": []
          },
          "execution_count": 32
        }
      ]
    },
    {
      "cell_type": "code",
      "metadata": {
        "id": "JZ_4B9qwOl8i"
      },
      "source": [
        "final_train_fe_sparse = csr_matrix(final_train_fe)"
      ],
      "execution_count": 33,
      "outputs": []
    },
    {
      "cell_type": "code",
      "metadata": {
        "id": "mJjq4ITkc_8f"
      },
      "source": [
        "train_share = int(.7 * final_train_fe_sparse.shape[0])\n",
        "final_train_new_fe, final_valid_new_fe = final_train_fe_sparse[:train_share, :], final_train_fe_sparse[train_share:, :]\n",
        "\n",
        "final_train_new = hstack([X_train, final_train_new_fe])\n",
        "final_valid_new = hstack([X_valid, final_valid_new_fe])\n",
        "final_train_X = hstack([X_train_sparse, final_train_fe_sparse])"
      ],
      "execution_count": 34,
      "outputs": []
    },
    {
      "cell_type": "code",
      "metadata": {
        "colab": {
          "base_uri": "https://localhost:8080/"
        },
        "id": "uCdFsUdmQk0H",
        "outputId": "fed83a2e-bedb-4ddf-ef8e-a17b11eaf55e"
      },
      "source": [
        "final_train_X.shape"
      ],
      "execution_count": 35,
      "outputs": [
        {
          "output_type": "execute_result",
          "data": {
            "text/plain": [
              "(253561, 48405)"
            ]
          },
          "metadata": {
            "tags": []
          },
          "execution_count": 35
        }
      ]
    },
    {
      "cell_type": "code",
      "metadata": {
        "id": "ekRM1SFuQ4v3"
      },
      "source": [
        "final_test = new_featuress1(test_df)\n",
        "test_sites = test_df[sites].fillna(0).astype('int')"
      ],
      "execution_count": 36,
      "outputs": []
    },
    {
      "cell_type": "code",
      "metadata": {
        "id": "zcdwwhn4RHPO"
      },
      "source": [
        "final_test['is_alice_hours'] = [1 if x in alice_int else 0 for x in final_test.start_hour.values]\n",
        "final_test['is_alice_sites'] = [0 if len(set(alice_sites) & set(test_sites.iloc[x, 0:9].values)) == 0 else 1 for x in range(final_test.shape[0])]"
      ],
      "execution_count": 37,
      "outputs": []
    },
    {
      "cell_type": "code",
      "metadata": {
        "colab": {
          "base_uri": "https://localhost:8080/",
          "height": 235
        },
        "id": "U8qKfxLpSXAh",
        "outputId": "f9215cc0-9163-4737-a237-80bd450ded1a"
      },
      "source": [
        "final_test.head()"
      ],
      "execution_count": 38,
      "outputs": [
        {
          "output_type": "execute_result",
          "data": {
            "text/html": [
              "<div>\n",
              "<style scoped>\n",
              "    .dataframe tbody tr th:only-of-type {\n",
              "        vertical-align: middle;\n",
              "    }\n",
              "\n",
              "    .dataframe tbody tr th {\n",
              "        vertical-align: top;\n",
              "    }\n",
              "\n",
              "    .dataframe thead th {\n",
              "        text-align: right;\n",
              "    }\n",
              "</style>\n",
              "<table border=\"1\" class=\"dataframe\">\n",
              "  <thead>\n",
              "    <tr style=\"text-align: right;\">\n",
              "      <th></th>\n",
              "      <th>T_diff1</th>\n",
              "      <th>T_diff2</th>\n",
              "      <th>T_diff3</th>\n",
              "      <th>T_diff4</th>\n",
              "      <th>T_diff5</th>\n",
              "      <th>T_diff6</th>\n",
              "      <th>T_diff7</th>\n",
              "      <th>T_diff8</th>\n",
              "      <th>T_diff9</th>\n",
              "      <th>session_timespan</th>\n",
              "      <th>start_hour</th>\n",
              "      <th>weekday</th>\n",
              "      <th>unique_sites</th>\n",
              "      <th>is_alice_hours</th>\n",
              "      <th>is_alice_sites</th>\n",
              "    </tr>\n",
              "    <tr>\n",
              "      <th>session_id</th>\n",
              "      <th></th>\n",
              "      <th></th>\n",
              "      <th></th>\n",
              "      <th></th>\n",
              "      <th></th>\n",
              "      <th></th>\n",
              "      <th></th>\n",
              "      <th></th>\n",
              "      <th></th>\n",
              "      <th></th>\n",
              "      <th></th>\n",
              "      <th></th>\n",
              "      <th></th>\n",
              "      <th></th>\n",
              "      <th></th>\n",
              "    </tr>\n",
              "  </thead>\n",
              "  <tbody>\n",
              "    <tr>\n",
              "      <th>1</th>\n",
              "      <td>0.0</td>\n",
              "      <td>1.0</td>\n",
              "      <td>0.0</td>\n",
              "      <td>0.0</td>\n",
              "      <td>0.0</td>\n",
              "      <td>0.0</td>\n",
              "      <td>0.0</td>\n",
              "      <td>6.0</td>\n",
              "      <td>0.0</td>\n",
              "      <td>7.0</td>\n",
              "      <td>11</td>\n",
              "      <td>5</td>\n",
              "      <td>10</td>\n",
              "      <td>0</td>\n",
              "      <td>1</td>\n",
              "    </tr>\n",
              "    <tr>\n",
              "      <th>2</th>\n",
              "      <td>25.0</td>\n",
              "      <td>5.0</td>\n",
              "      <td>8.0</td>\n",
              "      <td>3.0</td>\n",
              "      <td>1.0</td>\n",
              "      <td>13.0</td>\n",
              "      <td>6.0</td>\n",
              "      <td>1.0</td>\n",
              "      <td>23.0</td>\n",
              "      <td>85.0</td>\n",
              "      <td>11</td>\n",
              "      <td>3</td>\n",
              "      <td>1</td>\n",
              "      <td>0</td>\n",
              "      <td>0</td>\n",
              "    </tr>\n",
              "    <tr>\n",
              "      <th>3</th>\n",
              "      <td>1.0</td>\n",
              "      <td>1.0</td>\n",
              "      <td>61.0</td>\n",
              "      <td>1.0</td>\n",
              "      <td>1.0</td>\n",
              "      <td>1.0</td>\n",
              "      <td>1.0</td>\n",
              "      <td>14.0</td>\n",
              "      <td>3.0</td>\n",
              "      <td>84.0</td>\n",
              "      <td>15</td>\n",
              "      <td>4</td>\n",
              "      <td>2</td>\n",
              "      <td>1</td>\n",
              "      <td>0</td>\n",
              "    </tr>\n",
              "    <tr>\n",
              "      <th>4</th>\n",
              "      <td>0.0</td>\n",
              "      <td>1.0</td>\n",
              "      <td>1.0</td>\n",
              "      <td>0.0</td>\n",
              "      <td>1.0</td>\n",
              "      <td>0.0</td>\n",
              "      <td>0.0</td>\n",
              "      <td>1.0</td>\n",
              "      <td>0.0</td>\n",
              "      <td>4.0</td>\n",
              "      <td>10</td>\n",
              "      <td>1</td>\n",
              "      <td>7</td>\n",
              "      <td>0</td>\n",
              "      <td>0</td>\n",
              "    </tr>\n",
              "    <tr>\n",
              "      <th>5</th>\n",
              "      <td>1.0</td>\n",
              "      <td>1.0</td>\n",
              "      <td>6.0</td>\n",
              "      <td>1.0</td>\n",
              "      <td>0.0</td>\n",
              "      <td>0.0</td>\n",
              "      <td>0.0</td>\n",
              "      <td>0.0</td>\n",
              "      <td>4.0</td>\n",
              "      <td>13.0</td>\n",
              "      <td>15</td>\n",
              "      <td>4</td>\n",
              "      <td>8</td>\n",
              "      <td>1</td>\n",
              "      <td>1</td>\n",
              "    </tr>\n",
              "  </tbody>\n",
              "</table>\n",
              "</div>"
            ],
            "text/plain": [
              "            T_diff1  T_diff2  ...  is_alice_hours  is_alice_sites\n",
              "session_id                    ...                                \n",
              "1               0.0      1.0  ...               0               1\n",
              "2              25.0      5.0  ...               0               0\n",
              "3               1.0      1.0  ...               1               0\n",
              "4               0.0      1.0  ...               0               0\n",
              "5               1.0      1.0  ...               1               1\n",
              "\n",
              "[5 rows x 15 columns]"
            ]
          },
          "metadata": {
            "tags": []
          },
          "execution_count": 38
        }
      ]
    },
    {
      "cell_type": "code",
      "metadata": {
        "id": "RYHuTX5JRz6p"
      },
      "source": [
        "final_test_num = final_test.loc[:, :'session_timespan']\n",
        "final_test_cat = final_test.loc[:, 'start_hour':'weekday']\n",
        "final_test_other = final_test[['is_alice_hours', 'is_alice_sites']]"
      ],
      "execution_count": 39,
      "outputs": []
    },
    {
      "cell_type": "code",
      "metadata": {
        "id": "hx9AvYgHSm8x"
      },
      "source": [
        "final_test_num[numerical] = scaler.fit_transform(final_test_num[numerical])\n",
        "final_test_cat = pd.get_dummies(final_test_cat, columns=final_test_cat.columns, drop_first=True)"
      ],
      "execution_count": 40,
      "outputs": []
    },
    {
      "cell_type": "code",
      "metadata": {
        "id": "Cz7FMHdTTI0S"
      },
      "source": [
        "final_test_fe = pd.concat([final_test_num, final_test_cat, final_test_other], axis=1)\n",
        "final_test_fe_sparse = csr_matrix(final_test_fe)"
      ],
      "execution_count": 42,
      "outputs": []
    },
    {
      "cell_type": "code",
      "metadata": {
        "colab": {
          "base_uri": "https://localhost:8080/",
          "height": 255
        },
        "id": "km_uCBsTXZrJ",
        "outputId": "1b9e2f9e-cc69-482f-b595-560d5de53883"
      },
      "source": [
        "final_test_fe.head()"
      ],
      "execution_count": 43,
      "outputs": [
        {
          "output_type": "execute_result",
          "data": {
            "text/html": [
              "<div>\n",
              "<style scoped>\n",
              "    .dataframe tbody tr th:only-of-type {\n",
              "        vertical-align: middle;\n",
              "    }\n",
              "\n",
              "    .dataframe tbody tr th {\n",
              "        vertical-align: top;\n",
              "    }\n",
              "\n",
              "    .dataframe thead th {\n",
              "        text-align: right;\n",
              "    }\n",
              "</style>\n",
              "<table border=\"1\" class=\"dataframe\">\n",
              "  <thead>\n",
              "    <tr style=\"text-align: right;\">\n",
              "      <th></th>\n",
              "      <th>T_diff1</th>\n",
              "      <th>T_diff2</th>\n",
              "      <th>T_diff3</th>\n",
              "      <th>T_diff4</th>\n",
              "      <th>T_diff5</th>\n",
              "      <th>T_diff6</th>\n",
              "      <th>T_diff7</th>\n",
              "      <th>T_diff8</th>\n",
              "      <th>T_diff9</th>\n",
              "      <th>session_timespan</th>\n",
              "      <th>start_hour_8</th>\n",
              "      <th>start_hour_9</th>\n",
              "      <th>start_hour_10</th>\n",
              "      <th>start_hour_11</th>\n",
              "      <th>start_hour_12</th>\n",
              "      <th>start_hour_13</th>\n",
              "      <th>start_hour_14</th>\n",
              "      <th>start_hour_15</th>\n",
              "      <th>start_hour_16</th>\n",
              "      <th>start_hour_17</th>\n",
              "      <th>start_hour_18</th>\n",
              "      <th>start_hour_19</th>\n",
              "      <th>start_hour_20</th>\n",
              "      <th>start_hour_21</th>\n",
              "      <th>start_hour_22</th>\n",
              "      <th>start_hour_23</th>\n",
              "      <th>weekday_1</th>\n",
              "      <th>weekday_2</th>\n",
              "      <th>weekday_3</th>\n",
              "      <th>weekday_4</th>\n",
              "      <th>weekday_5</th>\n",
              "      <th>weekday_6</th>\n",
              "      <th>is_alice_hours</th>\n",
              "      <th>is_alice_sites</th>\n",
              "    </tr>\n",
              "    <tr>\n",
              "      <th>session_id</th>\n",
              "      <th></th>\n",
              "      <th></th>\n",
              "      <th></th>\n",
              "      <th></th>\n",
              "      <th></th>\n",
              "      <th></th>\n",
              "      <th></th>\n",
              "      <th></th>\n",
              "      <th></th>\n",
              "      <th></th>\n",
              "      <th></th>\n",
              "      <th></th>\n",
              "      <th></th>\n",
              "      <th></th>\n",
              "      <th></th>\n",
              "      <th></th>\n",
              "      <th></th>\n",
              "      <th></th>\n",
              "      <th></th>\n",
              "      <th></th>\n",
              "      <th></th>\n",
              "      <th></th>\n",
              "      <th></th>\n",
              "      <th></th>\n",
              "      <th></th>\n",
              "      <th></th>\n",
              "      <th></th>\n",
              "      <th></th>\n",
              "      <th></th>\n",
              "      <th></th>\n",
              "      <th></th>\n",
              "      <th></th>\n",
              "      <th></th>\n",
              "      <th></th>\n",
              "    </tr>\n",
              "  </thead>\n",
              "  <tbody>\n",
              "    <tr>\n",
              "      <th>1</th>\n",
              "      <td>-0.190652</td>\n",
              "      <td>-0.171221</td>\n",
              "      <td>-0.184455</td>\n",
              "      <td>-0.188461</td>\n",
              "      <td>-0.194178</td>\n",
              "      <td>-0.192588</td>\n",
              "      <td>-0.188929</td>\n",
              "      <td>-0.099088</td>\n",
              "      <td>-0.189982</td>\n",
              "      <td>-0.445546</td>\n",
              "      <td>0</td>\n",
              "      <td>0</td>\n",
              "      <td>0</td>\n",
              "      <td>1</td>\n",
              "      <td>0</td>\n",
              "      <td>0</td>\n",
              "      <td>0</td>\n",
              "      <td>0</td>\n",
              "      <td>0</td>\n",
              "      <td>0</td>\n",
              "      <td>0</td>\n",
              "      <td>0</td>\n",
              "      <td>0</td>\n",
              "      <td>0</td>\n",
              "      <td>0</td>\n",
              "      <td>0</td>\n",
              "      <td>0</td>\n",
              "      <td>0</td>\n",
              "      <td>0</td>\n",
              "      <td>0</td>\n",
              "      <td>1</td>\n",
              "      <td>0</td>\n",
              "      <td>0</td>\n",
              "      <td>1</td>\n",
              "    </tr>\n",
              "    <tr>\n",
              "      <th>2</th>\n",
              "      <td>0.064324</td>\n",
              "      <td>-0.132001</td>\n",
              "      <td>-0.092022</td>\n",
              "      <td>-0.151075</td>\n",
              "      <td>-0.180384</td>\n",
              "      <td>-0.003503</td>\n",
              "      <td>-0.103841</td>\n",
              "      <td>-0.173908</td>\n",
              "      <td>0.158300</td>\n",
              "      <td>-0.172012</td>\n",
              "      <td>0</td>\n",
              "      <td>0</td>\n",
              "      <td>0</td>\n",
              "      <td>1</td>\n",
              "      <td>0</td>\n",
              "      <td>0</td>\n",
              "      <td>0</td>\n",
              "      <td>0</td>\n",
              "      <td>0</td>\n",
              "      <td>0</td>\n",
              "      <td>0</td>\n",
              "      <td>0</td>\n",
              "      <td>0</td>\n",
              "      <td>0</td>\n",
              "      <td>0</td>\n",
              "      <td>0</td>\n",
              "      <td>0</td>\n",
              "      <td>0</td>\n",
              "      <td>1</td>\n",
              "      <td>0</td>\n",
              "      <td>0</td>\n",
              "      <td>0</td>\n",
              "      <td>0</td>\n",
              "      <td>0</td>\n",
              "    </tr>\n",
              "    <tr>\n",
              "      <th>3</th>\n",
              "      <td>-0.180453</td>\n",
              "      <td>-0.171221</td>\n",
              "      <td>0.520346</td>\n",
              "      <td>-0.175999</td>\n",
              "      <td>-0.180384</td>\n",
              "      <td>-0.178043</td>\n",
              "      <td>-0.174748</td>\n",
              "      <td>0.020623</td>\n",
              "      <td>-0.144554</td>\n",
              "      <td>-0.175519</td>\n",
              "      <td>0</td>\n",
              "      <td>0</td>\n",
              "      <td>0</td>\n",
              "      <td>0</td>\n",
              "      <td>0</td>\n",
              "      <td>0</td>\n",
              "      <td>0</td>\n",
              "      <td>1</td>\n",
              "      <td>0</td>\n",
              "      <td>0</td>\n",
              "      <td>0</td>\n",
              "      <td>0</td>\n",
              "      <td>0</td>\n",
              "      <td>0</td>\n",
              "      <td>0</td>\n",
              "      <td>0</td>\n",
              "      <td>0</td>\n",
              "      <td>0</td>\n",
              "      <td>0</td>\n",
              "      <td>1</td>\n",
              "      <td>0</td>\n",
              "      <td>0</td>\n",
              "      <td>1</td>\n",
              "      <td>0</td>\n",
              "    </tr>\n",
              "    <tr>\n",
              "      <th>4</th>\n",
              "      <td>-0.190652</td>\n",
              "      <td>-0.171221</td>\n",
              "      <td>-0.172901</td>\n",
              "      <td>-0.188461</td>\n",
              "      <td>-0.180384</td>\n",
              "      <td>-0.192588</td>\n",
              "      <td>-0.188929</td>\n",
              "      <td>-0.173908</td>\n",
              "      <td>-0.189982</td>\n",
              "      <td>-0.456067</td>\n",
              "      <td>0</td>\n",
              "      <td>0</td>\n",
              "      <td>1</td>\n",
              "      <td>0</td>\n",
              "      <td>0</td>\n",
              "      <td>0</td>\n",
              "      <td>0</td>\n",
              "      <td>0</td>\n",
              "      <td>0</td>\n",
              "      <td>0</td>\n",
              "      <td>0</td>\n",
              "      <td>0</td>\n",
              "      <td>0</td>\n",
              "      <td>0</td>\n",
              "      <td>0</td>\n",
              "      <td>0</td>\n",
              "      <td>1</td>\n",
              "      <td>0</td>\n",
              "      <td>0</td>\n",
              "      <td>0</td>\n",
              "      <td>0</td>\n",
              "      <td>0</td>\n",
              "      <td>0</td>\n",
              "      <td>0</td>\n",
              "    </tr>\n",
              "    <tr>\n",
              "      <th>5</th>\n",
              "      <td>-0.180453</td>\n",
              "      <td>-0.171221</td>\n",
              "      <td>-0.115130</td>\n",
              "      <td>-0.175999</td>\n",
              "      <td>-0.194178</td>\n",
              "      <td>-0.192588</td>\n",
              "      <td>-0.188929</td>\n",
              "      <td>-0.188872</td>\n",
              "      <td>-0.129411</td>\n",
              "      <td>-0.424505</td>\n",
              "      <td>0</td>\n",
              "      <td>0</td>\n",
              "      <td>0</td>\n",
              "      <td>0</td>\n",
              "      <td>0</td>\n",
              "      <td>0</td>\n",
              "      <td>0</td>\n",
              "      <td>1</td>\n",
              "      <td>0</td>\n",
              "      <td>0</td>\n",
              "      <td>0</td>\n",
              "      <td>0</td>\n",
              "      <td>0</td>\n",
              "      <td>0</td>\n",
              "      <td>0</td>\n",
              "      <td>0</td>\n",
              "      <td>0</td>\n",
              "      <td>0</td>\n",
              "      <td>0</td>\n",
              "      <td>1</td>\n",
              "      <td>0</td>\n",
              "      <td>0</td>\n",
              "      <td>1</td>\n",
              "      <td>1</td>\n",
              "    </tr>\n",
              "  </tbody>\n",
              "</table>\n",
              "</div>"
            ],
            "text/plain": [
              "             T_diff1   T_diff2  ...  is_alice_hours  is_alice_sites\n",
              "session_id                      ...                                \n",
              "1          -0.190652 -0.171221  ...               0               1\n",
              "2           0.064324 -0.132001  ...               0               0\n",
              "3          -0.180453 -0.171221  ...               1               0\n",
              "4          -0.190652 -0.171221  ...               0               0\n",
              "5          -0.180453 -0.171221  ...               1               1\n",
              "\n",
              "[5 rows x 34 columns]"
            ]
          },
          "metadata": {
            "tags": []
          },
          "execution_count": 43
        }
      ]
    },
    {
      "cell_type": "code",
      "metadata": {
        "id": "aAkPRWahTUY_"
      },
      "source": [
        "final_test_sample = hstack([X_test_sparse, final_test_fe_sparse])"
      ],
      "execution_count": 44,
      "outputs": []
    },
    {
      "cell_type": "code",
      "metadata": {
        "colab": {
          "base_uri": "https://localhost:8080/"
        },
        "id": "_8HEEtYeeTjH",
        "outputId": "c29c337e-2b72-4186-a4ec-7e3d26dfe15a"
      },
      "source": [
        "final_test_sample.shape"
      ],
      "execution_count": 45,
      "outputs": [
        {
          "output_type": "execute_result",
          "data": {
            "text/plain": [
              "(82797, 48405)"
            ]
          },
          "metadata": {
            "tags": []
          },
          "execution_count": 45
        }
      ]
    },
    {
      "cell_type": "markdown",
      "metadata": {
        "id": "yq-pBdp1eXiz"
      },
      "source": [
        "**Lets try to find the best SGDClassifier and Logistic Regression for new samples**"
      ]
    },
    {
      "cell_type": "code",
      "metadata": {
        "id": "cclQTdwbeW12"
      },
      "source": [
        "final_logit = LogisticRegression(random_state=17, n_jobs=-1)\n",
        "final_sgd = SGDClassifier(random_state=17, n_jobs=-1, loss='log')"
      ],
      "execution_count": 47,
      "outputs": []
    },
    {
      "cell_type": "code",
      "metadata": {
        "id": "SgJ9qUe2fMPM"
      },
      "source": [
        "logit_params = {'C': np.linspace(0, 100, 50)}\n",
        "sgd_params = {'alpha': np.linspace(0.00001, 0.0002, 30)}\n",
        "\n",
        "logit_grid = GridSearchCV(final_logit, logit_params, scoring='roc_auc', cv=3, n_jobs=-1)\n",
        "sgd_grid = GridSearchCV(final_sgd, sgd_params, scoring='roc_auc', cv=3, n_jobs=-1)"
      ],
      "execution_count": 48,
      "outputs": []
    },
    {
      "cell_type": "code",
      "metadata": {
        "id": "fAwrlwOFgL1l",
        "colab": {
          "base_uri": "https://localhost:8080/"
        },
        "outputId": "d6115f3d-1d9b-433f-c58e-24d8b8eb9641"
      },
      "source": [
        "%%time\n",
        "logit_grid.fit(final_train_new, y_train)"
      ],
      "execution_count": 49,
      "outputs": [
        {
          "output_type": "stream",
          "text": [
            "CPU times: user 2.43 s, sys: 475 ms, total: 2.91 s\n",
            "Wall time: 4min 14s\n"
          ],
          "name": "stdout"
        },
        {
          "output_type": "execute_result",
          "data": {
            "text/plain": [
              "GridSearchCV(cv=3, error_score=nan,\n",
              "             estimator=LogisticRegression(C=1.0, class_weight=None, dual=False,\n",
              "                                          fit_intercept=True,\n",
              "                                          intercept_scaling=1, l1_ratio=None,\n",
              "                                          max_iter=100, multi_class='auto',\n",
              "                                          n_jobs=-1, penalty='l2',\n",
              "                                          random_state=17, solver='lbfgs',\n",
              "                                          tol=0.0001, verbose=0,\n",
              "                                          warm_start=False),\n",
              "             iid='deprecated', n_jobs=-1,\n",
              "             param_grid={'C': array([  0.        ,   2.04081633,   4.08163265...\n",
              "        48.97959184,  51.02040816,  53.06122449,  55.10204082,\n",
              "        57.14285714,  59.18367347,  61.2244898 ,  63.26530612,\n",
              "        65.30612245,  67.34693878,  69.3877551 ,  71.42857143,\n",
              "        73.46938776,  75.51020408,  77.55102041,  79.59183673,\n",
              "        81.63265306,  83.67346939,  85.71428571,  87.75510204,\n",
              "        89.79591837,  91.83673469,  93.87755102,  95.91836735,\n",
              "        97.95918367, 100.        ])},\n",
              "             pre_dispatch='2*n_jobs', refit=True, return_train_score=False,\n",
              "             scoring='roc_auc', verbose=0)"
            ]
          },
          "metadata": {
            "tags": []
          },
          "execution_count": 49
        }
      ]
    },
    {
      "cell_type": "code",
      "metadata": {
        "colab": {
          "base_uri": "https://localhost:8080/"
        },
        "id": "Sfp8cv11ZqpU",
        "outputId": "75e3d4d7-6a4d-49f8-ed2f-a747ba63b2e5"
      },
      "source": [
        "logit_grid.best_params_"
      ],
      "execution_count": 56,
      "outputs": [
        {
          "output_type": "execute_result",
          "data": {
            "text/plain": [
              "{'C': 10.204081632653061}"
            ]
          },
          "metadata": {
            "tags": []
          },
          "execution_count": 56
        }
      ]
    },
    {
      "cell_type": "code",
      "metadata": {
        "colab": {
          "base_uri": "https://localhost:8080/"
        },
        "id": "M9sttHXza61d",
        "outputId": "b1fbed79-5707-4c9f-a221-92a164d55b17"
      },
      "source": [
        "logit_predict_f = logit_grid.best_estimator_.predict_proba(final_valid_new)\n",
        "print('RocAuc score for valid sample = {}'.format(round(roc_auc_score(y_valid, logit_predict_f[:, 1]), 5)))"
      ],
      "execution_count": 61,
      "outputs": [
        {
          "output_type": "stream",
          "text": [
            "RocAuc score for valid sample = 0.98692\n"
          ],
          "name": "stdout"
        }
      ]
    },
    {
      "cell_type": "code",
      "metadata": {
        "colab": {
          "base_uri": "https://localhost:8080/"
        },
        "id": "iCoZH0poYbgW",
        "outputId": "3e2cd7fa-b61a-487c-e272-025e45138f74"
      },
      "source": [
        "%%time\n",
        "sgd_grid.fit(final_train_new, y_train)"
      ],
      "execution_count": 50,
      "outputs": [
        {
          "output_type": "stream",
          "text": [
            "CPU times: user 1.99 s, sys: 282 ms, total: 2.27 s\n",
            "Wall time: 31.5 s\n"
          ],
          "name": "stdout"
        },
        {
          "output_type": "execute_result",
          "data": {
            "text/plain": [
              "GridSearchCV(cv=3, error_score=nan,\n",
              "             estimator=SGDClassifier(alpha=0.0001, average=False,\n",
              "                                     class_weight=None, early_stopping=False,\n",
              "                                     epsilon=0.1, eta0=0.0, fit_intercept=True,\n",
              "                                     l1_ratio=0.15, learning_rate='optimal',\n",
              "                                     loss='log', max_iter=1000,\n",
              "                                     n_iter_no_change=5, n_jobs=-1,\n",
              "                                     penalty='l2', power_t=0.5, random_state=17,\n",
              "                                     shuffle=True, tol=0.001,\n",
              "                                     validation_fraction=0.1, verbos...\n",
              "       8.86206897e-05, 9.51724138e-05, 1.01724138e-04, 1.08275862e-04,\n",
              "       1.14827586e-04, 1.21379310e-04, 1.27931034e-04, 1.34482759e-04,\n",
              "       1.41034483e-04, 1.47586207e-04, 1.54137931e-04, 1.60689655e-04,\n",
              "       1.67241379e-04, 1.73793103e-04, 1.80344828e-04, 1.86896552e-04,\n",
              "       1.93448276e-04, 2.00000000e-04])},\n",
              "             pre_dispatch='2*n_jobs', refit=True, return_train_score=False,\n",
              "             scoring='roc_auc', verbose=0)"
            ]
          },
          "metadata": {
            "tags": []
          },
          "execution_count": 50
        }
      ]
    },
    {
      "cell_type": "code",
      "metadata": {
        "colab": {
          "base_uri": "https://localhost:8080/"
        },
        "id": "zkybYhqFa19P",
        "outputId": "7854a8db-55e5-4440-a276-d1a9403813e0"
      },
      "source": [
        "sgd_grid.best_params_"
      ],
      "execution_count": 57,
      "outputs": [
        {
          "output_type": "execute_result",
          "data": {
            "text/plain": [
              "{'alpha': 1e-05}"
            ]
          },
          "metadata": {
            "tags": []
          },
          "execution_count": 57
        }
      ]
    },
    {
      "cell_type": "code",
      "metadata": {
        "colab": {
          "base_uri": "https://localhost:8080/"
        },
        "id": "J3ZfCpm5dABM",
        "outputId": "df4d0161-8b0a-4646-b776-7e5aa60853b1"
      },
      "source": [
        "sgd_predict_f = sgd_grid.best_estimator_.predict_proba(final_valid_new)\n",
        "print('RocAuc score for valid sample = {}'.format(round(roc_auc_score(y_valid, sgd_predict_f[:, 1]), 5)))"
      ],
      "execution_count": 62,
      "outputs": [
        {
          "output_type": "stream",
          "text": [
            "RocAuc score for valid sample = 0.98308\n"
          ],
          "name": "stdout"
        }
      ]
    },
    {
      "cell_type": "code",
      "metadata": {
        "colab": {
          "base_uri": "https://localhost:8080/"
        },
        "id": "ML-8ipjEdY2c",
        "outputId": "7e1c7a4b-1ade-4883-8515-a508800badb7"
      },
      "source": [
        "#So lets fit our best estimators on the whole train sample and make the final submission one for each estimator\n",
        "%%time\n",
        "logit_sub = LogisticRegression(C=logit_grid.best_params_['C'], random_state=17, n_jobs=-1)\n",
        "logit_sub.fit(final_train_X, y)\n",
        "final_logit_scores = logit_sub.predict_proba(final_test_sample)\n",
        "write_to_submission_file(final_logit_scores[:, 1], 'logit_final.csv')\n",
        "\n",
        "sgd_sub = SGDClassifier(alpha=sgd_grid.best_params_['alpha'], random_state=17, n_jobs=-1, loss='log')\n",
        "sgd_sub.fit(final_train_X, y)\n",
        "final_sgd_scores = sgd_sub.predict_proba(final_test_sample)\n",
        "write_to_submission_file(final_sgd_scores[:, 1], 'sgd_final.csv')"
      ],
      "execution_count": 65,
      "outputs": [
        {
          "output_type": "stream",
          "text": [
            "CPU times: user 2.35 s, sys: 142 ms, total: 2.49 s\n",
            "Wall time: 7.36 s\n"
          ],
          "name": "stdout"
        }
      ]
    },
    {
      "cell_type": "markdown",
      "metadata": {
        "id": "A4TaHlWggras"
      },
      "source": [
        "**So Logistic regression showed 0.94180 and the final sgdClassifier showed 0.94601 which is improvment of our last submission**"
      ]
    },
    {
      "cell_type": "markdown",
      "metadata": {
        "id": "DuAs95uJg5tn"
      },
      "source": [
        "##**Part 11. Conclusions**"
      ]
    },
    {
      "cell_type": "markdown",
      "metadata": {
        "id": "eM52ueQOhAMW"
      },
      "source": [
        "**Of course we can try to work with our features to create some new ones to delete some of existing ones to try some more estimators and so on. But I think we did a great job as for the first project. We found out what is feature engineering, how to improve our results using GridSearch, and also how to work with the raw data and how to optimize functions. So that was the first one but definitely not the last one. Thank you for reading all of this:) and good luck to us all in the future things.**"
      ]
    }
  ]
}